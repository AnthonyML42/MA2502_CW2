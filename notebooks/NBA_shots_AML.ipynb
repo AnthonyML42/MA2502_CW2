{
 "cells": [
  {
   "cell_type": "code",
   "execution_count": null,
   "id": "23eb425f-7288-447d-a604-159c6572849e",
   "metadata": {
    "editable": true,
    "slideshow": {
     "slide_type": ""
    },
    "tags": [],
    "vscode": {
     "languageId": "r"
    }
   },
   "outputs": [],
   "source": [
    "list.of.packages <- c(\"tidyverse\", \"data.table\", \"dtplyr\", \"arrow\", \"dbplyr\", \"duckdb\", \"lme4\", \"lmerTest\", \"dbscan\", \"pROC\", \"caTools\", \"ez\", \"matrixStats\", \"brms\" , \"glmnet\")\n",
    "new.packages <- list.of.packages[!(list.of.packages %in% installed.packages()[,\"Package\"])]\n",
    "if(length(new.packages)) install.packages(new.packages)\n",
    "\n",
    "library(tidyverse)\n",
    "library(data.table)\n",
    "library(dtplyr)\n",
    "#library(dplyr, warn.conflicts = FALSE)\n",
    "library(arrow)\n",
    "library(duckdb)\n",
    "library(lme4)\n",
    "library(lmerTest)\n",
    "library(dbscan)\n",
    "library(pROC)\n",
    "library(caTools)\n",
    "library(ez)\n",
    "library(matrixStats)\n",
    "library(brms)\n",
    "library(glmnet)"
   ]
  },
  {
   "cell_type": "code",
   "execution_count": null,
   "id": "5c240597-4060-4862-a334-d99d9a78d27d",
   "metadata": {
    "vscode": {
     "languageId": "r"
    }
   },
   "outputs": [],
   "source": [
    "raw_shots <- read_csv(\"../Data/NBA_Shots_Raw.csv\")\n",
    "player_info <- read_csv(\"../Data/Player_Info.csv\")\n",
    "player_salary <- read_csv(\"../Data/Player_Salary.csv\")\n",
    "player_info <- player_info %>% mutate(PLAYER_NAME = paste(First_Name, Surname))\n",
    "player_salary <- player_salary %>% rename(PLAYER_NAME = Name)\n",
    "clean_shots <- read_csv(\"../Data/NBA_Shots_Clean_Example.csv\")\n",
    "common_player_info <- read_csv(\"../Data/wyatt_basketball/csv/common_player_info.csv\")\n",
    "common_player_info <- common_player_info %>% mutate(PLAYER_NAME = paste(first_name, last_name))\n",
    "height_2014 <- read_csv(\"../Data/NBA-Height-Weight/CSVs/Yearly/2014.csv\") # https://github.com/simonwarchol/NBA-Height-Weight\n",
    "height_2014 <- height_2014 %>% rename(PLAYER_NAME = Name)\n",
    "\n",
    "#clean_shots <- clean_shots %>% mutate(across(where(is.character), ~ str_replace_all(., \"Kyle Oquinn\", \"Kyle O'Quinn\")))\n",
    "#clean_shots <- clean_shots %>% mutate(across(where(is.character), ~ str_replace_all(., \"Al Farouq Aminu\", \"Al-Farouq Aminu\")))\n",
    "#clean_shots <- clean_shots %>% mutate(across(where(is.character), ~ str_replace_all(., \"Lamarcus Aldridge\", \"LaMarcus Aldridge\")))\n",
    "#clean_shots <- clean_shots %>% mutate(across(where(is.character), ~ str_replace_all(., \"Oj Mayo\", \"O.J. Mayo\")))\n",
    "#clean_shots <- clean_shots %>% mutate(across(where(is.character), ~ str_replace_all(., \"Cj Miles\", \"C.J. Miles\")))\n",
    "\n",
    "typos <- list(\n",
    "    \"Time Hardaway Jr\" = \"Tim Hardaway Jr\",\n",
    "    \"Steve Adams\" = \"Steven Adams\",\n",
    "    \"Jose Juan Barea\" = \"Jj Barea\",\n",
    "    \"Glen Rice Jr\" = \"Glen Rice\",\n",
    "    \"Charles Hayes\" = \"Chuck Hayes\", # technically correct but more sources with chuck\n",
    "    \"Ishmael Smith\" = \"Ish Smith\", # as above\n",
    "    \"Patrick Mills\" = \"Patty Mills\", # etc\n",
    "  #\"Luc Mbah\" = \"Luc Mbah A Moute\"\n",
    "    \"Na Nene\" = \"Nene\"\n",
    ")\n",
    "\n",
    "replace_strings <- function(df, replacements) {\n",
    "  # Loop through the replacements\n",
    "  df %>%\n",
    "    mutate(across(where(is.character), ~{\n",
    "      for (pattern in names(replacements)) {\n",
    "        # Apply only the specific replacements, avoiding duplicate replacement\n",
    "        . <- str_replace_all(., pattern, replacements[[pattern]])\n",
    "      }\n",
    "      .\n",
    "    }))\n",
    "}\n",
    "\n",
    "\n",
    "clean_name <- function(name) {\n",
    "  name %>%\n",
    "    str_replace_all(\"-\", \" \") %>%\n",
    "    str_replace_all(\"'\", \"\") %>%\n",
    "    str_remove_all(\"\\\\.\") %>%\n",
    "    str_to_title()\n",
    "}\n",
    "\n",
    "\n",
    "\n",
    "player_info <- player_info %>%\n",
    "    mutate(PLAYER_NAME = clean_name(PLAYER_NAME))\n",
    "\n",
    "           \n",
    "clean_shots <- clean_shots %>%\n",
    "    mutate(PLAYER_NAME = clean_name(PLAYER_NAME),\n",
    "          CLOSEST_DEFENDER = clean_name(CLOSEST_DEFENDER))\n",
    "\n",
    "# shortcut usig slug col\n",
    "common_player_info <- common_player_info %>%\n",
    "    mutate(PLAYER_NAME = player_slug) %>%\n",
    "    mutate(PLAYER_NAME = str_replace_all(PLAYER_NAME, \"-\", \" \")) %>%\n",
    "    mutate(PLAYER_NAME = str_to_title(PLAYER_NAME))\n",
    "\n",
    "height_2014 <- height_2014 %>%\n",
    "    mutate(PLAYER_NAME = clean_name(PLAYER_NAME))\n",
    "\n",
    "\n",
    "clean_shots <- replace_strings(clean_shots, typos)\n",
    "player_info <- replace_strings(player_info, typos)\n",
    "common_player_info <- replace_strings(common_player_info, typos)\n",
    "height_2014 <- replace_strings(height_2014, typos)\n",
    "\n",
    "#explicit case because of his name and interactions with the regex\n",
    "player_info <- player_info %>% mutate(across(where(is.character), ~ str_replace_all(., \"Luc Mbah\", \"Luc Mbah A Moute\")))\n",
    "\n",
    "# more explictit cases (for now)\n",
    "height_2014 <- height_2014 %>% mutate(across(where(is.character), ~ str_replace_all(., \"Jose Barea\", \"Jj Barea\")))\n",
    "\n",
    "# in common_player_info there is a duplicate row for glen rice, and the younger is not called jr... So by hand:\n",
    "\n",
    "common_player_info <- common_player_info %>% filter(person_id != 779)"
   ]
  },
  {
   "cell_type": "code",
   "execution_count": null,
   "id": "24d111f8-a65d-45c8-91bf-9333cff7613a",
   "metadata": {
    "vscode": {
     "languageId": "r"
    }
   },
   "outputs": [],
   "source": [
    "colnames(clean_shots)\n",
    "colnames(player_info)\n",
    "colnames(player_salary)\n",
    "colnames(height_2014)\n",
    "#player_statistics %>% count() %>% collect()\n",
    "#head(raw_shots)\n",
    "#head(player_info)\n",
    "#head(player_salary)"
   ]
  },
  {
   "cell_type": "code",
   "execution_count": null,
   "id": "544a2b07-c939-471f-90d1-88920c260a20",
   "metadata": {
    "vscode": {
     "languageId": "r"
    }
   },
   "outputs": [],
   "source": [
    "options(repr.plot.width = 10, repr.plot.height = 7)\n",
    "\n",
    "s <- raw_shots %>% \n",
    "    left_join(player_info %>% select(Pos, PLAYER_NAME), by = \"PLAYER_NAME\") %>%\n",
    "    filter(!is.na(Pos)) %>%\n",
    "    select(SHOT_DIST, Pos)\n",
    "\n",
    "ggplot(s, aes(x = SHOT_DIST)) +\n",
    "    geom_histogram(bins = 30, fill = \"blue\", color = \"black\", alpha = 0.5) +\n",
    "    facet_wrap(~ Pos) +\n",
    "    labs(title = \"Shot Distance Distribution by Position\",\n",
    "       x = \"Shot Distance (feet)\",\n",
    "       y = \"Frequency\") +\n",
    "    theme_minimal()"
   ]
  },
  {
   "cell_type": "code",
   "execution_count": null,
   "id": "1b3b91f1-00a2-4a8a-a8fb-b4681e93205d",
   "metadata": {
    "vscode": {
     "languageId": "r"
    }
   },
   "outputs": [],
   "source": [
    "l1 <- raw_shots %>%\n",
    "    left_join(player_info %>% select(Pos, PLAYER_NAME), by = \"PLAYER_NAME\", relationship=\"many-to-many\") %>%\n",
    "    filter(!is.na(Pos)) %>%\n",
    "    group_by(PLAYER_NAME, Pos) %>% \n",
    "    summarize(tot_FGM = sum(FGM), .groups=\"drop\") %>% \n",
    "    arrange(desc(tot_FGM))\n",
    "l2 <- raw_shots %>% \n",
    "    filter(FGM == 1) %>% \n",
    "    group_by(PLAYER_NAME) %>%\n",
    "    summarise(\n",
    "        total_FGM = n(),\n",
    "        pct_3pt = sum(PTS_TYPE == 3),\n",
    "        pct_2pt = sum(PTS_TYPE == 2)\n",
    "    ) %>%\n",
    "    left_join(player_info %>% select(Pos, PLAYER_NAME, Team, Age), by = \"PLAYER_NAME\", relationship=\"many-to-many\")"
   ]
  },
  {
   "cell_type": "code",
   "execution_count": null,
   "id": "fa7834ce-dba1-4eb7-8164-4eab5e9424f3",
   "metadata": {
    "vscode": {
     "languageId": "r"
    }
   },
   "outputs": [],
   "source": [
    "raw_shots %>% summarise(unique_players = n_distinct(PLAYER_NAME))\n",
    "player_info %>% summarise(unique_players = n_distinct(PLAYER_NAME))\n",
    "player_salary %>% summarise(unique_players = n_distinct(PLAYER_NAME))"
   ]
  },
  {
   "cell_type": "code",
   "execution_count": null,
   "id": "8f19a64c-2571-4083-90c4-9be5e238b22f",
   "metadata": {
    "vscode": {
     "languageId": "r"
    }
   },
   "outputs": [],
   "source": [
    "#clean_shots %>% \n",
    "#    filter(PERIOD <= 3) %>%\n",
    "#    select(HOME_TEAM, AWAY_TEAM, WIN_LOSE)\n",
    "#    group_by(\n",
    "\n",
    "#clean_shots %>% \n",
    "#    select(GAME_ID, FINAL_MARGIN, WIN_LOSE, HOME_TEAM, AWAY_TEAM, LOCATION) %>%\n",
    "#    filter(abs(FINAL_MARGIN) <= 3) %>% #no need to filter for w/l\n",
    " #   distinct(GAME_ID, .keep_all=TRUE) %>%\n",
    "#    summarise(home_win_pct = 100*sum(FINAL_MARGIN > 0 & LOCATION == \"H\")/sum(LOCATION == \"H\"))\n",
    "\n",
    "\n",
    "#clean_shots %>%\n",
    "#    select(GAME_ID, WIN_LOSE, HOME_TEAM, AWAY_TEAM, LOCATION, PERIOD, PTS_TYPE, SUCCESS) %>%\n",
    "#    mutate(pts = PTS_TYPE * SUCCESS) %>%\n",
    "#    filter(PERIOD <= 3) %>%\n",
    "#    group_by(GAME_ID, LOCATION) %>%\n",
    "#    summarise(total_pts = sum(pts), .groups = \"drop\") %>%\n",
    "#    pivot_wider(names_from = LOCATION, values_from = total_pts, names_prefix = \"pts_\") %>%\n",
    "#    summarise(pts_diff_H = pts_H-pts_A)\n",
    "\n",
    "home_win <- clean_shots %>%\n",
    "    filter(LOCATION == \"H\") %>%\n",
    "    select(GAME_ID, HOME_TEAM, AWAY_TEAM, WIN_LOSE) %>%\n",
    "    distinct(GAME_ID, .keep_all=TRUE)\n",
    "\n",
    "clean_shots %>%\n",
    "    filter(PERIOD <= 3) %>%\n",
    "    mutate(pts = PTS_TYPE * SUCCESS) %>%\n",
    "    group_by(GAME_ID, LOCATION) %>%\n",
    "    summarise(total_pts = sum(pts), .groups = \"drop\") %>%\n",
    "    pivot_wider(names_from = LOCATION, values_from = total_pts, names_prefix = \"pts_\") %>%\n",
    "    left_join(home_win, by=\"GAME_ID\") %>%\n",
    "    rename(HOME_RESULT = WIN_LOSE) %>%\n",
    "    mutate(pts_diff = abs(pts_H - pts_A)) %>%\n",
    "    filter(pts_diff <= 3) %>%\n",
    "    summarise(\n",
    "        home_pct_win = sum(HOME_RESULT == \"W\")/n(),\n",
    "        home_wins = sum(HOME_RESULT == \"W\"),\n",
    "        total_games = n()\n",
    "    )\n",
    "\n",
    "binom.test(x=86, n=161, p=0.5, alternative=\"greater\")"
   ]
  },
  {
   "cell_type": "code",
   "execution_count": null,
   "id": "5b44c48c",
   "metadata": {
    "vscode": {
     "languageId": "r"
    }
   },
   "outputs": [],
   "source": [
    "play_by_play <- open_dataset(\"../Data/wyatt_basketball/csv/play_by_play.csv\", format=\"csv\")"
   ]
  },
  {
   "cell_type": "code",
   "execution_count": null,
   "id": "6b6b98bc-cd50-4684-9e6a-ce32e4b7146e",
   "metadata": {
    "vscode": {
     "languageId": "r"
    }
   },
   "outputs": [],
   "source": [
    "convert_to_cm <- function(feet_inches) {\n",
    "  split_height <- strsplit(feet_inches, \"-\")\n",
    "  \n",
    "  feet <- sapply(split_height, function(x) as.numeric(x[1]))\n",
    "  inches <- sapply(split_height, function(x) as.numeric(x[2]))\n",
    "  \n",
    "  cm_height <- (feet * 30.48) + (inches * 2.54)\n",
    "  \n",
    "  return(cm_height)\n",
    "}\n",
    "convert_to_cm <- Vectorize(convert_to_cm)"
   ]
  },
  {
   "cell_type": "code",
   "execution_count": null,
   "id": "7edcfde0",
   "metadata": {
    "vscode": {
     "languageId": "r"
    }
   },
   "outputs": [],
   "source": [
    "predictors <- c(\"GAME_ID\", \"PLAYER_NAME\", \"CLOSEST_DEFENDER\" ,\"SHOT_DIST\", \"PTS_TYPE\", \"CLOSE_DEF_DIST\", \"SHOT_CLOCK\", \"TOUCH_TIME\", \"PERIOD\", \"SUCCESS\")\n",
    "colnames(clean_shots)\n",
    "\n",
    "distinct_players_and_defenders <- union(\n",
    "    clean_shots %>% distinct(PLAYER_NAME),\n",
    "    clean_shots %>% distinct(CLOSEST_DEFENDER) %>% rename(PLAYER_NAME = CLOSEST_DEFENDER)\n",
    ")\n",
    "\n",
    "player_height_pos <- distinct_players_and_defenders %>%\n",
    "    left_join(player_info %>% select(PLAYER_NAME, Height, Pos), by=\"PLAYER_NAME\") %>%\n",
    "    rename(H1 = Height)\n",
    "\n",
    "player_height_pos <- player_height_pos %>%\n",
    "    left_join(common_player_info %>% select(PLAYER_NAME, height, position), by=\"PLAYER_NAME\", relationship = \"many-to-many\") %>%\n",
    "    rename(H2 = height)\n",
    "   \n",
    "player_height_pos <- player_height_pos %>%\n",
    "    left_join(height_2014 %>% select(PLAYER_NAME, \"Height(Feet-Inches)\"), by=\"PLAYER_NAME\") %>%\n",
    "    rename(H3 = \"Height(Feet-Inches)\") \n",
    "# look at overlaps/ number of NAs in different height data now, then choose method to have only one col next\n",
    "\n",
    "\n",
    "player_height_pos %>%\n",
    "  group_by(PLAYER_NAME) %>%\n",
    "  summarise(\n",
    "    H1_na = any(is.na(H1)),\n",
    "    H2_na = any(is.na(H2)),\n",
    "    H3_na = any(is.na(H3)),\n",
    "    H_all_na = all(is.na(H1) & is.na(H2) & is.na(H3))\n",
    "  ) %>%\n",
    "  summarise(\n",
    "    H1_na_count = sum(H1_na),\n",
    "    H2_na_count = sum(H2_na),\n",
    "    H3_na_count = sum(H3_na),\n",
    "    H_all_na_count = sum(H_all_na)\n",
    "  )\n",
    "\n",
    "\n",
    "player_height_pos <- player_height_pos %>%\n",
    "    mutate(\n",
    "    H2 = ifelse(!is.na(H2), convert_to_cm(H2), NA),\n",
    "    H3 = ifelse(!is.na(H3), convert_to_cm(H3), NA),\n",
    "    HEIGHT = case_when(\n",
    "        !is.na(H1) ~ H1,\n",
    "        is.na(H1) ~ rowMeans2(cbind(H2, H3), na.rm = TRUE),\n",
    "        TRUE ~ NA_real_\n",
    "    ))\n",
    "\n",
    "\n",
    "model_data <- clean_shots %>% \n",
    "    select(all_of(predictors)) %>%\n",
    "    left_join(player_height_pos %>% select(PLAYER_NAME, HEIGHT), by=\"PLAYER_NAME\", relationship = \"many-to-many\") %>%\n",
    "    rename(SHOOTER_HEIGHT = HEIGHT) %>%\n",
    "    left_join(player_height_pos %>% select(PLAYER_NAME, HEIGHT) %>% rename(CLOSEST_DEFENDER = PLAYER_NAME), \n",
    "        by=\"CLOSEST_DEFENDER\", relationship = \"many-to-many\") %>%\n",
    "    rename(DEFENDER_HEIGHT = HEIGHT) %>%\n",
    "    mutate(SHOOTER_HEIGHT_ADV = SHOOTER_HEIGHT - DEFENDER_HEIGHT) %>%\n",
    "    filter(PERIOD <= 4) %>%\n",
    "    mutate(across(c(\"GAME_ID\", \"PLAYER_NAME\", \"CLOSEST_DEFENDER\", \"PERIOD\", \"SUCCESS\", \"PTS_TYPE\"), as.factor))\n",
    "\n",
    "\n",
    "set.seed(0)\n",
    "train_indices <- sample(1:nrow(model_data), size = 0.70 * nrow(model_data))\n",
    "train_data <- model_data[train_indices, ]\n",
    "test_data <- model_data[-train_indices, ]\n",
    "\n",
    "#dplyr::filter(clean_shots, grepl(\"Kyle\",PLAYER_NAME)) ## found issues with apostrophe in name of Kyle O'Quinn (was Oquinn)\n",
    "\n",
    "#player_info %>% filter(Team == \"LAL\") %>% distinct(PLAYER_NAME)\n",
    "\n",
    "#Robert Sacre not in player_info. Plays for LAL\n",
    "#Jason Terry not in either. Plays for HOU\n",
    "#John Salmons not in player_info. Played for NOP and got traded to PHX midseason\n",
    "#Brandan Wright not in player_info. Played for BOS and got traded to PHX at some point\n",
    "#Cody Zeller ... Played for Charlotte Bobcats\n",
    "\n",
    "model_data %>% filter(is.na(DEFENDER_HEIGHT)) %>% distinct(CLOSEST_DEFENDER)\n",
    "\n",
    "model_data %>% filter(PTS_TYPE == 3) %>% head(10)"
   ]
  },
  {
   "cell_type": "code",
   "execution_count": null,
   "id": "ceb64b51",
   "metadata": {
    "vscode": {
     "languageId": "r"
    }
   },
   "outputs": [],
   "source": [
    "train_data <- train_data %>%\n",
    "  mutate(\n",
    "    SHOT_DIST = scale(SHOT_DIST),\n",
    "    CLOSE_DEF_DIST = scale(CLOSE_DEF_DIST),\n",
    "    TOUCH_TIME = scale(TOUCH_TIME),\n",
    "    SHOOTER_HEIGHT_ADV = scale(SHOOTER_HEIGHT_ADV),\n",
    "    SHOT_CLOCK = scale(SHOT_CLOCK)\n",
    "  )\n",
    "\n",
    "test_data <- test_data %>%\n",
    "  mutate(\n",
    "    SHOT_DIST = scale(SHOT_DIST),\n",
    "    CLOSE_DEF_DIST = scale(CLOSE_DEF_DIST),\n",
    "    TOUCH_TIME = scale(TOUCH_TIME),\n",
    "    SHOOTER_HEIGHT_ADV = scale(SHOOTER_HEIGHT_ADV),\n",
    "    SHOT_CLOCK = scale(SHOT_CLOCK)\n",
    "  )\n",
    "\n",
    "\n",
    "\n",
    "train_data <- na.omit(train_data)\n",
    "test_data <- na.omit(test_data)\n",
    "\n",
    "log_model <- glm(SUCCESS ~ SHOT_DIST + CLOSE_DEF_DIST + TOUCH_TIME + SHOOTER_HEIGHT_ADV + PERIOD + SHOT_CLOCK + PTS_TYPE, \n",
    "                 data=train_data, family=binomial(link=\"logit\"))\n",
    "\n",
    "summary(log_model)\n",
    "\n",
    "\n",
    "log_mixed_model <- glmer(SUCCESS ~ SHOT_DIST + CLOSE_DEF_DIST + TOUCH_TIME + SHOOTER_HEIGHT_ADV + PERIOD + SHOT_CLOCK + PTS_TYPE\n",
    "                         + (1 | GAME_ID) + (1 | PLAYER_NAME),\n",
    "                    data = train_data,\n",
    "                   family=binomial(link = \"logit\"),\n",
    "                        nAGQ = 0)\n",
    "\n",
    "#summary(log_mixed_model)\n",
    "#test_data$pred_prob <- predict(log_mm_model, type = \"response\", newdata=test_data)\n",
    "#roc(SUCCESS ~ pred_prob, data = test_data)\n",
    "#summary(log_model)\n",
    "\n",
    "#brm_model <- brm(\n",
    "#    formula = SUCCESS ~ SHOT_DIST + CLOSE_DEF_DIST + TOUCH_TIME + SHOOTER_HEIGHT_ADV +\n",
    "#            SHOT_CLOCK + PTS_TYPE + (1 | PLAYER_NAME),\n",
    "#    data = train_data,\n",
    "#    family = bernoulli(),\n",
    "#    chains = 4,\n",
    "#    cores = 4,\n",
    "#    iter = 100\n",
    "#    )\n",
    "\n",
    "\n",
    "## the output will explode if you put GAME_ID or PLAYER_NAME in here \n",
    "x_train <- model.matrix(SUCCESS ~ SHOT_DIST + CLOSE_DEF_DIST + TOUCH_TIME + SHOOTER_HEIGHT_ADV + PERIOD + SHOT_CLOCK + PTS_TYPE, data = train_data)[, -1]\n",
    "y_train <- train_data$SUCCESS\n",
    "\n",
    "x_test <- model.matrix(SUCCESS ~ SHOT_DIST + CLOSE_DEF_DIST + TOUCH_TIME + SHOOTER_HEIGHT_ADV + PERIOD + SHOT_CLOCK + PTS_TYPE, data = test_data)[, -1]\n",
    "y_test <- test_data$SUCCESS\n",
    "\n",
    "cv.out <- cv.glmnet(x_train, y_train, family = \"binomial\", alpha = 1, type.measure = \"auc\")\n",
    "plot(cv.out)\n",
    "lambda_opt <- cv.out$lambda.min\n",
    "\n",
    "log_lasso_model <- glmnet(x_train, y_train, family = \"binomial\", alpha=1, lambda=lambda_opt)"
   ]
  },
  {
   "cell_type": "code",
   "execution_count": null,
   "id": "e64954be-36f8-41b0-ba9a-e59f46970ee8",
   "metadata": {},
   "outputs": [],
   "source": [
    "summary(log_model)\n",
    "summary(log_mixed_model)\n",
    "summary(log_lasso_model)\n",
    "log_lasso_model$beta"
   ]
  },
  {
   "cell_type": "code",
   "execution_count": null,
   "id": "6269ddb0-2b1d-48d6-b5b2-e3d518dc1945",
   "metadata": {},
   "outputs": [],
   "source": [
    "model_auroc <- function(model, test_data) {\n",
    "    pred_prob <- predict(model, newdata = test_data, type=\"response\")\n",
    "    roc_obj <- roc(test_data$SUCCESS, as.vector(pred_prob), ci=TRUE)\n",
    "    return(roc_obj)\n",
    "}\n",
    "\n",
    "residual_deviance_plot <- function(model, title_str) {\n",
    "    plot_data <- data.frame(\n",
    "        fitted = fitted(model),\n",
    "        residuals = residuals(model, type = \"deviance\")\n",
    "    )\n",
    "    \n",
    "    resid_plot <- ggplot(plot_data, aes(x = fitted, y = residuals)) +\n",
    "    geom_point(alpha = 0.3, size = 0.8) +\n",
    "    geom_hline(yintercept = 0, color = \"red\", linetype = \"dashed\") + \n",
    "    geom_smooth() +\n",
    "    labs(\n",
    "        title = paste0(title_str, \": Residuals vs Fitted\"),\n",
    "        subtitle = \"Deviance residuals plotted against predicted probabilities\",\n",
    "        x = \"Fitted values (predicted probabilities)\",\n",
    "        y = \"Deviance residuals\"\n",
    "    ) +\n",
    "    theme_bw() +\n",
    "    theme(\n",
    "        panel.grid.minor = element_blank(),\n",
    "        panel.grid.major = element_line(color = \"grey90\"),\n",
    "        plot.title = element_text(hjust = 0.5, face = \"bold\"),\n",
    "        plot.subtitle = element_text(hjust = 0.5, color = \"darkgrey\")\n",
    "    )\n",
    "    return(resid_plot)\n",
    "}\n",
    "\n",
    "model_auroc(log_model, test_data)$ci\n",
    "model_auroc(log_mixed_model, test_data)$ci\n",
    "pred_prob <- predict(log_lasso_model, newx = x_test, type=\"response\")\n",
    "roc(y_test, as.vector(pred_prob), ci=TRUE)$ci\n",
    "\n",
    "residual_deviance_plot(log_model, \"Logistc model\")\n",
    "residual_deviance_plot(log_mixed_model, \"Logistic mixed-effects\")"
   ]
  },
  {
   "cell_type": "code",
   "execution_count": null,
   "id": "8624de99",
   "metadata": {
    "vscode": {
     "languageId": "r"
    }
   },
   "outputs": [],
   "source": [
    "ggplot(clean_shots, aes(x=SHOT_DIST, y=TOUCH_TIME)) + \n",
    "    geom_point()\n",
    "cor(model_data %>% select(SHOT_DIST, SHOT_CLOCK, TOUCH_TIME, CLOSE_DEF_DIST))"
   ]
  },
  {
   "cell_type": "code",
   "execution_count": null,
   "id": "94e5f50f",
   "metadata": {
    "vscode": {
     "languageId": "r"
    }
   },
   "outputs": [],
   "source": [
    "period_mtt <- clean_shots %>%\n",
    "    group_by(GAME_ID, PERIOD) %>%\n",
    "    summarise(mean_tt = mean(TOUCH_TIME))\n",
    "\n",
    "ggplot(period_mtt, aes(x = factor(PERIOD), y = mean_tt)) +\n",
    "  geom_boxplot() +\n",
    "  labs(\n",
    "    x = \"Period\",\n",
    "    y = \"Mean Touch Time\",\n",
    "    title = \"Distribution of Mean Touch Time by Period\"\n",
    "  )\n",
    "\n",
    "clean_shots %>% \n",
    "    filter(PERIOD >= 5) %>%\n",
    "    summarise(overtime_games = n_distinct(GAME_ID))\n",
    "\n",
    "period_mtt <- period_mtt %>% filter(PERIOD <= 4) %>% mutate_at(c(\"PERIOD\", \"GAME_ID\"), as.factor)\n",
    "\n",
    "summary(aov(mean_tt ~ PERIOD, data=period_mtt))\n",
    "\n",
    "model <- lmer(mean_tt ~ PERIOD + (1|GAME_ID), data = period_mtt)\n",
    "\n",
    "anova(model)\n",
    "\n",
    "summary(model)"
   ]
  },
  {
   "cell_type": "code",
   "execution_count": null,
   "id": "e77d9db1",
   "metadata": {
    "vscode": {
     "languageId": "r"
    }
   },
   "outputs": [],
   "source": []
  }
 ],
 "metadata": {
  "kernelspec": {
   "display_name": "R",
   "language": "R",
   "name": "ir"
  },
  "language_info": {
   "codemirror_mode": "r",
   "file_extension": ".r",
   "mimetype": "text/x-r-source",
   "name": "R",
   "pygments_lexer": "r",
   "version": "4.4.3"
  }
 },
 "nbformat": 4,
 "nbformat_minor": 5
}
