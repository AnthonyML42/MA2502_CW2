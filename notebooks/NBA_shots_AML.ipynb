{
 "cells": [
  {
   "cell_type": "code",
   "execution_count": 2,
   "id": "23eb425f-7288-447d-a604-159c6572849e",
   "metadata": {
    "editable": true,
    "slideshow": {
     "slide_type": ""
    },
    "tags": [],
    "vscode": {
     "languageId": "r"
    }
   },
   "outputs": [
    {
     "name": "stderr",
     "output_type": "stream",
     "text": [
      "Warning message:\n",
      "\"package 'tidyverse' was built under R version 4.4.3\"\n",
      "Warning message:\n",
      "\"package 'tidyr' was built under R version 4.4.3\"\n",
      "Warning message:\n",
      "\"package 'readr' was built under R version 4.4.3\"\n",
      "Warning message:\n",
      "\"package 'purrr' was built under R version 4.4.3\"\n",
      "Warning message:\n",
      "\"package 'forcats' was built under R version 4.4.3\"\n",
      "Warning message:\n",
      "\"package 'lubridate' was built under R version 4.4.3\"\n",
      "── \u001b[1mAttaching core tidyverse packages\u001b[22m ──────────────────────── tidyverse 2.0.0 ──\n",
      "\u001b[32m✔\u001b[39m \u001b[34mdplyr    \u001b[39m 1.1.4     \u001b[32m✔\u001b[39m \u001b[34mreadr    \u001b[39m 2.1.5\n",
      "\u001b[32m✔\u001b[39m \u001b[34mforcats  \u001b[39m 1.0.0     \u001b[32m✔\u001b[39m \u001b[34mstringr  \u001b[39m 1.5.1\n",
      "\u001b[32m✔\u001b[39m \u001b[34mggplot2  \u001b[39m 3.5.1     \u001b[32m✔\u001b[39m \u001b[34mtibble   \u001b[39m 3.2.1\n",
      "\u001b[32m✔\u001b[39m \u001b[34mlubridate\u001b[39m 1.9.4     \u001b[32m✔\u001b[39m \u001b[34mtidyr    \u001b[39m 1.3.1\n",
      "\u001b[32m✔\u001b[39m \u001b[34mpurrr    \u001b[39m 1.0.4     \n",
      "── \u001b[1mConflicts\u001b[22m ────────────────────────────────────────── tidyverse_conflicts() ──\n",
      "\u001b[31m✖\u001b[39m \u001b[34mdplyr\u001b[39m::\u001b[32mfilter()\u001b[39m masks \u001b[34mstats\u001b[39m::filter()\n",
      "\u001b[31m✖\u001b[39m \u001b[34mdplyr\u001b[39m::\u001b[32mlag()\u001b[39m    masks \u001b[34mstats\u001b[39m::lag()\n",
      "\u001b[36mℹ\u001b[39m Use the conflicted package (\u001b[3m\u001b[34m<http://conflicted.r-lib.org/>\u001b[39m\u001b[23m) to force all conflicts to become errors\n",
      "Warning message:\n",
      "\"package 'data.table' was built under R version 4.4.3\"\n",
      "\n",
      "Attaching package: 'data.table'\n",
      "\n",
      "\n",
      "The following objects are masked from 'package:lubridate':\n",
      "\n",
      "    hour, isoweek, mday, minute, month, quarter, second, wday, week,\n",
      "    yday, year\n",
      "\n",
      "\n",
      "The following objects are masked from 'package:dplyr':\n",
      "\n",
      "    between, first, last\n",
      "\n",
      "\n",
      "The following object is masked from 'package:purrr':\n",
      "\n",
      "    transpose\n",
      "\n",
      "\n",
      "Warning message:\n",
      "\"package 'arrow' was built under R version 4.4.3\"\n",
      "\n",
      "Attaching package: 'arrow'\n",
      "\n",
      "\n",
      "The following object is masked from 'package:lubridate':\n",
      "\n",
      "    duration\n",
      "\n",
      "\n",
      "The following object is masked from 'package:utils':\n",
      "\n",
      "    timestamp\n",
      "\n",
      "\n",
      "Warning message:\n",
      "\"package 'duckdb' was built under R version 4.4.3\"\n",
      "Loading required package: DBI\n",
      "\n",
      "Warning message:\n",
      "\"package 'DBI' was built under R version 4.4.3\"\n",
      "Loading required package: Matrix\n",
      "\n",
      "\n",
      "Attaching package: 'Matrix'\n",
      "\n",
      "\n",
      "The following objects are masked from 'package:tidyr':\n",
      "\n",
      "    expand, pack, unpack\n",
      "\n",
      "\n",
      "Warning message:\n",
      "\"package 'dbscan' was built under R version 4.4.3\"\n",
      "\n",
      "Attaching package: 'dbscan'\n",
      "\n",
      "\n",
      "The following object is masked from 'package:stats':\n",
      "\n",
      "    as.dendrogram\n",
      "\n",
      "\n",
      "Type 'citation(\"pROC\")' for a citation.\n",
      "\n",
      "\n",
      "Attaching package: 'pROC'\n",
      "\n",
      "\n",
      "The following objects are masked from 'package:stats':\n",
      "\n",
      "    cov, smooth, var\n",
      "\n",
      "\n",
      "Warning message:\n",
      "\"package 'caTools' was built under R version 4.4.3\"\n"
     ]
    }
   ],
   "source": [
    "list.of.packages <- c(\"tidyverse\", \"data.table\", \"dtplyr\", \"arrow\", \"dbplyr\", \"duckdb\", \"lme4\", \"dbscan\", \"pROC\", \"caTools\")\n",
    "new.packages <- list.of.packages[!(list.of.packages %in% installed.packages()[,\"Package\"])]\n",
    "if(length(new.packages)) install.packages(new.packages)\n",
    "\n",
    "library(tidyverse)\n",
    "library(data.table)\n",
    "#library(dtplyr)\n",
    "#library(dplyr, warn.conflicts = FALSE)\n",
    "library(arrow)\n",
    "library(duckdb)\n",
    "library(lme4)\n",
    "library(dbscan)\n",
    "library(pROC)\n",
    "library(caTools)"
   ]
  },
  {
   "cell_type": "code",
   "execution_count": 25,
   "id": "5c240597-4060-4862-a334-d99d9a78d27d",
   "metadata": {
    "vscode": {
     "languageId": "r"
    }
   },
   "outputs": [
    {
     "name": "stderr",
     "output_type": "stream",
     "text": [
      "\u001b[1mRows: \u001b[22m\u001b[34m128069\u001b[39m \u001b[1mColumns: \u001b[22m\u001b[34m23\u001b[39m\n",
      "\u001b[36m──\u001b[39m \u001b[1mColumn specification\u001b[22m \u001b[36m────────────────────────────────────────────────────────\u001b[39m\n",
      "\u001b[1mDelimiter:\u001b[22m \",\"\n",
      "\u001b[31mchr\u001b[39m   (8): DATE, HOME_TEAM, AWAY_TEAM, PLAYER_NAME, LOCATION, W, SHOT_RESULT...\n",
      "\u001b[32mdbl\u001b[39m  (14): GAME_ID, PLAYER_ID, FINAL_MARGIN, SHOT_NUMBER, PERIOD, SHOT_CLOCK...\n",
      "\u001b[34mtime\u001b[39m  (1): GAME_CLOCK\n",
      "\n",
      "\u001b[36mℹ\u001b[39m Use `spec()` to retrieve the full column specification for this data.\n",
      "\u001b[36mℹ\u001b[39m Specify the column types or set `show_col_types = FALSE` to quiet this message.\n",
      "\u001b[1m\u001b[22mNew names:\n",
      "\u001b[36m•\u001b[39m `` -> `...1`\n",
      "\u001b[1mRows: \u001b[22m\u001b[34m475\u001b[39m \u001b[1mColumns: \u001b[22m\u001b[34m13\u001b[39m\n",
      "\u001b[36m──\u001b[39m \u001b[1mColumn specification\u001b[22m \u001b[36m────────────────────────────────────────────────────────\u001b[39m\n",
      "\u001b[1mDelimiter:\u001b[22m \",\"\n",
      "\u001b[31mchr\u001b[39m (8): Birth_Place, Birthdate, College, Experience, First_Name, Pos, Surna...\n",
      "\u001b[32mdbl\u001b[39m (5): ...1, Age, Height, Weight, BMI\n",
      "\n",
      "\u001b[36mℹ\u001b[39m Use `spec()` to retrieve the full column specification for this data.\n",
      "\u001b[36mℹ\u001b[39m Specify the column types or set `show_col_types = FALSE` to quiet this message.\n",
      "\u001b[1mRows: \u001b[22m\u001b[34m513\u001b[39m \u001b[1mColumns: \u001b[22m\u001b[34m2\u001b[39m\n",
      "\u001b[36m──\u001b[39m \u001b[1mColumn specification\u001b[22m \u001b[36m────────────────────────────────────────────────────────\u001b[39m\n",
      "\u001b[1mDelimiter:\u001b[22m \",\"\n",
      "\u001b[31mchr\u001b[39m (1): Name\n",
      "\u001b[32mdbl\u001b[39m (1): Salary\n",
      "\n",
      "\u001b[36mℹ\u001b[39m Use `spec()` to retrieve the full column specification for this data.\n",
      "\u001b[36mℹ\u001b[39m Specify the column types or set `show_col_types = FALSE` to quiet this message.\n",
      "\u001b[1mRows: \u001b[22m\u001b[34m124364\u001b[39m \u001b[1mColumns: \u001b[22m\u001b[34m21\u001b[39m\n",
      "\u001b[36m──\u001b[39m \u001b[1mColumn specification\u001b[22m \u001b[36m────────────────────────────────────────────────────────\u001b[39m\n",
      "\u001b[1mDelimiter:\u001b[22m \",\"\n",
      "\u001b[31mchr\u001b[39m  (7): DATE, HOME_TEAM, AWAY_TEAM, PLAYER_NAME, LOCATION, WIN_LOSE, CLOSE...\n",
      "\u001b[32mdbl\u001b[39m (14): GAME_ID, PLAYER_ID, FINAL_MARGIN, SHOT_NUMBER, PERIOD, SEC_REMAIN,...\n",
      "\n",
      "\u001b[36mℹ\u001b[39m Use `spec()` to retrieve the full column specification for this data.\n",
      "\u001b[36mℹ\u001b[39m Specify the column types or set `show_col_types = FALSE` to quiet this message.\n",
      "\u001b[1mRows: \u001b[22m\u001b[34m4171\u001b[39m \u001b[1mColumns: \u001b[22m\u001b[34m33\u001b[39m\n",
      "\u001b[36m──\u001b[39m \u001b[1mColumn specification\u001b[22m \u001b[36m────────────────────────────────────────────────────────\u001b[39m\n",
      "\u001b[1mDelimiter:\u001b[22m \",\"\n",
      "\u001b[31mchr\u001b[39m  (26): first_name, last_name, display_first_last, display_last_comma_fir...\n",
      "\u001b[32mdbl\u001b[39m   (6): person_id, weight, season_exp, team_id, from_year, to_year\n",
      "\u001b[34mdttm\u001b[39m  (1): birthdate\n",
      "\n",
      "\u001b[36mℹ\u001b[39m Use `spec()` to retrieve the full column specification for this data.\n",
      "\u001b[36mℹ\u001b[39m Specify the column types or set `show_col_types = FALSE` to quiet this message.\n"
     ]
    }
   ],
   "source": [
    "raw_shots <- read_csv(\"../Data/NBA_Shots_Raw.csv\")\n",
    "player_info <- read_csv(\"../Data/Player_Info.csv\")\n",
    "player_salary <- read_csv(\"../Data/Player_Salary.csv\")\n",
    "player_info <- player_info %>% mutate(PLAYER_NAME = paste(First_Name, Surname))\n",
    "player_salary <- player_salary %>% rename(PLAYER_NAME = Name)\n",
    "clean_shots <- read_csv(\"../Data/NBA_Shots_Clean_Example.csv\")\n",
    "common_player_info <- read_csv(\"../Data/wyatt_basketball/csv/common_player_info.csv\")\n",
    "common_player_info <- common_player_info %>% mutate(PLAYER_NAME = paste(first_name, last_name))\n",
    "\n",
    "\n",
    "#clean_shots <- clean_shots %>% mutate(across(where(is.character), ~ str_replace_all(., \"Kyle Oquinn\", \"Kyle O'Quinn\")))\n",
    "#clean_shots <- clean_shots %>% mutate(across(where(is.character), ~ str_replace_all(., \"Al Farouq Aminu\", \"Al-Farouq Aminu\")))\n",
    "#clean_shots <- clean_shots %>% mutate(across(where(is.character), ~ str_replace_all(., \"Lamarcus Aldridge\", \"LaMarcus Aldridge\")))\n",
    "#clean_shots <- clean_shots %>% mutate(across(where(is.character), ~ str_replace_all(., \"Oj Mayo\", \"O.J. Mayo\")))\n",
    "#clean_shots <- clean_shots %>% mutate(across(where(is.character), ~ str_replace_all(., \"Cj Miles\", \"C.J. Miles\")))\n",
    "player_info <- player_info %>% mutate(across(where(is.character), ~ str_replace_all(., \"Luc Mbah\", \"Luc Mbah a Moute\")))\n",
    "\n",
    "\n",
    "player_info <- player_info %>% \n",
    "    mutate(PLAYER_NAME = str_to_title(PLAYER_NAME)) %>%\n",
    "    mutate(PLAYER_NAME = str_remove_all(PLAYER_NAME, \"\\\\.\")) %>%\n",
    "    mutate(PLAYER_NAME = str_replace_all(PLAYER_NAME, \"-\", \" \"))\n",
    "\n",
    "# keep for now\n",
    "player_info <- player_info %>% \n",
    "    mutate(Surname = str_to_title(Surname)) %>%\n",
    "    mutate(Surname = str_remove_all(Surname, \"\\\\.\")) %>%\n",
    "    mutate(Surname = str_replace_all(Surname, \"-\", \" \"))\n",
    "\n",
    "clean_shots <- clean_shots %>%\n",
    "    mutate(PLAYER_NAME = str_replace_all(PLAYER_NAME, \"-\", \" \"))\n"
   ]
  },
  {
   "cell_type": "code",
   "execution_count": 26,
   "id": "24d111f8-a65d-45c8-91bf-9333cff7613a",
   "metadata": {
    "vscode": {
     "languageId": "r"
    }
   },
   "outputs": [
    {
     "data": {
      "text/html": [
       "<style>\n",
       ".list-inline {list-style: none; margin:0; padding: 0}\n",
       ".list-inline>li {display: inline-block}\n",
       ".list-inline>li:not(:last-child)::after {content: \"\\00b7\"; padding: 0 .5ex}\n",
       "</style>\n",
       "<ol class=list-inline><li>'GAME_ID'</li><li>'DATE'</li><li>'HOME_TEAM'</li><li>'AWAY_TEAM'</li><li>'PLAYER_NAME'</li><li>'PLAYER_ID'</li><li>'LOCATION'</li><li>'W'</li><li>'FINAL_MARGIN'</li><li>'SHOT_NUMBER'</li><li>'PERIOD'</li><li>'GAME_CLOCK'</li><li>'SHOT_CLOCK'</li><li>'DRIBBLES'</li><li>'TOUCH_TIME'</li><li>'SHOT_DIST'</li><li>'PTS_TYPE'</li><li>'SHOT_RESULT'</li><li>'CLOSEST_DEFENDER'</li><li>'CLOSEST_DEFENDER_ID'</li><li>'CLOSE_DEF_DIST'</li><li>'FGM'</li><li>'PTS'</li></ol>\n"
      ],
      "text/latex": [
       "\\begin{enumerate*}\n",
       "\\item 'GAME\\_ID'\n",
       "\\item 'DATE'\n",
       "\\item 'HOME\\_TEAM'\n",
       "\\item 'AWAY\\_TEAM'\n",
       "\\item 'PLAYER\\_NAME'\n",
       "\\item 'PLAYER\\_ID'\n",
       "\\item 'LOCATION'\n",
       "\\item 'W'\n",
       "\\item 'FINAL\\_MARGIN'\n",
       "\\item 'SHOT\\_NUMBER'\n",
       "\\item 'PERIOD'\n",
       "\\item 'GAME\\_CLOCK'\n",
       "\\item 'SHOT\\_CLOCK'\n",
       "\\item 'DRIBBLES'\n",
       "\\item 'TOUCH\\_TIME'\n",
       "\\item 'SHOT\\_DIST'\n",
       "\\item 'PTS\\_TYPE'\n",
       "\\item 'SHOT\\_RESULT'\n",
       "\\item 'CLOSEST\\_DEFENDER'\n",
       "\\item 'CLOSEST\\_DEFENDER\\_ID'\n",
       "\\item 'CLOSE\\_DEF\\_DIST'\n",
       "\\item 'FGM'\n",
       "\\item 'PTS'\n",
       "\\end{enumerate*}\n"
      ],
      "text/markdown": [
       "1. 'GAME_ID'\n",
       "2. 'DATE'\n",
       "3. 'HOME_TEAM'\n",
       "4. 'AWAY_TEAM'\n",
       "5. 'PLAYER_NAME'\n",
       "6. 'PLAYER_ID'\n",
       "7. 'LOCATION'\n",
       "8. 'W'\n",
       "9. 'FINAL_MARGIN'\n",
       "10. 'SHOT_NUMBER'\n",
       "11. 'PERIOD'\n",
       "12. 'GAME_CLOCK'\n",
       "13. 'SHOT_CLOCK'\n",
       "14. 'DRIBBLES'\n",
       "15. 'TOUCH_TIME'\n",
       "16. 'SHOT_DIST'\n",
       "17. 'PTS_TYPE'\n",
       "18. 'SHOT_RESULT'\n",
       "19. 'CLOSEST_DEFENDER'\n",
       "20. 'CLOSEST_DEFENDER_ID'\n",
       "21. 'CLOSE_DEF_DIST'\n",
       "22. 'FGM'\n",
       "23. 'PTS'\n",
       "\n",
       "\n"
      ],
      "text/plain": [
       " [1] \"GAME_ID\"             \"DATE\"                \"HOME_TEAM\"          \n",
       " [4] \"AWAY_TEAM\"           \"PLAYER_NAME\"         \"PLAYER_ID\"          \n",
       " [7] \"LOCATION\"            \"W\"                   \"FINAL_MARGIN\"       \n",
       "[10] \"SHOT_NUMBER\"         \"PERIOD\"              \"GAME_CLOCK\"         \n",
       "[13] \"SHOT_CLOCK\"          \"DRIBBLES\"            \"TOUCH_TIME\"         \n",
       "[16] \"SHOT_DIST\"           \"PTS_TYPE\"            \"SHOT_RESULT\"        \n",
       "[19] \"CLOSEST_DEFENDER\"    \"CLOSEST_DEFENDER_ID\" \"CLOSE_DEF_DIST\"     \n",
       "[22] \"FGM\"                 \"PTS\"                "
      ]
     },
     "metadata": {},
     "output_type": "display_data"
    },
    {
     "data": {
      "text/html": [
       "<style>\n",
       ".list-inline {list-style: none; margin:0; padding: 0}\n",
       ".list-inline>li {display: inline-block}\n",
       ".list-inline>li:not(:last-child)::after {content: \"\\00b7\"; padding: 0 .5ex}\n",
       "</style>\n",
       "<ol class=list-inline><li>'GAME_ID'</li><li>'DATE'</li><li>'HOME_TEAM'</li><li>'AWAY_TEAM'</li><li>'PLAYER_NAME'</li><li>'PLAYER_ID'</li><li>'LOCATION'</li><li>'WIN_LOSE'</li><li>'FINAL_MARGIN'</li><li>'SHOT_NUMBER'</li><li>'PERIOD'</li><li>'SEC_REMAIN'</li><li>'SHOT_CLOCK'</li><li>'DRIBBLES'</li><li>'TOUCH_TIME'</li><li>'SHOT_DIST'</li><li>'PTS_TYPE'</li><li>'CLOSEST_DEFENDER'</li><li>'CLOSEST_DEFENDER_ID'</li><li>'CLOSE_DEF_DIST'</li><li>'SUCCESS'</li></ol>\n"
      ],
      "text/latex": [
       "\\begin{enumerate*}\n",
       "\\item 'GAME\\_ID'\n",
       "\\item 'DATE'\n",
       "\\item 'HOME\\_TEAM'\n",
       "\\item 'AWAY\\_TEAM'\n",
       "\\item 'PLAYER\\_NAME'\n",
       "\\item 'PLAYER\\_ID'\n",
       "\\item 'LOCATION'\n",
       "\\item 'WIN\\_LOSE'\n",
       "\\item 'FINAL\\_MARGIN'\n",
       "\\item 'SHOT\\_NUMBER'\n",
       "\\item 'PERIOD'\n",
       "\\item 'SEC\\_REMAIN'\n",
       "\\item 'SHOT\\_CLOCK'\n",
       "\\item 'DRIBBLES'\n",
       "\\item 'TOUCH\\_TIME'\n",
       "\\item 'SHOT\\_DIST'\n",
       "\\item 'PTS\\_TYPE'\n",
       "\\item 'CLOSEST\\_DEFENDER'\n",
       "\\item 'CLOSEST\\_DEFENDER\\_ID'\n",
       "\\item 'CLOSE\\_DEF\\_DIST'\n",
       "\\item 'SUCCESS'\n",
       "\\end{enumerate*}\n"
      ],
      "text/markdown": [
       "1. 'GAME_ID'\n",
       "2. 'DATE'\n",
       "3. 'HOME_TEAM'\n",
       "4. 'AWAY_TEAM'\n",
       "5. 'PLAYER_NAME'\n",
       "6. 'PLAYER_ID'\n",
       "7. 'LOCATION'\n",
       "8. 'WIN_LOSE'\n",
       "9. 'FINAL_MARGIN'\n",
       "10. 'SHOT_NUMBER'\n",
       "11. 'PERIOD'\n",
       "12. 'SEC_REMAIN'\n",
       "13. 'SHOT_CLOCK'\n",
       "14. 'DRIBBLES'\n",
       "15. 'TOUCH_TIME'\n",
       "16. 'SHOT_DIST'\n",
       "17. 'PTS_TYPE'\n",
       "18. 'CLOSEST_DEFENDER'\n",
       "19. 'CLOSEST_DEFENDER_ID'\n",
       "20. 'CLOSE_DEF_DIST'\n",
       "21. 'SUCCESS'\n",
       "\n",
       "\n"
      ],
      "text/plain": [
       " [1] \"GAME_ID\"             \"DATE\"                \"HOME_TEAM\"          \n",
       " [4] \"AWAY_TEAM\"           \"PLAYER_NAME\"         \"PLAYER_ID\"          \n",
       " [7] \"LOCATION\"            \"WIN_LOSE\"            \"FINAL_MARGIN\"       \n",
       "[10] \"SHOT_NUMBER\"         \"PERIOD\"              \"SEC_REMAIN\"         \n",
       "[13] \"SHOT_CLOCK\"          \"DRIBBLES\"            \"TOUCH_TIME\"         \n",
       "[16] \"SHOT_DIST\"           \"PTS_TYPE\"            \"CLOSEST_DEFENDER\"   \n",
       "[19] \"CLOSEST_DEFENDER_ID\" \"CLOSE_DEF_DIST\"      \"SUCCESS\"            "
      ]
     },
     "metadata": {},
     "output_type": "display_data"
    },
    {
     "data": {
      "text/html": [
       "<style>\n",
       ".list-inline {list-style: none; margin:0; padding: 0}\n",
       ".list-inline>li {display: inline-block}\n",
       ".list-inline>li:not(:last-child)::after {content: \"\\00b7\"; padding: 0 .5ex}\n",
       "</style>\n",
       "<ol class=list-inline><li>'...1'</li><li>'Age'</li><li>'Birth_Place'</li><li>'Birthdate'</li><li>'College'</li><li>'Experience'</li><li>'First_Name'</li><li>'Height'</li><li>'Pos'</li><li>'Surname'</li><li>'Team'</li><li>'Weight'</li><li>'BMI'</li><li>'PLAYER_NAME'</li></ol>\n"
      ],
      "text/latex": [
       "\\begin{enumerate*}\n",
       "\\item '...1'\n",
       "\\item 'Age'\n",
       "\\item 'Birth\\_Place'\n",
       "\\item 'Birthdate'\n",
       "\\item 'College'\n",
       "\\item 'Experience'\n",
       "\\item 'First\\_Name'\n",
       "\\item 'Height'\n",
       "\\item 'Pos'\n",
       "\\item 'Surname'\n",
       "\\item 'Team'\n",
       "\\item 'Weight'\n",
       "\\item 'BMI'\n",
       "\\item 'PLAYER\\_NAME'\n",
       "\\end{enumerate*}\n"
      ],
      "text/markdown": [
       "1. '...1'\n",
       "2. 'Age'\n",
       "3. 'Birth_Place'\n",
       "4. 'Birthdate'\n",
       "5. 'College'\n",
       "6. 'Experience'\n",
       "7. 'First_Name'\n",
       "8. 'Height'\n",
       "9. 'Pos'\n",
       "10. 'Surname'\n",
       "11. 'Team'\n",
       "12. 'Weight'\n",
       "13. 'BMI'\n",
       "14. 'PLAYER_NAME'\n",
       "\n",
       "\n"
      ],
      "text/plain": [
       " [1] \"...1\"        \"Age\"         \"Birth_Place\" \"Birthdate\"   \"College\"    \n",
       " [6] \"Experience\"  \"First_Name\"  \"Height\"      \"Pos\"         \"Surname\"    \n",
       "[11] \"Team\"        \"Weight\"      \"BMI\"         \"PLAYER_NAME\""
      ]
     },
     "metadata": {},
     "output_type": "display_data"
    },
    {
     "data": {
      "text/html": [
       "<style>\n",
       ".list-inline {list-style: none; margin:0; padding: 0}\n",
       ".list-inline>li {display: inline-block}\n",
       ".list-inline>li:not(:last-child)::after {content: \"\\00b7\"; padding: 0 .5ex}\n",
       "</style>\n",
       "<ol class=list-inline><li>'PLAYER_NAME'</li><li>'Salary'</li></ol>\n"
      ],
      "text/latex": [
       "\\begin{enumerate*}\n",
       "\\item 'PLAYER\\_NAME'\n",
       "\\item 'Salary'\n",
       "\\end{enumerate*}\n"
      ],
      "text/markdown": [
       "1. 'PLAYER_NAME'\n",
       "2. 'Salary'\n",
       "\n",
       "\n"
      ],
      "text/plain": [
       "[1] \"PLAYER_NAME\" \"Salary\"     "
      ]
     },
     "metadata": {},
     "output_type": "display_data"
    },
    {
     "data": {
      "text/html": [
       "<style>\n",
       ".list-inline {list-style: none; margin:0; padding: 0}\n",
       ".list-inline>li {display: inline-block}\n",
       ".list-inline>li:not(:last-child)::after {content: \"\\00b7\"; padding: 0 .5ex}\n",
       "</style>\n",
       "<ol class=list-inline><li>'person_id'</li><li>'first_name'</li><li>'last_name'</li><li>'display_first_last'</li><li>'display_last_comma_first'</li><li>'display_fi_last'</li><li>'player_slug'</li><li>'birthdate'</li><li>'school'</li><li>'country'</li><li>'last_affiliation'</li><li>'height'</li><li>'weight'</li><li>'season_exp'</li><li>'jersey'</li><li>'position'</li><li>'rosterstatus'</li><li>'games_played_current_season_flag'</li><li>'team_id'</li><li>'team_name'</li><li>'team_abbreviation'</li><li>'team_code'</li><li>'team_city'</li><li>'playercode'</li><li>'from_year'</li><li>'to_year'</li><li>'dleague_flag'</li><li>'nba_flag'</li><li>'games_played_flag'</li><li>'draft_year'</li><li>'draft_round'</li><li>'draft_number'</li><li>'greatest_75_flag'</li><li>'PLAYER_NAME'</li></ol>\n"
      ],
      "text/latex": [
       "\\begin{enumerate*}\n",
       "\\item 'person\\_id'\n",
       "\\item 'first\\_name'\n",
       "\\item 'last\\_name'\n",
       "\\item 'display\\_first\\_last'\n",
       "\\item 'display\\_last\\_comma\\_first'\n",
       "\\item 'display\\_fi\\_last'\n",
       "\\item 'player\\_slug'\n",
       "\\item 'birthdate'\n",
       "\\item 'school'\n",
       "\\item 'country'\n",
       "\\item 'last\\_affiliation'\n",
       "\\item 'height'\n",
       "\\item 'weight'\n",
       "\\item 'season\\_exp'\n",
       "\\item 'jersey'\n",
       "\\item 'position'\n",
       "\\item 'rosterstatus'\n",
       "\\item 'games\\_played\\_current\\_season\\_flag'\n",
       "\\item 'team\\_id'\n",
       "\\item 'team\\_name'\n",
       "\\item 'team\\_abbreviation'\n",
       "\\item 'team\\_code'\n",
       "\\item 'team\\_city'\n",
       "\\item 'playercode'\n",
       "\\item 'from\\_year'\n",
       "\\item 'to\\_year'\n",
       "\\item 'dleague\\_flag'\n",
       "\\item 'nba\\_flag'\n",
       "\\item 'games\\_played\\_flag'\n",
       "\\item 'draft\\_year'\n",
       "\\item 'draft\\_round'\n",
       "\\item 'draft\\_number'\n",
       "\\item 'greatest\\_75\\_flag'\n",
       "\\item 'PLAYER\\_NAME'\n",
       "\\end{enumerate*}\n"
      ],
      "text/markdown": [
       "1. 'person_id'\n",
       "2. 'first_name'\n",
       "3. 'last_name'\n",
       "4. 'display_first_last'\n",
       "5. 'display_last_comma_first'\n",
       "6. 'display_fi_last'\n",
       "7. 'player_slug'\n",
       "8. 'birthdate'\n",
       "9. 'school'\n",
       "10. 'country'\n",
       "11. 'last_affiliation'\n",
       "12. 'height'\n",
       "13. 'weight'\n",
       "14. 'season_exp'\n",
       "15. 'jersey'\n",
       "16. 'position'\n",
       "17. 'rosterstatus'\n",
       "18. 'games_played_current_season_flag'\n",
       "19. 'team_id'\n",
       "20. 'team_name'\n",
       "21. 'team_abbreviation'\n",
       "22. 'team_code'\n",
       "23. 'team_city'\n",
       "24. 'playercode'\n",
       "25. 'from_year'\n",
       "26. 'to_year'\n",
       "27. 'dleague_flag'\n",
       "28. 'nba_flag'\n",
       "29. 'games_played_flag'\n",
       "30. 'draft_year'\n",
       "31. 'draft_round'\n",
       "32. 'draft_number'\n",
       "33. 'greatest_75_flag'\n",
       "34. 'PLAYER_NAME'\n",
       "\n",
       "\n"
      ],
      "text/plain": [
       " [1] \"person_id\"                        \"first_name\"                      \n",
       " [3] \"last_name\"                        \"display_first_last\"              \n",
       " [5] \"display_last_comma_first\"         \"display_fi_last\"                 \n",
       " [7] \"player_slug\"                      \"birthdate\"                       \n",
       " [9] \"school\"                           \"country\"                         \n",
       "[11] \"last_affiliation\"                 \"height\"                          \n",
       "[13] \"weight\"                           \"season_exp\"                      \n",
       "[15] \"jersey\"                           \"position\"                        \n",
       "[17] \"rosterstatus\"                     \"games_played_current_season_flag\"\n",
       "[19] \"team_id\"                          \"team_name\"                       \n",
       "[21] \"team_abbreviation\"                \"team_code\"                       \n",
       "[23] \"team_city\"                        \"playercode\"                      \n",
       "[25] \"from_year\"                        \"to_year\"                         \n",
       "[27] \"dleague_flag\"                     \"nba_flag\"                        \n",
       "[29] \"games_played_flag\"                \"draft_year\"                      \n",
       "[31] \"draft_round\"                      \"draft_number\"                    \n",
       "[33] \"greatest_75_flag\"                 \"PLAYER_NAME\"                     "
      ]
     },
     "metadata": {},
     "output_type": "display_data"
    }
   ],
   "source": [
    "colnames(raw_shots)\n",
    "colnames(clean_shots)\n",
    "colnames(player_info)\n",
    "colnames(player_salary)\n",
    "colnames(common_player_info)\n",
    "#player_statistics %>% count() %>% collect()\n",
    "#head(raw_shots)\n",
    "#head(player_info)\n",
    "#head(player_salary)"
   ]
  },
  {
   "cell_type": "code",
   "execution_count": 5,
   "id": "544a2b07-c939-471f-90d1-88920c260a20",
   "metadata": {
    "vscode": {
     "languageId": "r"
    }
   },
   "outputs": [
    {
     "name": "stderr",
     "output_type": "stream",
     "text": [
      "Warning message in left_join(., player_info %>% select(Pos, PLAYER_NAME), by = \"PLAYER_NAME\"):\n",
      "\"\u001b[1m\u001b[22mDetected an unexpected many-to-many relationship between `x` and `y`.\n",
      "\u001b[36mℹ\u001b[39m Row 442 of `x` matches multiple rows in `y`.\n",
      "\u001b[36mℹ\u001b[39m Row 288 of `y` matches multiple rows in `x`.\n",
      "\u001b[36mℹ\u001b[39m If a many-to-many relationship is expected, set `relationship =\n",
      "  \"many-to-many\"` to silence this warning.\"\n"
     ]
    },
    {
     "data": {
      "image/png": "[encoded data removed]",
      "text/plain": [
       "plot without title"
      ]
     },
     "metadata": {
      "image/png": {
       "height": 420,
       "width": 600
      }
     },
     "output_type": "display_data"
    }
   ],
   "source": [
    "options(repr.plot.width = 10, repr.plot.height = 7)\n",
    "\n",
    "s <- raw_shots %>% \n",
    "    left_join(player_info %>% select(Pos, PLAYER_NAME), by = \"PLAYER_NAME\") %>%\n",
    "    filter(!is.na(Pos)) %>%\n",
    "    select(SHOT_DIST, Pos)\n",
    "\n",
    "ggplot(s, aes(x = SHOT_DIST)) +\n",
    "    geom_histogram(bins = 30, fill = \"blue\", color = \"black\", alpha = 0.5) +\n",
    "    facet_wrap(~ Pos) +\n",
    "    labs(title = \"Shot Distance Distribution by Position\",\n",
    "       x = \"Shot Distance (feet)\",\n",
    "       y = \"Frequency\") +\n",
    "    theme_minimal()"
   ]
  },
  {
   "cell_type": "code",
   "execution_count": 6,
   "id": "1b3b91f1-00a2-4a8a-a8fb-b4681e93205d",
   "metadata": {
    "vscode": {
     "languageId": "r"
    }
   },
   "outputs": [],
   "source": [
    "l1 <- raw_shots %>%\n",
    "    left_join(player_info %>% select(Pos, PLAYER_NAME), by = \"PLAYER_NAME\", relationship=\"many-to-many\") %>%\n",
    "    filter(!is.na(Pos)) %>%\n",
    "    group_by(PLAYER_NAME, Pos) %>% \n",
    "    summarize(tot_FGM = sum(FGM), .groups=\"drop\") %>% \n",
    "    arrange(desc(tot_FGM))\n",
    "l2 <- raw_shots %>% \n",
    "    filter(FGM == 1) %>% \n",
    "    group_by(PLAYER_NAME) %>%\n",
    "    summarise(\n",
    "        total_FGM = n(),\n",
    "        pct_3pt = sum(PTS_TYPE == 3),\n",
    "        pct_2pt = sum(PTS_TYPE == 2)\n",
    "    ) %>%\n",
    "    left_join(player_info %>% select(Pos, PLAYER_NAME, Team, Age), by = \"PLAYER_NAME\", relationship=\"many-to-many\")"
   ]
  },
  {
   "cell_type": "code",
   "execution_count": 7,
   "id": "fa7834ce-dba1-4eb7-8164-4eab5e9424f3",
   "metadata": {
    "vscode": {
     "languageId": "r"
    }
   },
   "outputs": [
    {
     "data": {
      "text/html": [
       "<table class=\"dataframe\">\n",
       "<caption>A tibble: 1 × 1</caption>\n",
       "<thead>\n",
       "\t<tr><th scope=col>unique_players</th></tr>\n",
       "\t<tr><th scope=col>&lt;int&gt;</th></tr>\n",
       "</thead>\n",
       "<tbody>\n",
       "\t<tr><td>281</td></tr>\n",
       "</tbody>\n",
       "</table>\n"
      ],
      "text/latex": [
       "A tibble: 1 × 1\n",
       "\\begin{tabular}{l}\n",
       " unique\\_players\\\\\n",
       " <int>\\\\\n",
       "\\hline\n",
       "\t 281\\\\\n",
       "\\end{tabular}\n"
      ],
      "text/markdown": [
       "\n",
       "A tibble: 1 × 1\n",
       "\n",
       "| unique_players &lt;int&gt; |\n",
       "|---|\n",
       "| 281 |\n",
       "\n"
      ],
      "text/plain": [
       "  unique_players\n",
       "1 281           "
      ]
     },
     "metadata": {},
     "output_type": "display_data"
    },
    {
     "data": {
      "text/html": [
       "<table class=\"dataframe\">\n",
       "<caption>A tibble: 1 × 1</caption>\n",
       "<thead>\n",
       "\t<tr><th scope=col>unique_players</th></tr>\n",
       "\t<tr><th scope=col>&lt;int&gt;</th></tr>\n",
       "</thead>\n",
       "<tbody>\n",
       "\t<tr><td>425</td></tr>\n",
       "</tbody>\n",
       "</table>\n"
      ],
      "text/latex": [
       "A tibble: 1 × 1\n",
       "\\begin{tabular}{l}\n",
       " unique\\_players\\\\\n",
       " <int>\\\\\n",
       "\\hline\n",
       "\t 425\\\\\n",
       "\\end{tabular}\n"
      ],
      "text/markdown": [
       "\n",
       "A tibble: 1 × 1\n",
       "\n",
       "| unique_players &lt;int&gt; |\n",
       "|---|\n",
       "| 425 |\n",
       "\n"
      ],
      "text/plain": [
       "  unique_players\n",
       "1 425           "
      ]
     },
     "metadata": {},
     "output_type": "display_data"
    },
    {
     "data": {
      "text/html": [
       "<table class=\"dataframe\">\n",
       "<caption>A tibble: 1 × 1</caption>\n",
       "<thead>\n",
       "\t<tr><th scope=col>unique_players</th></tr>\n",
       "\t<tr><th scope=col>&lt;int&gt;</th></tr>\n",
       "</thead>\n",
       "<tbody>\n",
       "\t<tr><td>513</td></tr>\n",
       "</tbody>\n",
       "</table>\n"
      ],
      "text/latex": [
       "A tibble: 1 × 1\n",
       "\\begin{tabular}{l}\n",
       " unique\\_players\\\\\n",
       " <int>\\\\\n",
       "\\hline\n",
       "\t 513\\\\\n",
       "\\end{tabular}\n"
      ],
      "text/markdown": [
       "\n",
       "A tibble: 1 × 1\n",
       "\n",
       "| unique_players &lt;int&gt; |\n",
       "|---|\n",
       "| 513 |\n",
       "\n"
      ],
      "text/plain": [
       "  unique_players\n",
       "1 513           "
      ]
     },
     "metadata": {},
     "output_type": "display_data"
    }
   ],
   "source": [
    "raw_shots %>% summarise(unique_players = n_distinct(PLAYER_NAME))\n",
    "player_info %>% summarise(unique_players = n_distinct(PLAYER_NAME))\n",
    "player_salary %>% summarise(unique_players = n_distinct(PLAYER_NAME))"
   ]
  },
  {
   "cell_type": "code",
   "execution_count": 8,
   "id": "8f19a64c-2571-4083-90c4-9be5e238b22f",
   "metadata": {
    "vscode": {
     "languageId": "r"
    }
   },
   "outputs": [
    {
     "data": {
      "text/html": [
       "<table class=\"dataframe\">\n",
       "<caption>A tibble: 1 × 3</caption>\n",
       "<thead>\n",
       "\t<tr><th scope=col>home_pct_win</th><th scope=col>home_wins</th><th scope=col>total_games</th></tr>\n",
       "\t<tr><th scope=col>&lt;dbl&gt;</th><th scope=col>&lt;int&gt;</th><th scope=col>&lt;int&gt;</th></tr>\n",
       "</thead>\n",
       "<tbody>\n",
       "\t<tr><td>0.5341615</td><td>86</td><td>161</td></tr>\n",
       "</tbody>\n",
       "</table>\n"
      ],
      "text/latex": [
       "A tibble: 1 × 3\n",
       "\\begin{tabular}{lll}\n",
       " home\\_pct\\_win & home\\_wins & total\\_games\\\\\n",
       " <dbl> & <int> & <int>\\\\\n",
       "\\hline\n",
       "\t 0.5341615 & 86 & 161\\\\\n",
       "\\end{tabular}\n"
      ],
      "text/markdown": [
       "\n",
       "A tibble: 1 × 3\n",
       "\n",
       "| home_pct_win &lt;dbl&gt; | home_wins &lt;int&gt; | total_games &lt;int&gt; |\n",
       "|---|---|---|\n",
       "| 0.5341615 | 86 | 161 |\n",
       "\n"
      ],
      "text/plain": [
       "  home_pct_win home_wins total_games\n",
       "1 0.5341615    86        161        "
      ]
     },
     "metadata": {},
     "output_type": "display_data"
    },
    {
     "data": {
      "text/plain": [
       "\n",
       "\tExact binomial test\n",
       "\n",
       "data:  86 and 161\n",
       "number of successes = 86, number of trials = 161, p-value = 0.2154\n",
       "alternative hypothesis: true probability of success is greater than 0.5\n",
       "95 percent confidence interval:\n",
       " 0.466325 1.000000\n",
       "sample estimates:\n",
       "probability of success \n",
       "             0.5341615 \n"
      ]
     },
     "metadata": {},
     "output_type": "display_data"
    }
   ],
   "source": [
    "#clean_shots %>% \n",
    "#    filter(PERIOD <= 3) %>%\n",
    "#    select(HOME_TEAM, AWAY_TEAM, WIN_LOSE)\n",
    "#    group_by(\n",
    "\n",
    "#clean_shots %>% \n",
    "#    select(GAME_ID, FINAL_MARGIN, WIN_LOSE, HOME_TEAM, AWAY_TEAM, LOCATION) %>%\n",
    "#    filter(abs(FINAL_MARGIN) <= 3) %>% #no need to filter for w/l\n",
    " #   distinct(GAME_ID, .keep_all=TRUE) %>%\n",
    "#    summarise(home_win_pct = 100*sum(FINAL_MARGIN > 0 & LOCATION == \"H\")/sum(LOCATION == \"H\"))\n",
    "\n",
    "\n",
    "#clean_shots %>%\n",
    "#    select(GAME_ID, WIN_LOSE, HOME_TEAM, AWAY_TEAM, LOCATION, PERIOD, PTS_TYPE, SUCCESS) %>%\n",
    "#    mutate(pts = PTS_TYPE * SUCCESS) %>%\n",
    "#    filter(PERIOD <= 3) %>%\n",
    "#    group_by(GAME_ID, LOCATION) %>%\n",
    "#    summarise(total_pts = sum(pts), .groups = \"drop\") %>%\n",
    "#    pivot_wider(names_from = LOCATION, values_from = total_pts, names_prefix = \"pts_\") %>%\n",
    "#    summarise(pts_diff_H = pts_H-pts_A)\n",
    "\n",
    "home_win <- clean_shots %>%\n",
    "    filter(LOCATION == \"H\") %>%\n",
    "    select(GAME_ID, HOME_TEAM, AWAY_TEAM, WIN_LOSE) %>%\n",
    "    distinct(GAME_ID, .keep_all=TRUE)\n",
    "\n",
    "clean_shots %>%\n",
    "    filter(PERIOD <= 3) %>%\n",
    "    mutate(pts = PTS_TYPE * SUCCESS) %>%\n",
    "    group_by(GAME_ID, LOCATION) %>%\n",
    "    summarise(total_pts = sum(pts), .groups = \"drop\") %>%\n",
    "    pivot_wider(names_from = LOCATION, values_from = total_pts, names_prefix = \"pts_\") %>%\n",
    "    left_join(home_win, by=\"GAME_ID\") %>%\n",
    "    rename(HOME_RESULT = WIN_LOSE) %>%\n",
    "    mutate(pts_diff = abs(pts_H - pts_A)) %>%\n",
    "    filter(pts_diff <= 3) %>%\n",
    "    summarise(\n",
    "        home_pct_win = sum(HOME_RESULT == \"W\")/n(),\n",
    "        home_wins = sum(HOME_RESULT == \"W\"),\n",
    "        total_games = n()\n",
    "    )\n",
    "\n",
    "binom.test(x=86, n=161, p=0.5, alternative=\"greater\")"
   ]
  },
  {
   "cell_type": "code",
   "execution_count": 9,
   "id": "5b44c48c",
   "metadata": {
    "vscode": {
     "languageId": "r"
    }
   },
   "outputs": [],
   "source": [
    "play_by_play <- open_dataset(\"../Data/wyatt_basketball/csv/play_by_play.csv\", format=\"csv\")"
   ]
  },
  {
   "cell_type": "code",
   "execution_count": null,
   "id": "e3975da1-c20d-4d86-9dec-4742180e8a8a",
   "metadata": {
    "vscode": {
     "languageId": "r"
    }
   },
   "outputs": [],
   "source": []
  },
  {
   "cell_type": "code",
   "execution_count": 10,
   "id": "bc3faab2",
   "metadata": {
    "vscode": {
     "languageId": "r"
    }
   },
   "outputs": [],
   "source": [
    "con <- DBI::dbConnect(\n",
    "  duckdb::duckdb(), dbdir = \".tmp.duckdb\"\n",
    ")"
   ]
  },
  {
   "cell_type": "code",
   "execution_count": 11,
   "id": "510d65c1-58c1-4ea5-92fb-1753c88cb282",
   "metadata": {
    "vscode": {
     "languageId": "r"
    }
   },
   "outputs": [],
   "source": [
    "duckdb_read_csv(con, name=\"play_by_play\", files=\"../Data/wyatt_basketball/csv/play_by_play.csv\")"
   ]
  },
  {
   "cell_type": "code",
   "execution_count": 12,
   "id": "43d50b73-6912-4ae0-abd9-4a431fcaa111",
   "metadata": {
    "vscode": {
     "languageId": "r"
    }
   },
   "outputs": [
    {
     "data": {
      "text/html": [
       "<style>\n",
       ".list-inline {list-style: none; margin:0; padding: 0}\n",
       ".list-inline>li {display: inline-block}\n",
       ".list-inline>li:not(:last-child)::after {content: \"\\00b7\"; padding: 0 .5ex}\n",
       "</style>\n",
       "<ol class=list-inline><li>'game_id'</li><li>'eventnum'</li><li>'eventmsgtype'</li><li>'eventmsgactiontype'</li><li>'period'</li><li>'wctimestring'</li><li>'pctimestring'</li><li>'homedescription'</li><li>'neutraldescription'</li><li>'visitordescription'</li><li>'score'</li><li>'scoremargin'</li><li>'person1type'</li><li>'player1_id'</li><li>'player1_name'</li><li>'player1_team_id'</li><li>'player1_team_city'</li><li>'player1_team_nickname'</li><li>'player1_team_abbreviation'</li><li>'person2type'</li><li>'player2_id'</li><li>'player2_name'</li><li>'player2_team_id'</li><li>'player2_team_city'</li><li>'player2_team_nickname'</li><li>'player2_team_abbreviation'</li><li>'person3type'</li><li>'player3_id'</li><li>'player3_name'</li><li>'player3_team_id'</li><li>'player3_team_city'</li><li>'player3_team_nickname'</li><li>'player3_team_abbreviation'</li><li>'video_available_flag'</li></ol>\n"
      ],
      "text/latex": [
       "\\begin{enumerate*}\n",
       "\\item 'game\\_id'\n",
       "\\item 'eventnum'\n",
       "\\item 'eventmsgtype'\n",
       "\\item 'eventmsgactiontype'\n",
       "\\item 'period'\n",
       "\\item 'wctimestring'\n",
       "\\item 'pctimestring'\n",
       "\\item 'homedescription'\n",
       "\\item 'neutraldescription'\n",
       "\\item 'visitordescription'\n",
       "\\item 'score'\n",
       "\\item 'scoremargin'\n",
       "\\item 'person1type'\n",
       "\\item 'player1\\_id'\n",
       "\\item 'player1\\_name'\n",
       "\\item 'player1\\_team\\_id'\n",
       "\\item 'player1\\_team\\_city'\n",
       "\\item 'player1\\_team\\_nickname'\n",
       "\\item 'player1\\_team\\_abbreviation'\n",
       "\\item 'person2type'\n",
       "\\item 'player2\\_id'\n",
       "\\item 'player2\\_name'\n",
       "\\item 'player2\\_team\\_id'\n",
       "\\item 'player2\\_team\\_city'\n",
       "\\item 'player2\\_team\\_nickname'\n",
       "\\item 'player2\\_team\\_abbreviation'\n",
       "\\item 'person3type'\n",
       "\\item 'player3\\_id'\n",
       "\\item 'player3\\_name'\n",
       "\\item 'player3\\_team\\_id'\n",
       "\\item 'player3\\_team\\_city'\n",
       "\\item 'player3\\_team\\_nickname'\n",
       "\\item 'player3\\_team\\_abbreviation'\n",
       "\\item 'video\\_available\\_flag'\n",
       "\\end{enumerate*}\n"
      ],
      "text/markdown": [
       "1. 'game_id'\n",
       "2. 'eventnum'\n",
       "3. 'eventmsgtype'\n",
       "4. 'eventmsgactiontype'\n",
       "5. 'period'\n",
       "6. 'wctimestring'\n",
       "7. 'pctimestring'\n",
       "8. 'homedescription'\n",
       "9. 'neutraldescription'\n",
       "10. 'visitordescription'\n",
       "11. 'score'\n",
       "12. 'scoremargin'\n",
       "13. 'person1type'\n",
       "14. 'player1_id'\n",
       "15. 'player1_name'\n",
       "16. 'player1_team_id'\n",
       "17. 'player1_team_city'\n",
       "18. 'player1_team_nickname'\n",
       "19. 'player1_team_abbreviation'\n",
       "20. 'person2type'\n",
       "21. 'player2_id'\n",
       "22. 'player2_name'\n",
       "23. 'player2_team_id'\n",
       "24. 'player2_team_city'\n",
       "25. 'player2_team_nickname'\n",
       "26. 'player2_team_abbreviation'\n",
       "27. 'person3type'\n",
       "28. 'player3_id'\n",
       "29. 'player3_name'\n",
       "30. 'player3_team_id'\n",
       "31. 'player3_team_city'\n",
       "32. 'player3_team_nickname'\n",
       "33. 'player3_team_abbreviation'\n",
       "34. 'video_available_flag'\n",
       "\n",
       "\n"
      ],
      "text/plain": [
       " [1] \"game_id\"                   \"eventnum\"                 \n",
       " [3] \"eventmsgtype\"              \"eventmsgactiontype\"       \n",
       " [5] \"period\"                    \"wctimestring\"             \n",
       " [7] \"pctimestring\"              \"homedescription\"          \n",
       " [9] \"neutraldescription\"        \"visitordescription\"       \n",
       "[11] \"score\"                     \"scoremargin\"              \n",
       "[13] \"person1type\"               \"player1_id\"               \n",
       "[15] \"player1_name\"              \"player1_team_id\"          \n",
       "[17] \"player1_team_city\"         \"player1_team_nickname\"    \n",
       "[19] \"player1_team_abbreviation\" \"person2type\"              \n",
       "[21] \"player2_id\"                \"player2_name\"             \n",
       "[23] \"player2_team_id\"           \"player2_team_city\"        \n",
       "[25] \"player2_team_nickname\"     \"player2_team_abbreviation\"\n",
       "[27] \"person3type\"               \"player3_id\"               \n",
       "[29] \"player3_name\"              \"player3_team_id\"          \n",
       "[31] \"player3_team_city\"         \"player3_team_nickname\"    \n",
       "[33] \"player3_team_abbreviation\" \"video_available_flag\"     "
      ]
     },
     "metadata": {},
     "output_type": "display_data"
    }
   ],
   "source": [
    "colnames(tbl(con, \"play_by_play\") %>% head(1))"
   ]
  },
  {
   "cell_type": "code",
   "execution_count": 13,
   "id": "d59ca827",
   "metadata": {
    "vscode": {
     "languageId": "r"
    }
   },
   "outputs": [
    {
     "data": {
      "text/html": [
       "<table class=\"dataframe\">\n",
       "<caption>A tibble: 14 × 2</caption>\n",
       "<thead>\n",
       "\t<tr><th scope=col>eventmsgtype</th><th scope=col>n</th></tr>\n",
       "\t<tr><th scope=col>&lt;int&gt;</th><th scope=col>&lt;dbl&gt;</th></tr>\n",
       "</thead>\n",
       "<tbody>\n",
       "\t<tr><td> 1</td><td>2242357</td></tr>\n",
       "\t<tr><td> 2</td><td>2699376</td></tr>\n",
       "\t<tr><td> 3</td><td>1442567</td></tr>\n",
       "\t<tr><td> 4</td><td>3049623</td></tr>\n",
       "\t<tr><td> 5</td><td> 868202</td></tr>\n",
       "\t<tr><td> 6</td><td>1305746</td></tr>\n",
       "\t<tr><td> 7</td><td>  53184</td></tr>\n",
       "\t<tr><td> 8</td><td>1226332</td></tr>\n",
       "\t<tr><td> 9</td><td> 380586</td></tr>\n",
       "\t<tr><td>10</td><td>  52099</td></tr>\n",
       "\t<tr><td>11</td><td>   1984</td></tr>\n",
       "\t<tr><td>12</td><td> 121226</td></tr>\n",
       "\t<tr><td>13</td><td> 121424</td></tr>\n",
       "\t<tr><td>18</td><td>  28193</td></tr>\n",
       "</tbody>\n",
       "</table>\n"
      ],
      "text/latex": [
       "A tibble: 14 × 2\n",
       "\\begin{tabular}{ll}\n",
       " eventmsgtype & n\\\\\n",
       " <int> & <dbl>\\\\\n",
       "\\hline\n",
       "\t  1 & 2242357\\\\\n",
       "\t  2 & 2699376\\\\\n",
       "\t  3 & 1442567\\\\\n",
       "\t  4 & 3049623\\\\\n",
       "\t  5 &  868202\\\\\n",
       "\t  6 & 1305746\\\\\n",
       "\t  7 &   53184\\\\\n",
       "\t  8 & 1226332\\\\\n",
       "\t  9 &  380586\\\\\n",
       "\t 10 &   52099\\\\\n",
       "\t 11 &    1984\\\\\n",
       "\t 12 &  121226\\\\\n",
       "\t 13 &  121424\\\\\n",
       "\t 18 &   28193\\\\\n",
       "\\end{tabular}\n"
      ],
      "text/markdown": [
       "\n",
       "A tibble: 14 × 2\n",
       "\n",
       "| eventmsgtype &lt;int&gt; | n &lt;dbl&gt; |\n",
       "|---|---|\n",
       "|  1 | 2242357 |\n",
       "|  2 | 2699376 |\n",
       "|  3 | 1442567 |\n",
       "|  4 | 3049623 |\n",
       "|  5 |  868202 |\n",
       "|  6 | 1305746 |\n",
       "|  7 |   53184 |\n",
       "|  8 | 1226332 |\n",
       "|  9 |  380586 |\n",
       "| 10 |   52099 |\n",
       "| 11 |    1984 |\n",
       "| 12 |  121226 |\n",
       "| 13 |  121424 |\n",
       "| 18 |   28193 |\n",
       "\n"
      ],
      "text/plain": [
       "   eventmsgtype n      \n",
       "1   1           2242357\n",
       "2   2           2699376\n",
       "3   3           1442567\n",
       "4   4           3049623\n",
       "5   5            868202\n",
       "6   6           1305746\n",
       "7   7             53184\n",
       "8   8           1226332\n",
       "9   9            380586\n",
       "10 10             52099\n",
       "11 11              1984\n",
       "12 12            121226\n",
       "13 13            121424\n",
       "14 18             28193"
      ]
     },
     "metadata": {},
     "output_type": "display_data"
    },
    {
     "data": {
      "text/html": [
       "<table class=\"dataframe\">\n",
       "<caption>A tibble: 10 × 34</caption>\n",
       "<thead>\n",
       "\t<tr><th scope=col>game_id</th><th scope=col>eventnum</th><th scope=col>eventmsgtype</th><th scope=col>eventmsgactiontype</th><th scope=col>period</th><th scope=col>wctimestring</th><th scope=col>pctimestring</th><th scope=col>homedescription</th><th scope=col>neutraldescription</th><th scope=col>visitordescription</th><th scope=col>⋯</th><th scope=col>player2_team_nickname</th><th scope=col>player2_team_abbreviation</th><th scope=col>person3type</th><th scope=col>player3_id</th><th scope=col>player3_name</th><th scope=col>player3_team_id</th><th scope=col>player3_team_city</th><th scope=col>player3_team_nickname</th><th scope=col>player3_team_abbreviation</th><th scope=col>video_available_flag</th></tr>\n",
       "\t<tr><th scope=col>&lt;int&gt;</th><th scope=col>&lt;int&gt;</th><th scope=col>&lt;int&gt;</th><th scope=col>&lt;int&gt;</th><th scope=col>&lt;int&gt;</th><th scope=col>&lt;chr&gt;</th><th scope=col>&lt;chr&gt;</th><th scope=col>&lt;chr&gt;</th><th scope=col>&lt;chr&gt;</th><th scope=col>&lt;chr&gt;</th><th scope=col>⋯</th><th scope=col>&lt;chr&gt;</th><th scope=col>&lt;chr&gt;</th><th scope=col>&lt;dbl&gt;</th><th scope=col>&lt;int&gt;</th><th scope=col>&lt;chr&gt;</th><th scope=col>&lt;dbl&gt;</th><th scope=col>&lt;chr&gt;</th><th scope=col>&lt;chr&gt;</th><th scope=col>&lt;chr&gt;</th><th scope=col>&lt;int&gt;</th></tr>\n",
       "</thead>\n",
       "<tbody>\n",
       "\t<tr><td>29600012</td><td>13</td><td>1</td><td>8</td><td>1</td><td>14:53 PM</td><td>10:40</td><td>O'Neal  Slam Dunk (2 PTS) (Van Exel 1 AST)       </td><td>NA</td><td>NA                                         </td><td>⋯</td><td>Lakers</td><td>LAL</td><td>0</td><td>0</td><td>NA</td><td>        NA</td><td>NA         </td><td>NA    </td><td>NA </td><td>0</td></tr>\n",
       "\t<tr><td>29600012</td><td>16</td><td>1</td><td>5</td><td>1</td><td>14:53 PM</td><td>10:05</td><td>Ceballos  Layup (2 PTS) (Jones 1 AST)            </td><td>NA</td><td>NA                                         </td><td>⋯</td><td>Lakers</td><td>LAL</td><td>0</td><td>0</td><td>NA</td><td>        NA</td><td>NA         </td><td>NA    </td><td>NA </td><td>0</td></tr>\n",
       "\t<tr><td>29600012</td><td>29</td><td>1</td><td>5</td><td>1</td><td>14:55 PM</td><td>8:53 </td><td>NA                                               </td><td>NA</td><td>Person  Layup (2 PTS) (Kleine 1 AST)       </td><td>⋯</td><td>Suns  </td><td>PHX</td><td>4</td><td>0</td><td>NA</td><td>1610612747</td><td>Los Angeles</td><td>Lakers</td><td>LAL</td><td>0</td></tr>\n",
       "\t<tr><td>29600012</td><td>39</td><td>1</td><td>3</td><td>1</td><td>14:57 PM</td><td>8:03 </td><td>O'Neal 7' Hook Shot (4 PTS) (Jones 2 AST)        </td><td>NA</td><td>NA                                         </td><td>⋯</td><td>Lakers</td><td>LAL</td><td>0</td><td>0</td><td>NA</td><td>        NA</td><td>NA         </td><td>NA    </td><td>NA </td><td>0</td></tr>\n",
       "\t<tr><td>29600012</td><td>42</td><td>1</td><td>5</td><td>1</td><td>14:58 PM</td><td>7:39 </td><td>Ceballos  Layup (4 PTS) (Fisher 1 AST)           </td><td>NA</td><td>NA                                         </td><td>⋯</td><td>Lakers</td><td>LAL</td><td>0</td><td>0</td><td>NA</td><td>        NA</td><td>NA         </td><td>NA    </td><td>NA </td><td>0</td></tr>\n",
       "\t<tr><td>29600012</td><td>48</td><td>1</td><td>1</td><td>1</td><td>14:59 PM</td><td>7:05 </td><td>Fisher 25' 3PT Jump Shot (3 PTS) (Campbell 1 AST)</td><td>NA</td><td>NA                                         </td><td>⋯</td><td>Lakers</td><td>LAL</td><td>0</td><td>0</td><td>NA</td><td>        NA</td><td>NA         </td><td>NA    </td><td>NA </td><td>0</td></tr>\n",
       "\t<tr><td>29600012</td><td>49</td><td>1</td><td>1</td><td>1</td><td>14:59 PM</td><td>6:46 </td><td>NA                                               </td><td>NA</td><td>Cassell 15' Jump Shot (4 PTS) (Green 1 AST)</td><td>⋯</td><td>Suns  </td><td>PHX</td><td>0</td><td>0</td><td>NA</td><td>        NA</td><td>NA         </td><td>NA    </td><td>NA </td><td>0</td></tr>\n",
       "\t<tr><td>29600012</td><td>50</td><td>1</td><td>1</td><td>1</td><td>15:00 PM</td><td>6:30 </td><td>Jones 24' 3PT Jump Shot (3 PTS) (O'Neal 1 AST)   </td><td>NA</td><td>NA                                         </td><td>⋯</td><td>Lakers</td><td>LAL</td><td>0</td><td>0</td><td>NA</td><td>        NA</td><td>NA         </td><td>NA    </td><td>NA </td><td>0</td></tr>\n",
       "\t<tr><td>29600012</td><td>56</td><td>1</td><td>1</td><td>1</td><td>15:03 PM</td><td>5:44 </td><td>Campbell 14' Jump Shot (3 PTS) (Fisher 2 AST)    </td><td>NA</td><td>NA                                         </td><td>⋯</td><td>Lakers</td><td>LAL</td><td>0</td><td>0</td><td>NA</td><td>        NA</td><td>NA         </td><td>NA    </td><td>NA </td><td>0</td></tr>\n",
       "\t<tr><td>29600012</td><td>70</td><td>1</td><td>5</td><td>1</td><td>15:05 PM</td><td>4:37 </td><td>Campbell  Layup (5 PTS) (Fisher 3 AST)           </td><td>NA</td><td>NA                                         </td><td>⋯</td><td>Lakers</td><td>LAL</td><td>0</td><td>0</td><td>NA</td><td>        NA</td><td>NA         </td><td>NA    </td><td>NA </td><td>0</td></tr>\n",
       "</tbody>\n",
       "</table>\n"
      ],
      "text/latex": [
       "A tibble: 10 × 34\n",
       "\\begin{tabular}{lllllllllllllllllllll}\n",
       " game\\_id & eventnum & eventmsgtype & eventmsgactiontype & period & wctimestring & pctimestring & homedescription & neutraldescription & visitordescription & ⋯ & player2\\_team\\_nickname & player2\\_team\\_abbreviation & person3type & player3\\_id & player3\\_name & player3\\_team\\_id & player3\\_team\\_city & player3\\_team\\_nickname & player3\\_team\\_abbreviation & video\\_available\\_flag\\\\\n",
       " <int> & <int> & <int> & <int> & <int> & <chr> & <chr> & <chr> & <chr> & <chr> & ⋯ & <chr> & <chr> & <dbl> & <int> & <chr> & <dbl> & <chr> & <chr> & <chr> & <int>\\\\\n",
       "\\hline\n",
       "\t 29600012 & 13 & 1 & 8 & 1 & 14:53 PM & 10:40 & O'Neal  Slam Dunk (2 PTS) (Van Exel 1 AST)        & NA & NA                                          & ⋯ & Lakers & LAL & 0 & 0 & NA &         NA & NA          & NA     & NA  & 0\\\\\n",
       "\t 29600012 & 16 & 1 & 5 & 1 & 14:53 PM & 10:05 & Ceballos  Layup (2 PTS) (Jones 1 AST)             & NA & NA                                          & ⋯ & Lakers & LAL & 0 & 0 & NA &         NA & NA          & NA     & NA  & 0\\\\\n",
       "\t 29600012 & 29 & 1 & 5 & 1 & 14:55 PM & 8:53  & NA                                                & NA & Person  Layup (2 PTS) (Kleine 1 AST)        & ⋯ & Suns   & PHX & 4 & 0 & NA & 1610612747 & Los Angeles & Lakers & LAL & 0\\\\\n",
       "\t 29600012 & 39 & 1 & 3 & 1 & 14:57 PM & 8:03  & O'Neal 7' Hook Shot (4 PTS) (Jones 2 AST)         & NA & NA                                          & ⋯ & Lakers & LAL & 0 & 0 & NA &         NA & NA          & NA     & NA  & 0\\\\\n",
       "\t 29600012 & 42 & 1 & 5 & 1 & 14:58 PM & 7:39  & Ceballos  Layup (4 PTS) (Fisher 1 AST)            & NA & NA                                          & ⋯ & Lakers & LAL & 0 & 0 & NA &         NA & NA          & NA     & NA  & 0\\\\\n",
       "\t 29600012 & 48 & 1 & 1 & 1 & 14:59 PM & 7:05  & Fisher 25' 3PT Jump Shot (3 PTS) (Campbell 1 AST) & NA & NA                                          & ⋯ & Lakers & LAL & 0 & 0 & NA &         NA & NA          & NA     & NA  & 0\\\\\n",
       "\t 29600012 & 49 & 1 & 1 & 1 & 14:59 PM & 6:46  & NA                                                & NA & Cassell 15' Jump Shot (4 PTS) (Green 1 AST) & ⋯ & Suns   & PHX & 0 & 0 & NA &         NA & NA          & NA     & NA  & 0\\\\\n",
       "\t 29600012 & 50 & 1 & 1 & 1 & 15:00 PM & 6:30  & Jones 24' 3PT Jump Shot (3 PTS) (O'Neal 1 AST)    & NA & NA                                          & ⋯ & Lakers & LAL & 0 & 0 & NA &         NA & NA          & NA     & NA  & 0\\\\\n",
       "\t 29600012 & 56 & 1 & 1 & 1 & 15:03 PM & 5:44  & Campbell 14' Jump Shot (3 PTS) (Fisher 2 AST)     & NA & NA                                          & ⋯ & Lakers & LAL & 0 & 0 & NA &         NA & NA          & NA     & NA  & 0\\\\\n",
       "\t 29600012 & 70 & 1 & 5 & 1 & 15:05 PM & 4:37  & Campbell  Layup (5 PTS) (Fisher 3 AST)            & NA & NA                                          & ⋯ & Lakers & LAL & 0 & 0 & NA &         NA & NA          & NA     & NA  & 0\\\\\n",
       "\\end{tabular}\n"
      ],
      "text/markdown": [
       "\n",
       "A tibble: 10 × 34\n",
       "\n",
       "| game_id &lt;int&gt; | eventnum &lt;int&gt; | eventmsgtype &lt;int&gt; | eventmsgactiontype &lt;int&gt; | period &lt;int&gt; | wctimestring &lt;chr&gt; | pctimestring &lt;chr&gt; | homedescription &lt;chr&gt; | neutraldescription &lt;chr&gt; | visitordescription &lt;chr&gt; | ⋯ ⋯ | player2_team_nickname &lt;chr&gt; | player2_team_abbreviation &lt;chr&gt; | person3type &lt;dbl&gt; | player3_id &lt;int&gt; | player3_name &lt;chr&gt; | player3_team_id &lt;dbl&gt; | player3_team_city &lt;chr&gt; | player3_team_nickname &lt;chr&gt; | player3_team_abbreviation &lt;chr&gt; | video_available_flag &lt;int&gt; |\n",
       "|---|---|---|---|---|---|---|---|---|---|---|---|---|---|---|---|---|---|---|---|---|\n",
       "| 29600012 | 13 | 1 | 8 | 1 | 14:53 PM | 10:40 | O'Neal  Slam Dunk (2 PTS) (Van Exel 1 AST)        | NA | NA                                          | ⋯ | Lakers | LAL | 0 | 0 | NA |         NA | NA          | NA     | NA  | 0 |\n",
       "| 29600012 | 16 | 1 | 5 | 1 | 14:53 PM | 10:05 | Ceballos  Layup (2 PTS) (Jones 1 AST)             | NA | NA                                          | ⋯ | Lakers | LAL | 0 | 0 | NA |         NA | NA          | NA     | NA  | 0 |\n",
       "| 29600012 | 29 | 1 | 5 | 1 | 14:55 PM | 8:53  | NA                                                | NA | Person  Layup (2 PTS) (Kleine 1 AST)        | ⋯ | Suns   | PHX | 4 | 0 | NA | 1610612747 | Los Angeles | Lakers | LAL | 0 |\n",
       "| 29600012 | 39 | 1 | 3 | 1 | 14:57 PM | 8:03  | O'Neal 7' Hook Shot (4 PTS) (Jones 2 AST)         | NA | NA                                          | ⋯ | Lakers | LAL | 0 | 0 | NA |         NA | NA          | NA     | NA  | 0 |\n",
       "| 29600012 | 42 | 1 | 5 | 1 | 14:58 PM | 7:39  | Ceballos  Layup (4 PTS) (Fisher 1 AST)            | NA | NA                                          | ⋯ | Lakers | LAL | 0 | 0 | NA |         NA | NA          | NA     | NA  | 0 |\n",
       "| 29600012 | 48 | 1 | 1 | 1 | 14:59 PM | 7:05  | Fisher 25' 3PT Jump Shot (3 PTS) (Campbell 1 AST) | NA | NA                                          | ⋯ | Lakers | LAL | 0 | 0 | NA |         NA | NA          | NA     | NA  | 0 |\n",
       "| 29600012 | 49 | 1 | 1 | 1 | 14:59 PM | 6:46  | NA                                                | NA | Cassell 15' Jump Shot (4 PTS) (Green 1 AST) | ⋯ | Suns   | PHX | 0 | 0 | NA |         NA | NA          | NA     | NA  | 0 |\n",
       "| 29600012 | 50 | 1 | 1 | 1 | 15:00 PM | 6:30  | Jones 24' 3PT Jump Shot (3 PTS) (O'Neal 1 AST)    | NA | NA                                          | ⋯ | Lakers | LAL | 0 | 0 | NA |         NA | NA          | NA     | NA  | 0 |\n",
       "| 29600012 | 56 | 1 | 1 | 1 | 15:03 PM | 5:44  | Campbell 14' Jump Shot (3 PTS) (Fisher 2 AST)     | NA | NA                                          | ⋯ | Lakers | LAL | 0 | 0 | NA |         NA | NA          | NA     | NA  | 0 |\n",
       "| 29600012 | 70 | 1 | 5 | 1 | 15:05 PM | 4:37  | Campbell  Layup (5 PTS) (Fisher 3 AST)            | NA | NA                                          | ⋯ | Lakers | LAL | 0 | 0 | NA |         NA | NA          | NA     | NA  | 0 |\n",
       "\n"
      ],
      "text/plain": [
       "   game_id  eventnum eventmsgtype eventmsgactiontype period wctimestring\n",
       "1  29600012 13       1            8                  1      14:53 PM    \n",
       "2  29600012 16       1            5                  1      14:53 PM    \n",
       "3  29600012 29       1            5                  1      14:55 PM    \n",
       "4  29600012 39       1            3                  1      14:57 PM    \n",
       "5  29600012 42       1            5                  1      14:58 PM    \n",
       "6  29600012 48       1            1                  1      14:59 PM    \n",
       "7  29600012 49       1            1                  1      14:59 PM    \n",
       "8  29600012 50       1            1                  1      15:00 PM    \n",
       "9  29600012 56       1            1                  1      15:03 PM    \n",
       "10 29600012 70       1            5                  1      15:05 PM    \n",
       "   pctimestring homedescription                                  \n",
       "1  10:40        O'Neal  Slam Dunk (2 PTS) (Van Exel 1 AST)       \n",
       "2  10:05        Ceballos  Layup (2 PTS) (Jones 1 AST)            \n",
       "3  8:53         NA                                               \n",
       "4  8:03         O'Neal 7' Hook Shot (4 PTS) (Jones 2 AST)        \n",
       "5  7:39         Ceballos  Layup (4 PTS) (Fisher 1 AST)           \n",
       "6  7:05         Fisher 25' 3PT Jump Shot (3 PTS) (Campbell 1 AST)\n",
       "7  6:46         NA                                               \n",
       "8  6:30         Jones 24' 3PT Jump Shot (3 PTS) (O'Neal 1 AST)   \n",
       "9  5:44         Campbell 14' Jump Shot (3 PTS) (Fisher 2 AST)    \n",
       "10 4:37         Campbell  Layup (5 PTS) (Fisher 3 AST)           \n",
       "   neutraldescription visitordescription                          ⋯\n",
       "1  NA                 NA                                          ⋯\n",
       "2  NA                 NA                                          ⋯\n",
       "3  NA                 Person  Layup (2 PTS) (Kleine 1 AST)        ⋯\n",
       "4  NA                 NA                                          ⋯\n",
       "5  NA                 NA                                          ⋯\n",
       "6  NA                 NA                                          ⋯\n",
       "7  NA                 Cassell 15' Jump Shot (4 PTS) (Green 1 AST) ⋯\n",
       "8  NA                 NA                                          ⋯\n",
       "9  NA                 NA                                          ⋯\n",
       "10 NA                 NA                                          ⋯\n",
       "   player2_team_nickname player2_team_abbreviation person3type player3_id\n",
       "1  Lakers                LAL                       0           0         \n",
       "2  Lakers                LAL                       0           0         \n",
       "3  Suns                  PHX                       4           0         \n",
       "4  Lakers                LAL                       0           0         \n",
       "5  Lakers                LAL                       0           0         \n",
       "6  Lakers                LAL                       0           0         \n",
       "7  Suns                  PHX                       0           0         \n",
       "8  Lakers                LAL                       0           0         \n",
       "9  Lakers                LAL                       0           0         \n",
       "10 Lakers                LAL                       0           0         \n",
       "   player3_name player3_team_id player3_team_city player3_team_nickname\n",
       "1  NA                   NA      NA                NA                   \n",
       "2  NA                   NA      NA                NA                   \n",
       "3  NA           1610612747      Los Angeles       Lakers               \n",
       "4  NA                   NA      NA                NA                   \n",
       "5  NA                   NA      NA                NA                   \n",
       "6  NA                   NA      NA                NA                   \n",
       "7  NA                   NA      NA                NA                   \n",
       "8  NA                   NA      NA                NA                   \n",
       "9  NA                   NA      NA                NA                   \n",
       "10 NA                   NA      NA                NA                   \n",
       "   player3_team_abbreviation video_available_flag\n",
       "1  NA                        0                   \n",
       "2  NA                        0                   \n",
       "3  LAL                       0                   \n",
       "4  NA                        0                   \n",
       "5  NA                        0                   \n",
       "6  NA                        0                   \n",
       "7  NA                        0                   \n",
       "8  NA                        0                   \n",
       "9  NA                        0                   \n",
       "10 NA                        0                   "
      ]
     },
     "metadata": {},
     "output_type": "display_data"
    }
   ],
   "source": [
    "tbl(con, \"play_by_play\") %>% count(eventmsgtype) %>% collect()\n",
    "tbl(con, \"play_by_play\") %>% filter(eventmsgtype == 1) %>% head(10) %>% collect()"
   ]
  },
  {
   "cell_type": "code",
   "execution_count": 14,
   "id": "4460fe32-cfaa-4564-92cd-dda2d74a2f73",
   "metadata": {
    "vscode": {
     "languageId": "r"
    }
   },
   "outputs": [],
   "source": [
    "dbDisconnect(con, shutdown=TRUE)"
   ]
  },
  {
   "cell_type": "code",
   "execution_count": 32,
   "id": "7edcfde0",
   "metadata": {
    "vscode": {
     "languageId": "r"
    }
   },
   "outputs": [
    {
     "data": {
      "text/html": [
       "<style>\n",
       ".list-inline {list-style: none; margin:0; padding: 0}\n",
       ".list-inline>li {display: inline-block}\n",
       ".list-inline>li:not(:last-child)::after {content: \"\\00b7\"; padding: 0 .5ex}\n",
       "</style>\n",
       "<ol class=list-inline><li>'...1'</li><li>'Age'</li><li>'Birth_Place'</li><li>'Birthdate'</li><li>'College'</li><li>'Experience'</li><li>'First_Name'</li><li>'Height'</li><li>'Pos'</li><li>'Surname'</li><li>'Team'</li><li>'Weight'</li><li>'BMI'</li><li>'PLAYER_NAME'</li></ol>\n"
      ],
      "text/latex": [
       "\\begin{enumerate*}\n",
       "\\item '...1'\n",
       "\\item 'Age'\n",
       "\\item 'Birth\\_Place'\n",
       "\\item 'Birthdate'\n",
       "\\item 'College'\n",
       "\\item 'Experience'\n",
       "\\item 'First\\_Name'\n",
       "\\item 'Height'\n",
       "\\item 'Pos'\n",
       "\\item 'Surname'\n",
       "\\item 'Team'\n",
       "\\item 'Weight'\n",
       "\\item 'BMI'\n",
       "\\item 'PLAYER\\_NAME'\n",
       "\\end{enumerate*}\n"
      ],
      "text/markdown": [
       "1. '...1'\n",
       "2. 'Age'\n",
       "3. 'Birth_Place'\n",
       "4. 'Birthdate'\n",
       "5. 'College'\n",
       "6. 'Experience'\n",
       "7. 'First_Name'\n",
       "8. 'Height'\n",
       "9. 'Pos'\n",
       "10. 'Surname'\n",
       "11. 'Team'\n",
       "12. 'Weight'\n",
       "13. 'BMI'\n",
       "14. 'PLAYER_NAME'\n",
       "\n",
       "\n"
      ],
      "text/plain": [
       " [1] \"...1\"        \"Age\"         \"Birth_Place\" \"Birthdate\"   \"College\"    \n",
       " [6] \"Experience\"  \"First_Name\"  \"Height\"      \"Pos\"         \"Surname\"    \n",
       "[11] \"Team\"        \"Weight\"      \"BMI\"         \"PLAYER_NAME\""
      ]
     },
     "metadata": {},
     "output_type": "display_data"
    },
    {
     "data": {
      "text/html": [
       "<style>\n",
       ".list-inline {list-style: none; margin:0; padding: 0}\n",
       ".list-inline>li {display: inline-block}\n",
       ".list-inline>li:not(:last-child)::after {content: \"\\00b7\"; padding: 0 .5ex}\n",
       "</style>\n",
       "<ol class=list-inline><li>'GAME_ID'</li><li>'DATE'</li><li>'HOME_TEAM'</li><li>'AWAY_TEAM'</li><li>'PLAYER_NAME'</li><li>'PLAYER_ID'</li><li>'LOCATION'</li><li>'WIN_LOSE'</li><li>'FINAL_MARGIN'</li><li>'SHOT_NUMBER'</li><li>'PERIOD'</li><li>'SEC_REMAIN'</li><li>'SHOT_CLOCK'</li><li>'DRIBBLES'</li><li>'TOUCH_TIME'</li><li>'SHOT_DIST'</li><li>'PTS_TYPE'</li><li>'CLOSEST_DEFENDER'</li><li>'CLOSEST_DEFENDER_ID'</li><li>'CLOSE_DEF_DIST'</li><li>'SUCCESS'</li></ol>\n"
      ],
      "text/latex": [
       "\\begin{enumerate*}\n",
       "\\item 'GAME\\_ID'\n",
       "\\item 'DATE'\n",
       "\\item 'HOME\\_TEAM'\n",
       "\\item 'AWAY\\_TEAM'\n",
       "\\item 'PLAYER\\_NAME'\n",
       "\\item 'PLAYER\\_ID'\n",
       "\\item 'LOCATION'\n",
       "\\item 'WIN\\_LOSE'\n",
       "\\item 'FINAL\\_MARGIN'\n",
       "\\item 'SHOT\\_NUMBER'\n",
       "\\item 'PERIOD'\n",
       "\\item 'SEC\\_REMAIN'\n",
       "\\item 'SHOT\\_CLOCK'\n",
       "\\item 'DRIBBLES'\n",
       "\\item 'TOUCH\\_TIME'\n",
       "\\item 'SHOT\\_DIST'\n",
       "\\item 'PTS\\_TYPE'\n",
       "\\item 'CLOSEST\\_DEFENDER'\n",
       "\\item 'CLOSEST\\_DEFENDER\\_ID'\n",
       "\\item 'CLOSE\\_DEF\\_DIST'\n",
       "\\item 'SUCCESS'\n",
       "\\end{enumerate*}\n"
      ],
      "text/markdown": [
       "1. 'GAME_ID'\n",
       "2. 'DATE'\n",
       "3. 'HOME_TEAM'\n",
       "4. 'AWAY_TEAM'\n",
       "5. 'PLAYER_NAME'\n",
       "6. 'PLAYER_ID'\n",
       "7. 'LOCATION'\n",
       "8. 'WIN_LOSE'\n",
       "9. 'FINAL_MARGIN'\n",
       "10. 'SHOT_NUMBER'\n",
       "11. 'PERIOD'\n",
       "12. 'SEC_REMAIN'\n",
       "13. 'SHOT_CLOCK'\n",
       "14. 'DRIBBLES'\n",
       "15. 'TOUCH_TIME'\n",
       "16. 'SHOT_DIST'\n",
       "17. 'PTS_TYPE'\n",
       "18. 'CLOSEST_DEFENDER'\n",
       "19. 'CLOSEST_DEFENDER_ID'\n",
       "20. 'CLOSE_DEF_DIST'\n",
       "21. 'SUCCESS'\n",
       "\n",
       "\n"
      ],
      "text/plain": [
       " [1] \"GAME_ID\"             \"DATE\"                \"HOME_TEAM\"          \n",
       " [4] \"AWAY_TEAM\"           \"PLAYER_NAME\"         \"PLAYER_ID\"          \n",
       " [7] \"LOCATION\"            \"WIN_LOSE\"            \"FINAL_MARGIN\"       \n",
       "[10] \"SHOT_NUMBER\"         \"PERIOD\"              \"SEC_REMAIN\"         \n",
       "[13] \"SHOT_CLOCK\"          \"DRIBBLES\"            \"TOUCH_TIME\"         \n",
       "[16] \"SHOT_DIST\"           \"PTS_TYPE\"            \"CLOSEST_DEFENDER\"   \n",
       "[19] \"CLOSEST_DEFENDER_ID\" \"CLOSE_DEF_DIST\"      \"SUCCESS\"            "
      ]
     },
     "metadata": {},
     "output_type": "display_data"
    },
    {
     "data": {
      "text/html": [
       "<table class=\"dataframe\">\n",
       "<caption>A tibble: 6 × 34</caption>\n",
       "<thead>\n",
       "\t<tr><th scope=col>person_id</th><th scope=col>first_name</th><th scope=col>last_name</th><th scope=col>display_first_last</th><th scope=col>display_last_comma_first</th><th scope=col>display_fi_last</th><th scope=col>player_slug</th><th scope=col>birthdate</th><th scope=col>school</th><th scope=col>country</th><th scope=col>⋯</th><th scope=col>from_year</th><th scope=col>to_year</th><th scope=col>dleague_flag</th><th scope=col>nba_flag</th><th scope=col>games_played_flag</th><th scope=col>draft_year</th><th scope=col>draft_round</th><th scope=col>draft_number</th><th scope=col>greatest_75_flag</th><th scope=col>PLAYER_NAME</th></tr>\n",
       "\t<tr><th scope=col>&lt;dbl&gt;</th><th scope=col>&lt;chr&gt;</th><th scope=col>&lt;chr&gt;</th><th scope=col>&lt;chr&gt;</th><th scope=col>&lt;chr&gt;</th><th scope=col>&lt;chr&gt;</th><th scope=col>&lt;chr&gt;</th><th scope=col>&lt;dttm&gt;</th><th scope=col>&lt;chr&gt;</th><th scope=col>&lt;chr&gt;</th><th scope=col>⋯</th><th scope=col>&lt;dbl&gt;</th><th scope=col>&lt;dbl&gt;</th><th scope=col>&lt;chr&gt;</th><th scope=col>&lt;chr&gt;</th><th scope=col>&lt;chr&gt;</th><th scope=col>&lt;chr&gt;</th><th scope=col>&lt;chr&gt;</th><th scope=col>&lt;chr&gt;</th><th scope=col>&lt;chr&gt;</th><th scope=col>&lt;chr&gt;</th></tr>\n",
       "</thead>\n",
       "<tbody>\n",
       "\t<tr><td> 76120</td><td>Tim</td><td>Bassett     </td><td>Tim Bassett     </td><td>Bassett, Tim     </td><td>T. Bassett     </td><td>tim-bassett    </td><td>1951-04-01</td><td>Georgia      </td><td>USA              </td><td>⋯</td><td>1976</td><td>1979</td><td>N</td><td>Y</td><td>Y</td><td>1973     </td><td>7        </td><td>106      </td><td>N</td><td>Tim Bassett     </td></tr>\n",
       "\t<tr><td>   160</td><td>Tim</td><td>Breaux      </td><td>Tim Breaux      </td><td>Breaux, Tim      </td><td>T. Breaux      </td><td>tim-breaux     </td><td>1970-09-19</td><td>Wyoming      </td><td>USA              </td><td>⋯</td><td>1994</td><td>1997</td><td>N</td><td>Y</td><td>Y</td><td>Undrafted</td><td>Undrafted</td><td>Undrafted</td><td>N</td><td>Tim Breaux      </td></tr>\n",
       "\t<tr><td>  1495</td><td>Tim</td><td>Duncan      </td><td>Tim Duncan      </td><td>Duncan, Tim      </td><td>T. Duncan      </td><td>tim-duncan     </td><td>1976-04-25</td><td>Wake Forest  </td><td>US Virgin Islands</td><td>⋯</td><td>1997</td><td>2015</td><td>N</td><td>Y</td><td>Y</td><td>1997     </td><td>1        </td><td>1        </td><td>Y</td><td>Tim Duncan      </td></tr>\n",
       "\t<tr><td>204025</td><td>Tim</td><td>Frazier     </td><td>Tim Frazier     </td><td>Frazier, Tim     </td><td>T. Frazier     </td><td>tim-frazier    </td><td>1990-11-01</td><td>Penn State   </td><td>USA              </td><td>⋯</td><td>2014</td><td>2021</td><td>Y</td><td>Y</td><td>Y</td><td>Undrafted</td><td>Undrafted</td><td>Undrafted</td><td>N</td><td>Tim Frazier     </td></tr>\n",
       "\t<tr><td>   896</td><td>Tim</td><td>Hardaway    </td><td>Tim Hardaway    </td><td>Hardaway, Tim    </td><td>T. Hardaway    </td><td>tim-hardaway   </td><td>1966-09-01</td><td>Texas-El Paso</td><td>USA              </td><td>⋯</td><td>1989</td><td>2002</td><td>N</td><td>Y</td><td>Y</td><td>1989     </td><td>1        </td><td>14       </td><td>N</td><td>Tim Hardaway    </td></tr>\n",
       "\t<tr><td>203501</td><td>Tim</td><td>Hardaway Jr.</td><td>Tim Hardaway Jr.</td><td>Hardaway Jr., Tim</td><td>T. Hardaway Jr.</td><td>tim-hardaway-jr</td><td>1992-03-16</td><td>Michigan     </td><td>USA              </td><td>⋯</td><td>2013</td><td>2023</td><td>Y</td><td>Y</td><td>Y</td><td>2013     </td><td>1        </td><td>24       </td><td>N</td><td>Tim Hardaway Jr.</td></tr>\n",
       "</tbody>\n",
       "</table>\n"
      ],
      "text/latex": [
       "A tibble: 6 × 34\n",
       "\\begin{tabular}{lllllllllllllllllllll}\n",
       " person\\_id & first\\_name & last\\_name & display\\_first\\_last & display\\_last\\_comma\\_first & display\\_fi\\_last & player\\_slug & birthdate & school & country & ⋯ & from\\_year & to\\_year & dleague\\_flag & nba\\_flag & games\\_played\\_flag & draft\\_year & draft\\_round & draft\\_number & greatest\\_75\\_flag & PLAYER\\_NAME\\\\\n",
       " <dbl> & <chr> & <chr> & <chr> & <chr> & <chr> & <chr> & <dttm> & <chr> & <chr> & ⋯ & <dbl> & <dbl> & <chr> & <chr> & <chr> & <chr> & <chr> & <chr> & <chr> & <chr>\\\\\n",
       "\\hline\n",
       "\t  76120 & Tim & Bassett      & Tim Bassett      & Bassett, Tim      & T. Bassett      & tim-bassett     & 1951-04-01 & Georgia       & USA               & ⋯ & 1976 & 1979 & N & Y & Y & 1973      & 7         & 106       & N & Tim Bassett     \\\\\n",
       "\t    160 & Tim & Breaux       & Tim Breaux       & Breaux, Tim       & T. Breaux       & tim-breaux      & 1970-09-19 & Wyoming       & USA               & ⋯ & 1994 & 1997 & N & Y & Y & Undrafted & Undrafted & Undrafted & N & Tim Breaux      \\\\\n",
       "\t   1495 & Tim & Duncan       & Tim Duncan       & Duncan, Tim       & T. Duncan       & tim-duncan      & 1976-04-25 & Wake Forest   & US Virgin Islands & ⋯ & 1997 & 2015 & N & Y & Y & 1997      & 1         & 1         & Y & Tim Duncan      \\\\\n",
       "\t 204025 & Tim & Frazier      & Tim Frazier      & Frazier, Tim      & T. Frazier      & tim-frazier     & 1990-11-01 & Penn State    & USA               & ⋯ & 2014 & 2021 & Y & Y & Y & Undrafted & Undrafted & Undrafted & N & Tim Frazier     \\\\\n",
       "\t    896 & Tim & Hardaway     & Tim Hardaway     & Hardaway, Tim     & T. Hardaway     & tim-hardaway    & 1966-09-01 & Texas-El Paso & USA               & ⋯ & 1989 & 2002 & N & Y & Y & 1989      & 1         & 14        & N & Tim Hardaway    \\\\\n",
       "\t 203501 & Tim & Hardaway Jr. & Tim Hardaway Jr. & Hardaway Jr., Tim & T. Hardaway Jr. & tim-hardaway-jr & 1992-03-16 & Michigan      & USA               & ⋯ & 2013 & 2023 & Y & Y & Y & 2013      & 1         & 24        & N & Tim Hardaway Jr.\\\\\n",
       "\\end{tabular}\n"
      ],
      "text/markdown": [
       "\n",
       "A tibble: 6 × 34\n",
       "\n",
       "| person_id &lt;dbl&gt; | first_name &lt;chr&gt; | last_name &lt;chr&gt; | display_first_last &lt;chr&gt; | display_last_comma_first &lt;chr&gt; | display_fi_last &lt;chr&gt; | player_slug &lt;chr&gt; | birthdate &lt;dttm&gt; | school &lt;chr&gt; | country &lt;chr&gt; | ⋯ ⋯ | from_year &lt;dbl&gt; | to_year &lt;dbl&gt; | dleague_flag &lt;chr&gt; | nba_flag &lt;chr&gt; | games_played_flag &lt;chr&gt; | draft_year &lt;chr&gt; | draft_round &lt;chr&gt; | draft_number &lt;chr&gt; | greatest_75_flag &lt;chr&gt; | PLAYER_NAME &lt;chr&gt; |\n",
       "|---|---|---|---|---|---|---|---|---|---|---|---|---|---|---|---|---|---|---|---|---|\n",
       "|  76120 | Tim | Bassett      | Tim Bassett      | Bassett, Tim      | T. Bassett      | tim-bassett     | 1951-04-01 | Georgia       | USA               | ⋯ | 1976 | 1979 | N | Y | Y | 1973      | 7         | 106       | N | Tim Bassett      |\n",
       "|    160 | Tim | Breaux       | Tim Breaux       | Breaux, Tim       | T. Breaux       | tim-breaux      | 1970-09-19 | Wyoming       | USA               | ⋯ | 1994 | 1997 | N | Y | Y | Undrafted | Undrafted | Undrafted | N | Tim Breaux       |\n",
       "|   1495 | Tim | Duncan       | Tim Duncan       | Duncan, Tim       | T. Duncan       | tim-duncan      | 1976-04-25 | Wake Forest   | US Virgin Islands | ⋯ | 1997 | 2015 | N | Y | Y | 1997      | 1         | 1         | Y | Tim Duncan       |\n",
       "| 204025 | Tim | Frazier      | Tim Frazier      | Frazier, Tim      | T. Frazier      | tim-frazier     | 1990-11-01 | Penn State    | USA               | ⋯ | 2014 | 2021 | Y | Y | Y | Undrafted | Undrafted | Undrafted | N | Tim Frazier      |\n",
       "|    896 | Tim | Hardaway     | Tim Hardaway     | Hardaway, Tim     | T. Hardaway     | tim-hardaway    | 1966-09-01 | Texas-El Paso | USA               | ⋯ | 1989 | 2002 | N | Y | Y | 1989      | 1         | 14        | N | Tim Hardaway     |\n",
       "| 203501 | Tim | Hardaway Jr. | Tim Hardaway Jr. | Hardaway Jr., Tim | T. Hardaway Jr. | tim-hardaway-jr | 1992-03-16 | Michigan      | USA               | ⋯ | 2013 | 2023 | Y | Y | Y | 2013      | 1         | 24        | N | Tim Hardaway Jr. |\n",
       "\n"
      ],
      "text/plain": [
       "  person_id first_name last_name    display_first_last display_last_comma_first\n",
       "1  76120    Tim        Bassett      Tim Bassett        Bassett, Tim            \n",
       "2    160    Tim        Breaux       Tim Breaux         Breaux, Tim             \n",
       "3   1495    Tim        Duncan       Tim Duncan         Duncan, Tim             \n",
       "4 204025    Tim        Frazier      Tim Frazier        Frazier, Tim            \n",
       "5    896    Tim        Hardaway     Tim Hardaway       Hardaway, Tim           \n",
       "6 203501    Tim        Hardaway Jr. Tim Hardaway Jr.   Hardaway Jr., Tim       \n",
       "  display_fi_last player_slug     birthdate  school        country           ⋯\n",
       "1 T. Bassett      tim-bassett     1951-04-01 Georgia       USA               ⋯\n",
       "2 T. Breaux       tim-breaux      1970-09-19 Wyoming       USA               ⋯\n",
       "3 T. Duncan       tim-duncan      1976-04-25 Wake Forest   US Virgin Islands ⋯\n",
       "4 T. Frazier      tim-frazier     1990-11-01 Penn State    USA               ⋯\n",
       "5 T. Hardaway     tim-hardaway    1966-09-01 Texas-El Paso USA               ⋯\n",
       "6 T. Hardaway Jr. tim-hardaway-jr 1992-03-16 Michigan      USA               ⋯\n",
       "  from_year to_year dleague_flag nba_flag games_played_flag draft_year\n",
       "1 1976      1979    N            Y        Y                 1973      \n",
       "2 1994      1997    N            Y        Y                 Undrafted \n",
       "3 1997      2015    N            Y        Y                 1997      \n",
       "4 2014      2021    Y            Y        Y                 Undrafted \n",
       "5 1989      2002    N            Y        Y                 1989      \n",
       "6 2013      2023    Y            Y        Y                 2013      \n",
       "  draft_round draft_number greatest_75_flag PLAYER_NAME     \n",
       "1 7           106          N                Tim Bassett     \n",
       "2 Undrafted   Undrafted    N                Tim Breaux      \n",
       "3 1           1            Y                Tim Duncan      \n",
       "4 Undrafted   Undrafted    N                Tim Frazier     \n",
       "5 1           14           N                Tim Hardaway    \n",
       "6 1           24           N                Tim Hardaway Jr."
      ]
     },
     "metadata": {},
     "output_type": "display_data"
    },
    {
     "name": "stderr",
     "output_type": "stream",
     "text": [
      "Warning message in left_join(., lookup_height_pos %>% rename(CLOSEST_DEFENDER = PLAYER_NAME), :\n",
      "\"\u001b[1m\u001b[22mDetected an unexpected many-to-many relationship between `x` and `y`.\n",
      "\u001b[36mℹ\u001b[39m Row 97 of `x` matches multiple rows in `y`.\n",
      "\u001b[36mℹ\u001b[39m Row 334 of `y` matches multiple rows in `x`.\n",
      "\u001b[36mℹ\u001b[39m If a many-to-many relationship is expected, set `relationship =\n",
      "  \"many-to-many\"` to silence this warning.\"\n"
     ]
    },
    {
     "data": {
      "text/html": [
       "<table class=\"dataframe\">\n",
       "<caption>A tibble: 1 × 14</caption>\n",
       "<thead>\n",
       "\t<tr><th scope=col>...1</th><th scope=col>Age</th><th scope=col>Birth_Place</th><th scope=col>Birthdate</th><th scope=col>College</th><th scope=col>Experience</th><th scope=col>First_Name</th><th scope=col>Height</th><th scope=col>Pos</th><th scope=col>Surname</th><th scope=col>Team</th><th scope=col>Weight</th><th scope=col>BMI</th><th scope=col>PLAYER_NAME</th></tr>\n",
       "\t<tr><th scope=col>&lt;dbl&gt;</th><th scope=col>&lt;dbl&gt;</th><th scope=col>&lt;chr&gt;</th><th scope=col>&lt;chr&gt;</th><th scope=col>&lt;chr&gt;</th><th scope=col>&lt;chr&gt;</th><th scope=col>&lt;chr&gt;</th><th scope=col>&lt;dbl&gt;</th><th scope=col>&lt;chr&gt;</th><th scope=col>&lt;chr&gt;</th><th scope=col>&lt;chr&gt;</th><th scope=col>&lt;dbl&gt;</th><th scope=col>&lt;dbl&gt;</th><th scope=col>&lt;chr&gt;</th></tr>\n",
       "</thead>\n",
       "<tbody>\n",
       "\t<tr><td>310</td><td>23</td><td>us</td><td>March 16, 1992</td><td>University of Michigan</td><td>1</td><td>Tim</td><td>195</td><td>SG</td><td>Hardaway</td><td>NYK</td><td>92.25</td><td>24.26036</td><td>Tim Hardaway</td></tr>\n",
       "</tbody>\n",
       "</table>\n"
      ],
      "text/latex": [
       "A tibble: 1 × 14\n",
       "\\begin{tabular}{llllllllllllll}\n",
       " ...1 & Age & Birth\\_Place & Birthdate & College & Experience & First\\_Name & Height & Pos & Surname & Team & Weight & BMI & PLAYER\\_NAME\\\\\n",
       " <dbl> & <dbl> & <chr> & <chr> & <chr> & <chr> & <chr> & <dbl> & <chr> & <chr> & <chr> & <dbl> & <dbl> & <chr>\\\\\n",
       "\\hline\n",
       "\t 310 & 23 & us & March 16, 1992 & University of Michigan & 1 & Tim & 195 & SG & Hardaway & NYK & 92.25 & 24.26036 & Tim Hardaway\\\\\n",
       "\\end{tabular}\n"
      ],
      "text/markdown": [
       "\n",
       "A tibble: 1 × 14\n",
       "\n",
       "| ...1 &lt;dbl&gt; | Age &lt;dbl&gt; | Birth_Place &lt;chr&gt; | Birthdate &lt;chr&gt; | College &lt;chr&gt; | Experience &lt;chr&gt; | First_Name &lt;chr&gt; | Height &lt;dbl&gt; | Pos &lt;chr&gt; | Surname &lt;chr&gt; | Team &lt;chr&gt; | Weight &lt;dbl&gt; | BMI &lt;dbl&gt; | PLAYER_NAME &lt;chr&gt; |\n",
       "|---|---|---|---|---|---|---|---|---|---|---|---|---|---|\n",
       "| 310 | 23 | us | March 16, 1992 | University of Michigan | 1 | Tim | 195 | SG | Hardaway | NYK | 92.25 | 24.26036 | Tim Hardaway |\n",
       "\n"
      ],
      "text/plain": [
       "  ...1 Age Birth_Place Birthdate      College                Experience\n",
       "1 310  23  us          March 16, 1992 University of Michigan 1         \n",
       "  First_Name Height Pos Surname  Team Weight BMI      PLAYER_NAME \n",
       "1 Tim        195    SG  Hardaway NYK  92.25  24.26036 Tim Hardaway"
      ]
     },
     "metadata": {},
     "output_type": "display_data"
    },
    {
     "data": {
      "text/html": [
       "<table class=\"dataframe\">\n",
       "<caption>A tibble: 1 × 1</caption>\n",
       "<thead>\n",
       "\t<tr><th scope=col>n</th></tr>\n",
       "\t<tr><th scope=col>&lt;int&gt;</th></tr>\n",
       "</thead>\n",
       "<tbody>\n",
       "\t<tr><td>15121</td></tr>\n",
       "</tbody>\n",
       "</table>\n"
      ],
      "text/latex": [
       "A tibble: 1 × 1\n",
       "\\begin{tabular}{l}\n",
       " n\\\\\n",
       " <int>\\\\\n",
       "\\hline\n",
       "\t 15121\\\\\n",
       "\\end{tabular}\n"
      ],
      "text/markdown": [
       "\n",
       "A tibble: 1 × 1\n",
       "\n",
       "| n &lt;int&gt; |\n",
       "|---|\n",
       "| 15121 |\n",
       "\n"
      ],
      "text/plain": [
       "  n    \n",
       "1 15121"
      ]
     },
     "metadata": {},
     "output_type": "display_data"
    },
    {
     "data": {
      "text/html": [
       "<table class=\"dataframe\">\n",
       "<caption>A tibble: 36 × 1</caption>\n",
       "<thead>\n",
       "\t<tr><th scope=col>PLAYER_NAME</th></tr>\n",
       "\t<tr><th scope=col>&lt;chr&gt;</th></tr>\n",
       "</thead>\n",
       "<tbody>\n",
       "\t<tr><td>Kyle Oquinn       </td></tr>\n",
       "\t<tr><td>Robert Sacre      </td></tr>\n",
       "\t<tr><td>Jason Terry       </td></tr>\n",
       "\t<tr><td>Cody Zeller       </td></tr>\n",
       "\t<tr><td>Hollis Thompson   </td></tr>\n",
       "\t<tr><td>Jakarr Sampson    </td></tr>\n",
       "\t<tr><td>Henry Sims        </td></tr>\n",
       "\t<tr><td>Marcus Thornton   </td></tr>\n",
       "\t<tr><td>Tyler Zeller      </td></tr>\n",
       "\t<tr><td>Evan Turner       </td></tr>\n",
       "\t<tr><td>Mirza Teletovic   </td></tr>\n",
       "\t<tr><td>Deron Williams    </td></tr>\n",
       "\t<tr><td>John Wall         </td></tr>\n",
       "\t<tr><td>Shawne Williams   </td></tr>\n",
       "\t<tr><td>Dwyane Wade       </td></tr>\n",
       "\t<tr><td>Shabazz Napier    </td></tr>\n",
       "\t<tr><td>Beno Udrih        </td></tr>\n",
       "\t<tr><td>Andrew Wiggins    </td></tr>\n",
       "\t<tr><td>Thaddeus Young    </td></tr>\n",
       "\t<tr><td>Jason Smith       </td></tr>\n",
       "\t<tr><td>Travis Wear       </td></tr>\n",
       "\t<tr><td>Amare Stoudemire  </td></tr>\n",
       "\t<tr><td>Time Hardaway Jr  </td></tr>\n",
       "\t<tr><td>Nate Robinson     </td></tr>\n",
       "\t<tr><td>Jusuf Nurkic      </td></tr>\n",
       "\t<tr><td>Jason Thompson    </td></tr>\n",
       "\t<tr><td>Derrick Williams  </td></tr>\n",
       "\t<tr><td>Russell Westbrook </td></tr>\n",
       "\t<tr><td>Steve Adams       </td></tr>\n",
       "\t<tr><td>Tristan Thompson  </td></tr>\n",
       "\t<tr><td>Jose Juan Barea   </td></tr>\n",
       "\t<tr><td>Luc Mbah a Moute  </td></tr>\n",
       "\t<tr><td>Hedo Turkoglu     </td></tr>\n",
       "\t<tr><td>Pj Tucker         </td></tr>\n",
       "\t<tr><td>Charlie Villanueva</td></tr>\n",
       "\t<tr><td>Nick Young        </td></tr>\n",
       "</tbody>\n",
       "</table>\n"
      ],
      "text/latex": [
       "A tibble: 36 × 1\n",
       "\\begin{tabular}{l}\n",
       " PLAYER\\_NAME\\\\\n",
       " <chr>\\\\\n",
       "\\hline\n",
       "\t Kyle Oquinn       \\\\\n",
       "\t Robert Sacre      \\\\\n",
       "\t Jason Terry       \\\\\n",
       "\t Cody Zeller       \\\\\n",
       "\t Hollis Thompson   \\\\\n",
       "\t Jakarr Sampson    \\\\\n",
       "\t Henry Sims        \\\\\n",
       "\t Marcus Thornton   \\\\\n",
       "\t Tyler Zeller      \\\\\n",
       "\t Evan Turner       \\\\\n",
       "\t Mirza Teletovic   \\\\\n",
       "\t Deron Williams    \\\\\n",
       "\t John Wall         \\\\\n",
       "\t Shawne Williams   \\\\\n",
       "\t Dwyane Wade       \\\\\n",
       "\t Shabazz Napier    \\\\\n",
       "\t Beno Udrih        \\\\\n",
       "\t Andrew Wiggins    \\\\\n",
       "\t Thaddeus Young    \\\\\n",
       "\t Jason Smith       \\\\\n",
       "\t Travis Wear       \\\\\n",
       "\t Amare Stoudemire  \\\\\n",
       "\t Time Hardaway Jr  \\\\\n",
       "\t Nate Robinson     \\\\\n",
       "\t Jusuf Nurkic      \\\\\n",
       "\t Jason Thompson    \\\\\n",
       "\t Derrick Williams  \\\\\n",
       "\t Russell Westbrook \\\\\n",
       "\t Steve Adams       \\\\\n",
       "\t Tristan Thompson  \\\\\n",
       "\t Jose Juan Barea   \\\\\n",
       "\t Luc Mbah a Moute  \\\\\n",
       "\t Hedo Turkoglu     \\\\\n",
       "\t Pj Tucker         \\\\\n",
       "\t Charlie Villanueva\\\\\n",
       "\t Nick Young        \\\\\n",
       "\\end{tabular}\n"
      ],
      "text/markdown": [
       "\n",
       "A tibble: 36 × 1\n",
       "\n",
       "| PLAYER_NAME &lt;chr&gt; |\n",
       "|---|\n",
       "| Kyle Oquinn        |\n",
       "| Robert Sacre       |\n",
       "| Jason Terry        |\n",
       "| Cody Zeller        |\n",
       "| Hollis Thompson    |\n",
       "| Jakarr Sampson     |\n",
       "| Henry Sims         |\n",
       "| Marcus Thornton    |\n",
       "| Tyler Zeller       |\n",
       "| Evan Turner        |\n",
       "| Mirza Teletovic    |\n",
       "| Deron Williams     |\n",
       "| John Wall          |\n",
       "| Shawne Williams    |\n",
       "| Dwyane Wade        |\n",
       "| Shabazz Napier     |\n",
       "| Beno Udrih         |\n",
       "| Andrew Wiggins     |\n",
       "| Thaddeus Young     |\n",
       "| Jason Smith        |\n",
       "| Travis Wear        |\n",
       "| Amare Stoudemire   |\n",
       "| Time Hardaway Jr   |\n",
       "| Nate Robinson      |\n",
       "| Jusuf Nurkic       |\n",
       "| Jason Thompson     |\n",
       "| Derrick Williams   |\n",
       "| Russell Westbrook  |\n",
       "| Steve Adams        |\n",
       "| Tristan Thompson   |\n",
       "| Jose Juan Barea    |\n",
       "| Luc Mbah a Moute   |\n",
       "| Hedo Turkoglu      |\n",
       "| Pj Tucker          |\n",
       "| Charlie Villanueva |\n",
       "| Nick Young         |\n",
       "\n"
      ],
      "text/plain": [
       "   PLAYER_NAME       \n",
       "1  Kyle Oquinn       \n",
       "2  Robert Sacre      \n",
       "3  Jason Terry       \n",
       "4  Cody Zeller       \n",
       "5  Hollis Thompson   \n",
       "6  Jakarr Sampson    \n",
       "7  Henry Sims        \n",
       "8  Marcus Thornton   \n",
       "9  Tyler Zeller      \n",
       "10 Evan Turner       \n",
       "11 Mirza Teletovic   \n",
       "12 Deron Williams    \n",
       "13 John Wall         \n",
       "14 Shawne Williams   \n",
       "15 Dwyane Wade       \n",
       "16 Shabazz Napier    \n",
       "17 Beno Udrih        \n",
       "18 Andrew Wiggins    \n",
       "19 Thaddeus Young    \n",
       "20 Jason Smith       \n",
       "21 Travis Wear       \n",
       "22 Amare Stoudemire  \n",
       "23 Time Hardaway Jr  \n",
       "24 Nate Robinson     \n",
       "25 Jusuf Nurkic      \n",
       "26 Jason Thompson    \n",
       "27 Derrick Williams  \n",
       "28 Russell Westbrook \n",
       "29 Steve Adams       \n",
       "30 Tristan Thompson  \n",
       "31 Jose Juan Barea   \n",
       "32 Luc Mbah a Moute  \n",
       "33 Hedo Turkoglu     \n",
       "34 Pj Tucker         \n",
       "35 Charlie Villanueva\n",
       "36 Nick Young        "
      ]
     },
     "metadata": {},
     "output_type": "display_data"
    }
   ],
   "source": [
    "predictors <- c(\"PLAYER_NAME\", \"CLOSEST_DEFENDER\" ,\"SHOT_DIST\", \"PTS_TYPE\", \"CLOSE_DEF_DIST\", \"SHOT_CLOCK\", \"TOUCH_TIME\", \"PERIOD\", \"SUCCESS\")\n",
    "colnames(player_info)\n",
    "colnames(clean_shots)\n",
    "head(common_player_info %>% filter(first_name == \"Tim\"))\n",
    "\n",
    "lookup_height_pos <- player_info %>%\n",
    "    select(PLAYER_NAME, Height, Pos)\n",
    "\n",
    "model_data <- clean_shots %>% \n",
    "    select(all_of(predictors)) %>%\n",
    "    left_join(lookup_height_pos, by=\"PLAYER_NAME\", relationship = \"many-to-many\") %>%\n",
    "    rename(SHOOTER_POS = Pos, SHOOTER_HEIGHT = Height) %>%\n",
    "    left_join(lookup_height_pos %>% rename(CLOSEST_DEFENDER = PLAYER_NAME), by=\"CLOSEST_DEFENDER\") %>%\n",
    "    rename(DEFENDER_POS = Pos, DEFENDER_HEIGHT = Height)\n",
    "\n",
    "\n",
    "\n",
    "set.seed(0)\n",
    "train_indices <- sample(1:nrow(model_data), size = 0.70 * nrow(model_data))\n",
    "train <- model_data[train_indices, ]\n",
    "test <- model_data[-train_indices, ]\n",
    "\n",
    "#lookup_height_pos %>% head(10)\n",
    "\n",
    "\n",
    "#dplyr::filter(clean_shots, grepl(\"Kyle\",PLAYER_NAME)) ## found issues with apostrophe in name of Kyle O'Quinn (was Oquinn)\n",
    "\n",
    "bad_names <- model_data %>% filter(is.na(SHOOTER_HEIGHT) | is.na(SHOOTER_POS)) %>% distinct(PLAYER_NAME, .keep_all=FALSE)\n",
    "\n",
    "dplyr::filter(player_info, grepl(\"Hardaway\",PLAYER_NAME))\n",
    "\n",
    "#player_info %>% filter(Team == \"LAL\") %>% distinct(PLAYER_NAME)\n",
    "\n",
    "#Robert Sacre not in player_info. Plays for LAL\n",
    "#Jason Terry not in either. Plays for HOU\n",
    "#John Salmons not in player_info. Played for NOP and got traded to PHX midseason\n",
    "#Brandan Wright not in player_info. Played for BOS and got traded to PHX at some point\n",
    "#Cody Zeller ... Played for Charlotte Bobcats\n",
    "\n",
    "model_data %>% filter(is.na(SHOOTER_HEIGHT)) %>% count()\n",
    "bad_names\n"
   ]
  },
  {
   "cell_type": "code",
   "execution_count": 16,
   "id": "19368c1b",
   "metadata": {
    "vscode": {
     "languageId": "r"
    }
   },
   "outputs": [
    {
     "name": "stderr",
     "output_type": "stream",
     "text": [
      "\u001b[1m\u001b[22mJoining with `by = join_by(Surname)`\n",
      "Warning message in left_join(., player_info %>% select(Surname, Age)):\n",
      "\"\u001b[1m\u001b[22mDetected an unexpected many-to-many relationship between `x` and `y`.\n",
      "\u001b[36mℹ\u001b[39m Row 12 of `x` matches multiple rows in `y`.\n",
      "\u001b[36mℹ\u001b[39m Row 63 of `y` matches multiple rows in `x`.\n",
      "\u001b[36mℹ\u001b[39m If a many-to-many relationship is expected, set `relationship =\n",
      "  \"many-to-many\"` to silence this warning.\"\n"
     ]
    },
    {
     "data": {
      "text/html": [
       "<table class=\"dataframe\">\n",
       "<caption>A tibble: 45 × 3</caption>\n",
       "<thead>\n",
       "\t<tr><th scope=col>PLAYER_NAME</th><th scope=col>Surname</th><th scope=col>Age</th></tr>\n",
       "\t<tr><th scope=col>&lt;chr&gt;</th><th scope=col>&lt;chr&gt;</th><th scope=col>&lt;dbl&gt;</th></tr>\n",
       "</thead>\n",
       "<tbody>\n",
       "\t<tr><td>Kyle Oquinn       </td><td>Oquinn    </td><td>NA</td></tr>\n",
       "\t<tr><td>Robert Sacre      </td><td>Sacre     </td><td>NA</td></tr>\n",
       "\t<tr><td>Jason Terry       </td><td>Terry     </td><td>NA</td></tr>\n",
       "\t<tr><td>Cody Zeller       </td><td>Zeller    </td><td>NA</td></tr>\n",
       "\t<tr><td>Hollis Thompson   </td><td>Thompson  </td><td>25</td></tr>\n",
       "\t<tr><td>Jakarr Sampson    </td><td>Sampson   </td><td>NA</td></tr>\n",
       "\t<tr><td>Henry Sims        </td><td>Sims      </td><td>NA</td></tr>\n",
       "\t<tr><td>Marcus Thornton   </td><td>Thornton  </td><td>NA</td></tr>\n",
       "\t<tr><td>Tyler Zeller      </td><td>Zeller    </td><td>NA</td></tr>\n",
       "\t<tr><td>Evan Turner       </td><td>Turner    </td><td>NA</td></tr>\n",
       "\t<tr><td>Mirza Teletovic   </td><td>Teletovic </td><td>NA</td></tr>\n",
       "\t<tr><td>Deron Williams    </td><td>Williams  </td><td>29</td></tr>\n",
       "\t<tr><td>Deron Williams    </td><td>Williams  </td><td>33</td></tr>\n",
       "\t<tr><td>Deron Williams    </td><td>Williams  </td><td>29</td></tr>\n",
       "\t<tr><td>John Wall         </td><td>Wall      </td><td>NA</td></tr>\n",
       "\t<tr><td>Shawne Williams   </td><td>Williams  </td><td>29</td></tr>\n",
       "\t<tr><td>Shawne Williams   </td><td>Williams  </td><td>33</td></tr>\n",
       "\t<tr><td>Shawne Williams   </td><td>Williams  </td><td>29</td></tr>\n",
       "\t<tr><td>Dwyane Wade       </td><td>Wade      </td><td>NA</td></tr>\n",
       "\t<tr><td>Shabazz Napier    </td><td>Napier    </td><td>NA</td></tr>\n",
       "\t<tr><td>Beno Udrih        </td><td>Udrih     </td><td>NA</td></tr>\n",
       "\t<tr><td>Andrew Wiggins    </td><td>Wiggins   </td><td>NA</td></tr>\n",
       "\t<tr><td>Thaddeus Young    </td><td>Young     </td><td>NA</td></tr>\n",
       "\t<tr><td>Jason Smith       </td><td>Smith     </td><td>24</td></tr>\n",
       "\t<tr><td>Jason Smith       </td><td>Smith     </td><td>24</td></tr>\n",
       "\t<tr><td>Jason Smith       </td><td>Smith     </td><td>30</td></tr>\n",
       "\t<tr><td>Travis Wear       </td><td>Wear      </td><td>NA</td></tr>\n",
       "\t<tr><td>Amare Stoudemire  </td><td>Stoudemire</td><td>NA</td></tr>\n",
       "\t<tr><td>Time Hardaway Jr  </td><td>Jr        </td><td>NA</td></tr>\n",
       "\t<tr><td>Nate Robinson     </td><td>Robinson  </td><td>NA</td></tr>\n",
       "\t<tr><td>Jusuf Nurkic      </td><td>Nurkic    </td><td>NA</td></tr>\n",
       "\t<tr><td>Jason Thompson    </td><td>Thompson  </td><td>25</td></tr>\n",
       "\t<tr><td>Derrick Williams  </td><td>Williams  </td><td>29</td></tr>\n",
       "\t<tr><td>Derrick Williams  </td><td>Williams  </td><td>33</td></tr>\n",
       "\t<tr><td>Derrick Williams  </td><td>Williams  </td><td>29</td></tr>\n",
       "\t<tr><td>Russell Westbrook </td><td>Westbrook </td><td>NA</td></tr>\n",
       "\t<tr><td>Steve Adams       </td><td>Adams     </td><td>21</td></tr>\n",
       "\t<tr><td>Steve Adams       </td><td>Adams     </td><td>22</td></tr>\n",
       "\t<tr><td>Tristan Thompson  </td><td>Thompson  </td><td>25</td></tr>\n",
       "\t<tr><td>Jose Juan Barea   </td><td>Barea     </td><td>31</td></tr>\n",
       "\t<tr><td>Luc Mbah a Moute  </td><td>Moute     </td><td>NA</td></tr>\n",
       "\t<tr><td>Hedo Turkoglu     </td><td>Turkoglu  </td><td>NA</td></tr>\n",
       "\t<tr><td>Pj Tucker         </td><td>Tucker    </td><td>NA</td></tr>\n",
       "\t<tr><td>Charlie Villanueva</td><td>Villanueva</td><td>NA</td></tr>\n",
       "\t<tr><td>Nick Young        </td><td>Young     </td><td>NA</td></tr>\n",
       "</tbody>\n",
       "</table>\n"
      ],
      "text/latex": [
       "A tibble: 45 × 3\n",
       "\\begin{tabular}{lll}\n",
       " PLAYER\\_NAME & Surname & Age\\\\\n",
       " <chr> & <chr> & <dbl>\\\\\n",
       "\\hline\n",
       "\t Kyle Oquinn        & Oquinn     & NA\\\\\n",
       "\t Robert Sacre       & Sacre      & NA\\\\\n",
       "\t Jason Terry        & Terry      & NA\\\\\n",
       "\t Cody Zeller        & Zeller     & NA\\\\\n",
       "\t Hollis Thompson    & Thompson   & 25\\\\\n",
       "\t Jakarr Sampson     & Sampson    & NA\\\\\n",
       "\t Henry Sims         & Sims       & NA\\\\\n",
       "\t Marcus Thornton    & Thornton   & NA\\\\\n",
       "\t Tyler Zeller       & Zeller     & NA\\\\\n",
       "\t Evan Turner        & Turner     & NA\\\\\n",
       "\t Mirza Teletovic    & Teletovic  & NA\\\\\n",
       "\t Deron Williams     & Williams   & 29\\\\\n",
       "\t Deron Williams     & Williams   & 33\\\\\n",
       "\t Deron Williams     & Williams   & 29\\\\\n",
       "\t John Wall          & Wall       & NA\\\\\n",
       "\t Shawne Williams    & Williams   & 29\\\\\n",
       "\t Shawne Williams    & Williams   & 33\\\\\n",
       "\t Shawne Williams    & Williams   & 29\\\\\n",
       "\t Dwyane Wade        & Wade       & NA\\\\\n",
       "\t Shabazz Napier     & Napier     & NA\\\\\n",
       "\t Beno Udrih         & Udrih      & NA\\\\\n",
       "\t Andrew Wiggins     & Wiggins    & NA\\\\\n",
       "\t Thaddeus Young     & Young      & NA\\\\\n",
       "\t Jason Smith        & Smith      & 24\\\\\n",
       "\t Jason Smith        & Smith      & 24\\\\\n",
       "\t Jason Smith        & Smith      & 30\\\\\n",
       "\t Travis Wear        & Wear       & NA\\\\\n",
       "\t Amare Stoudemire   & Stoudemire & NA\\\\\n",
       "\t Time Hardaway Jr   & Jr         & NA\\\\\n",
       "\t Nate Robinson      & Robinson   & NA\\\\\n",
       "\t Jusuf Nurkic       & Nurkic     & NA\\\\\n",
       "\t Jason Thompson     & Thompson   & 25\\\\\n",
       "\t Derrick Williams   & Williams   & 29\\\\\n",
       "\t Derrick Williams   & Williams   & 33\\\\\n",
       "\t Derrick Williams   & Williams   & 29\\\\\n",
       "\t Russell Westbrook  & Westbrook  & NA\\\\\n",
       "\t Steve Adams        & Adams      & 21\\\\\n",
       "\t Steve Adams        & Adams      & 22\\\\\n",
       "\t Tristan Thompson   & Thompson   & 25\\\\\n",
       "\t Jose Juan Barea    & Barea      & 31\\\\\n",
       "\t Luc Mbah a Moute   & Moute      & NA\\\\\n",
       "\t Hedo Turkoglu      & Turkoglu   & NA\\\\\n",
       "\t Pj Tucker          & Tucker     & NA\\\\\n",
       "\t Charlie Villanueva & Villanueva & NA\\\\\n",
       "\t Nick Young         & Young      & NA\\\\\n",
       "\\end{tabular}\n"
      ],
      "text/markdown": [
       "\n",
       "A tibble: 45 × 3\n",
       "\n",
       "| PLAYER_NAME &lt;chr&gt; | Surname &lt;chr&gt; | Age &lt;dbl&gt; |\n",
       "|---|---|---|\n",
       "| Kyle Oquinn        | Oquinn     | NA |\n",
       "| Robert Sacre       | Sacre      | NA |\n",
       "| Jason Terry        | Terry      | NA |\n",
       "| Cody Zeller        | Zeller     | NA |\n",
       "| Hollis Thompson    | Thompson   | 25 |\n",
       "| Jakarr Sampson     | Sampson    | NA |\n",
       "| Henry Sims         | Sims       | NA |\n",
       "| Marcus Thornton    | Thornton   | NA |\n",
       "| Tyler Zeller       | Zeller     | NA |\n",
       "| Evan Turner        | Turner     | NA |\n",
       "| Mirza Teletovic    | Teletovic  | NA |\n",
       "| Deron Williams     | Williams   | 29 |\n",
       "| Deron Williams     | Williams   | 33 |\n",
       "| Deron Williams     | Williams   | 29 |\n",
       "| John Wall          | Wall       | NA |\n",
       "| Shawne Williams    | Williams   | 29 |\n",
       "| Shawne Williams    | Williams   | 33 |\n",
       "| Shawne Williams    | Williams   | 29 |\n",
       "| Dwyane Wade        | Wade       | NA |\n",
       "| Shabazz Napier     | Napier     | NA |\n",
       "| Beno Udrih         | Udrih      | NA |\n",
       "| Andrew Wiggins     | Wiggins    | NA |\n",
       "| Thaddeus Young     | Young      | NA |\n",
       "| Jason Smith        | Smith      | 24 |\n",
       "| Jason Smith        | Smith      | 24 |\n",
       "| Jason Smith        | Smith      | 30 |\n",
       "| Travis Wear        | Wear       | NA |\n",
       "| Amare Stoudemire   | Stoudemire | NA |\n",
       "| Time Hardaway Jr   | Jr         | NA |\n",
       "| Nate Robinson      | Robinson   | NA |\n",
       "| Jusuf Nurkic       | Nurkic     | NA |\n",
       "| Jason Thompson     | Thompson   | 25 |\n",
       "| Derrick Williams   | Williams   | 29 |\n",
       "| Derrick Williams   | Williams   | 33 |\n",
       "| Derrick Williams   | Williams   | 29 |\n",
       "| Russell Westbrook  | Westbrook  | NA |\n",
       "| Steve Adams        | Adams      | 21 |\n",
       "| Steve Adams        | Adams      | 22 |\n",
       "| Tristan Thompson   | Thompson   | 25 |\n",
       "| Jose Juan Barea    | Barea      | 31 |\n",
       "| Luc Mbah a Moute   | Moute      | NA |\n",
       "| Hedo Turkoglu      | Turkoglu   | NA |\n",
       "| Pj Tucker          | Tucker     | NA |\n",
       "| Charlie Villanueva | Villanueva | NA |\n",
       "| Nick Young         | Young      | NA |\n",
       "\n"
      ],
      "text/plain": [
       "   PLAYER_NAME        Surname    Age\n",
       "1  Kyle Oquinn        Oquinn     NA \n",
       "2  Robert Sacre       Sacre      NA \n",
       "3  Jason Terry        Terry      NA \n",
       "4  Cody Zeller        Zeller     NA \n",
       "5  Hollis Thompson    Thompson   25 \n",
       "6  Jakarr Sampson     Sampson    NA \n",
       "7  Henry Sims         Sims       NA \n",
       "8  Marcus Thornton    Thornton   NA \n",
       "9  Tyler Zeller       Zeller     NA \n",
       "10 Evan Turner        Turner     NA \n",
       "11 Mirza Teletovic    Teletovic  NA \n",
       "12 Deron Williams     Williams   29 \n",
       "13 Deron Williams     Williams   33 \n",
       "14 Deron Williams     Williams   29 \n",
       "15 John Wall          Wall       NA \n",
       "16 Shawne Williams    Williams   29 \n",
       "17 Shawne Williams    Williams   33 \n",
       "18 Shawne Williams    Williams   29 \n",
       "19 Dwyane Wade        Wade       NA \n",
       "20 Shabazz Napier     Napier     NA \n",
       "21 Beno Udrih         Udrih      NA \n",
       "22 Andrew Wiggins     Wiggins    NA \n",
       "23 Thaddeus Young     Young      NA \n",
       "24 Jason Smith        Smith      24 \n",
       "25 Jason Smith        Smith      24 \n",
       "26 Jason Smith        Smith      30 \n",
       "27 Travis Wear        Wear       NA \n",
       "28 Amare Stoudemire   Stoudemire NA \n",
       "29 Time Hardaway Jr   Jr         NA \n",
       "30 Nate Robinson      Robinson   NA \n",
       "31 Jusuf Nurkic       Nurkic     NA \n",
       "32 Jason Thompson     Thompson   25 \n",
       "33 Derrick Williams   Williams   29 \n",
       "34 Derrick Williams   Williams   33 \n",
       "35 Derrick Williams   Williams   29 \n",
       "36 Russell Westbrook  Westbrook  NA \n",
       "37 Steve Adams        Adams      21 \n",
       "38 Steve Adams        Adams      22 \n",
       "39 Tristan Thompson   Thompson   25 \n",
       "40 Jose Juan Barea    Barea      31 \n",
       "41 Luc Mbah a Moute   Moute      NA \n",
       "42 Hedo Turkoglu      Turkoglu   NA \n",
       "43 Pj Tucker          Tucker     NA \n",
       "44 Charlie Villanueva Villanueva NA \n",
       "45 Nick Young         Young      NA "
      ]
     },
     "metadata": {},
     "output_type": "display_data"
    },
    {
     "data": {
      "text/html": [
       "<table class=\"dataframe\">\n",
       "<caption>A tibble: 10 × 14</caption>\n",
       "<thead>\n",
       "\t<tr><th scope=col>...1</th><th scope=col>Age</th><th scope=col>Birth_Place</th><th scope=col>Birthdate</th><th scope=col>College</th><th scope=col>Experience</th><th scope=col>First_Name</th><th scope=col>Height</th><th scope=col>Pos</th><th scope=col>Surname</th><th scope=col>Team</th><th scope=col>Weight</th><th scope=col>BMI</th><th scope=col>PLAYER_NAME</th></tr>\n",
       "\t<tr><th scope=col>&lt;dbl&gt;</th><th scope=col>&lt;dbl&gt;</th><th scope=col>&lt;chr&gt;</th><th scope=col>&lt;chr&gt;</th><th scope=col>&lt;chr&gt;</th><th scope=col>&lt;chr&gt;</th><th scope=col>&lt;chr&gt;</th><th scope=col>&lt;dbl&gt;</th><th scope=col>&lt;chr&gt;</th><th scope=col>&lt;chr&gt;</th><th scope=col>&lt;chr&gt;</th><th scope=col>&lt;dbl&gt;</th><th scope=col>&lt;dbl&gt;</th><th scope=col>&lt;chr&gt;</th></tr>\n",
       "</thead>\n",
       "<tbody>\n",
       "\t<tr><td>0</td><td>33</td><td>mk</td><td>July 29, 1982    </td><td>NA                       </td><td>1 </td><td>Pero   </td><td>207.5</td><td>PF</td><td>Antic   </td><td>ATL</td><td>117.00</td><td>27.17376</td><td>Pero Antic     </td></tr>\n",
       "\t<tr><td>1</td><td>26</td><td>us</td><td>July 1, 1989     </td><td>Old Dominion University  </td><td>2 </td><td>Kent   </td><td>192.5</td><td>SG</td><td>Bazemore</td><td>ATL</td><td> 90.45</td><td>24.40884</td><td>Kent Bazemore  </td></tr>\n",
       "\t<tr><td>2</td><td>36</td><td>us</td><td>March 11, 1979   </td><td>Duke University          </td><td>15</td><td>Elton  </td><td>200.0</td><td>C </td><td>Brand   </td><td>ATL</td><td>123.75</td><td>30.93750</td><td>Elton Brand    </td></tr>\n",
       "\t<tr><td>3</td><td>29</td><td>us</td><td>July 27, 1986    </td><td>University of Missouri   </td><td>5 </td><td>DeMarre</td><td>200.0</td><td>SF</td><td>Carroll </td><td>ATL</td><td> 96.75</td><td>24.18750</td><td>Demarre Carroll</td></tr>\n",
       "\t<tr><td>4</td><td>27</td><td>us</td><td>June 5, 1988     </td><td>Gonzaga University       </td><td>5 </td><td>Austin </td><td>207.5</td><td>SF</td><td>Daye    </td><td>ATL</td><td> 99.00</td><td>22.99318</td><td>Austin Daye    </td></tr>\n",
       "\t<tr><td>5</td><td>29</td><td>do</td><td>June 3, 1986     </td><td>University of Florida    </td><td>7 </td><td>Al     </td><td>205.0</td><td>C </td><td>Horford </td><td>ATL</td><td>110.25</td><td>26.23438</td><td>Al Horford     </td></tr>\n",
       "\t<tr><td>6</td><td>24</td><td>us</td><td>March 6, 1991    </td><td>Vanderbilt University    </td><td>2 </td><td>John   </td><td>190.0</td><td>SG</td><td>Jenkins </td><td>ATL</td><td> 96.75</td><td>26.80055</td><td>John Jenkins   </td></tr>\n",
       "\t<tr><td>7</td><td>34</td><td>us</td><td>March 17, 1981   </td><td>Creighton University     </td><td>11</td><td>Kyle   </td><td>197.5</td><td>SG</td><td>Korver  </td><td>ATL</td><td> 95.40</td><td>24.45762</td><td>Kyle Korver    </td></tr>\n",
       "\t<tr><td>8</td><td>25</td><td>us</td><td>April 22, 1990   </td><td>Butler University        </td><td>3 </td><td>Shelvin</td><td>187.5</td><td>PG</td><td>Mack    </td><td>ATL</td><td> 91.35</td><td>25.98400</td><td>Shelvin Mack   </td></tr>\n",
       "\t<tr><td>9</td><td>30</td><td>us</td><td>February 10, 1985</td><td>Louisiana Tech University</td><td>8 </td><td>Paul   </td><td>200.0</td><td>PF</td><td>Millsap </td><td>ATL</td><td>110.70</td><td>27.67500</td><td>Paul Millsap   </td></tr>\n",
       "</tbody>\n",
       "</table>\n"
      ],
      "text/latex": [
       "A tibble: 10 × 14\n",
       "\\begin{tabular}{llllllllllllll}\n",
       " ...1 & Age & Birth\\_Place & Birthdate & College & Experience & First\\_Name & Height & Pos & Surname & Team & Weight & BMI & PLAYER\\_NAME\\\\\n",
       " <dbl> & <dbl> & <chr> & <chr> & <chr> & <chr> & <chr> & <dbl> & <chr> & <chr> & <chr> & <dbl> & <dbl> & <chr>\\\\\n",
       "\\hline\n",
       "\t 0 & 33 & mk & July 29, 1982     & NA                        & 1  & Pero    & 207.5 & PF & Antic    & ATL & 117.00 & 27.17376 & Pero Antic     \\\\\n",
       "\t 1 & 26 & us & July 1, 1989      & Old Dominion University   & 2  & Kent    & 192.5 & SG & Bazemore & ATL &  90.45 & 24.40884 & Kent Bazemore  \\\\\n",
       "\t 2 & 36 & us & March 11, 1979    & Duke University           & 15 & Elton   & 200.0 & C  & Brand    & ATL & 123.75 & 30.93750 & Elton Brand    \\\\\n",
       "\t 3 & 29 & us & July 27, 1986     & University of Missouri    & 5  & DeMarre & 200.0 & SF & Carroll  & ATL &  96.75 & 24.18750 & Demarre Carroll\\\\\n",
       "\t 4 & 27 & us & June 5, 1988      & Gonzaga University        & 5  & Austin  & 207.5 & SF & Daye     & ATL &  99.00 & 22.99318 & Austin Daye    \\\\\n",
       "\t 5 & 29 & do & June 3, 1986      & University of Florida     & 7  & Al      & 205.0 & C  & Horford  & ATL & 110.25 & 26.23438 & Al Horford     \\\\\n",
       "\t 6 & 24 & us & March 6, 1991     & Vanderbilt University     & 2  & John    & 190.0 & SG & Jenkins  & ATL &  96.75 & 26.80055 & John Jenkins   \\\\\n",
       "\t 7 & 34 & us & March 17, 1981    & Creighton University      & 11 & Kyle    & 197.5 & SG & Korver   & ATL &  95.40 & 24.45762 & Kyle Korver    \\\\\n",
       "\t 8 & 25 & us & April 22, 1990    & Butler University         & 3  & Shelvin & 187.5 & PG & Mack     & ATL &  91.35 & 25.98400 & Shelvin Mack   \\\\\n",
       "\t 9 & 30 & us & February 10, 1985 & Louisiana Tech University & 8  & Paul    & 200.0 & PF & Millsap  & ATL & 110.70 & 27.67500 & Paul Millsap   \\\\\n",
       "\\end{tabular}\n"
      ],
      "text/markdown": [
       "\n",
       "A tibble: 10 × 14\n",
       "\n",
       "| ...1 &lt;dbl&gt; | Age &lt;dbl&gt; | Birth_Place &lt;chr&gt; | Birthdate &lt;chr&gt; | College &lt;chr&gt; | Experience &lt;chr&gt; | First_Name &lt;chr&gt; | Height &lt;dbl&gt; | Pos &lt;chr&gt; | Surname &lt;chr&gt; | Team &lt;chr&gt; | Weight &lt;dbl&gt; | BMI &lt;dbl&gt; | PLAYER_NAME &lt;chr&gt; |\n",
       "|---|---|---|---|---|---|---|---|---|---|---|---|---|---|\n",
       "| 0 | 33 | mk | July 29, 1982     | NA                        | 1  | Pero    | 207.5 | PF | Antic    | ATL | 117.00 | 27.17376 | Pero Antic      |\n",
       "| 1 | 26 | us | July 1, 1989      | Old Dominion University   | 2  | Kent    | 192.5 | SG | Bazemore | ATL |  90.45 | 24.40884 | Kent Bazemore   |\n",
       "| 2 | 36 | us | March 11, 1979    | Duke University           | 15 | Elton   | 200.0 | C  | Brand    | ATL | 123.75 | 30.93750 | Elton Brand     |\n",
       "| 3 | 29 | us | July 27, 1986     | University of Missouri    | 5  | DeMarre | 200.0 | SF | Carroll  | ATL |  96.75 | 24.18750 | Demarre Carroll |\n",
       "| 4 | 27 | us | June 5, 1988      | Gonzaga University        | 5  | Austin  | 207.5 | SF | Daye     | ATL |  99.00 | 22.99318 | Austin Daye     |\n",
       "| 5 | 29 | do | June 3, 1986      | University of Florida     | 7  | Al      | 205.0 | C  | Horford  | ATL | 110.25 | 26.23438 | Al Horford      |\n",
       "| 6 | 24 | us | March 6, 1991     | Vanderbilt University     | 2  | John    | 190.0 | SG | Jenkins  | ATL |  96.75 | 26.80055 | John Jenkins    |\n",
       "| 7 | 34 | us | March 17, 1981    | Creighton University      | 11 | Kyle    | 197.5 | SG | Korver   | ATL |  95.40 | 24.45762 | Kyle Korver     |\n",
       "| 8 | 25 | us | April 22, 1990    | Butler University         | 3  | Shelvin | 187.5 | PG | Mack     | ATL |  91.35 | 25.98400 | Shelvin Mack    |\n",
       "| 9 | 30 | us | February 10, 1985 | Louisiana Tech University | 8  | Paul    | 200.0 | PF | Millsap  | ATL | 110.70 | 27.67500 | Paul Millsap    |\n",
       "\n"
      ],
      "text/plain": [
       "   ...1 Age Birth_Place Birthdate         College                   Experience\n",
       "1  0    33  mk          July 29, 1982     NA                        1         \n",
       "2  1    26  us          July 1, 1989      Old Dominion University   2         \n",
       "3  2    36  us          March 11, 1979    Duke University           15        \n",
       "4  3    29  us          July 27, 1986     University of Missouri    5         \n",
       "5  4    27  us          June 5, 1988      Gonzaga University        5         \n",
       "6  5    29  do          June 3, 1986      University of Florida     7         \n",
       "7  6    24  us          March 6, 1991     Vanderbilt University     2         \n",
       "8  7    34  us          March 17, 1981    Creighton University      11        \n",
       "9  8    25  us          April 22, 1990    Butler University         3         \n",
       "10 9    30  us          February 10, 1985 Louisiana Tech University 8         \n",
       "   First_Name Height Pos Surname  Team Weight BMI      PLAYER_NAME    \n",
       "1  Pero       207.5  PF  Antic    ATL  117.00 27.17376 Pero Antic     \n",
       "2  Kent       192.5  SG  Bazemore ATL   90.45 24.40884 Kent Bazemore  \n",
       "3  Elton      200.0  C   Brand    ATL  123.75 30.93750 Elton Brand    \n",
       "4  DeMarre    200.0  SF  Carroll  ATL   96.75 24.18750 Demarre Carroll\n",
       "5  Austin     207.5  SF  Daye     ATL   99.00 22.99318 Austin Daye    \n",
       "6  Al         205.0  C   Horford  ATL  110.25 26.23438 Al Horford     \n",
       "7  John       190.0  SG  Jenkins  ATL   96.75 26.80055 John Jenkins   \n",
       "8  Kyle       197.5  SG  Korver   ATL   95.40 24.45762 Kyle Korver    \n",
       "9  Shelvin    187.5  PG  Mack     ATL   91.35 25.98400 Shelvin Mack   \n",
       "10 Paul       200.0  PF  Millsap  ATL  110.70 27.67500 Paul Millsap   "
      ]
     },
     "metadata": {},
     "output_type": "display_data"
    },
    {
     "data": {
      "text/html": [
       "<table class=\"dataframe\">\n",
       "<caption>A tibble: 5 × 14</caption>\n",
       "<thead>\n",
       "\t<tr><th scope=col>...1</th><th scope=col>Age</th><th scope=col>Birth_Place</th><th scope=col>Birthdate</th><th scope=col>College</th><th scope=col>Experience</th><th scope=col>First_Name</th><th scope=col>Height</th><th scope=col>Pos</th><th scope=col>Surname</th><th scope=col>Team</th><th scope=col>Weight</th><th scope=col>BMI</th><th scope=col>PLAYER_NAME</th></tr>\n",
       "\t<tr><th scope=col>&lt;dbl&gt;</th><th scope=col>&lt;dbl&gt;</th><th scope=col>&lt;chr&gt;</th><th scope=col>&lt;chr&gt;</th><th scope=col>&lt;chr&gt;</th><th scope=col>&lt;chr&gt;</th><th scope=col>&lt;chr&gt;</th><th scope=col>&lt;dbl&gt;</th><th scope=col>&lt;chr&gt;</th><th scope=col>&lt;chr&gt;</th><th scope=col>&lt;chr&gt;</th><th scope=col>&lt;dbl&gt;</th><th scope=col>&lt;dbl&gt;</th><th scope=col>&lt;chr&gt;</th></tr>\n",
       "</thead>\n",
       "<tbody>\n",
       "\t<tr><td> 62</td><td>29</td><td>us</td><td>June 19, 1986    </td><td>University of North Carolina</td><td>9 </td><td>Marvin </td><td>202.5</td><td>PF</td><td>Williams       </td><td>CHA</td><td>106.65</td><td>26.00823</td><td>Marvin Williams        </td></tr>\n",
       "\t<tr><td> 63</td><td>33</td><td>us</td><td>December 19, 1982</td><td>University of Alabama       </td><td>11</td><td>Mo     </td><td>182.5</td><td>PG</td><td>Williams       </td><td>CHA</td><td> 89.10</td><td>26.75174</td><td>Mo Williams            </td></tr>\n",
       "\t<tr><td>255</td><td>24</td><td>us</td><td>October 10, 1991 </td><td>Syracuse University         </td><td>1 </td><td>Michael</td><td>195.0</td><td>PG</td><td>Carter Williams</td><td>MIL</td><td> 85.50</td><td>22.48521</td><td>Michael Carter Williams</td></tr>\n",
       "\t<tr><td>350</td><td>24</td><td>us</td><td>October 10, 1991 </td><td>Syracuse University         </td><td>1 </td><td>Michael</td><td>195.0</td><td>PG</td><td>Carter Williams</td><td>PHI</td><td> 85.50</td><td>22.48521</td><td>Michael Carter Williams</td></tr>\n",
       "\t<tr><td>442</td><td>29</td><td>us</td><td>October 27, 1986 </td><td>NA                          </td><td>9 </td><td>Lou    </td><td>182.5</td><td>SG</td><td>Williams       </td><td>TOR</td><td> 78.75</td><td>23.64421</td><td>Lou Williams           </td></tr>\n",
       "</tbody>\n",
       "</table>\n"
      ],
      "text/latex": [
       "A tibble: 5 × 14\n",
       "\\begin{tabular}{llllllllllllll}\n",
       " ...1 & Age & Birth\\_Place & Birthdate & College & Experience & First\\_Name & Height & Pos & Surname & Team & Weight & BMI & PLAYER\\_NAME\\\\\n",
       " <dbl> & <dbl> & <chr> & <chr> & <chr> & <chr> & <chr> & <dbl> & <chr> & <chr> & <chr> & <dbl> & <dbl> & <chr>\\\\\n",
       "\\hline\n",
       "\t  62 & 29 & us & June 19, 1986     & University of North Carolina & 9  & Marvin  & 202.5 & PF & Williams        & CHA & 106.65 & 26.00823 & Marvin Williams        \\\\\n",
       "\t  63 & 33 & us & December 19, 1982 & University of Alabama        & 11 & Mo      & 182.5 & PG & Williams        & CHA &  89.10 & 26.75174 & Mo Williams            \\\\\n",
       "\t 255 & 24 & us & October 10, 1991  & Syracuse University          & 1  & Michael & 195.0 & PG & Carter Williams & MIL &  85.50 & 22.48521 & Michael Carter Williams\\\\\n",
       "\t 350 & 24 & us & October 10, 1991  & Syracuse University          & 1  & Michael & 195.0 & PG & Carter Williams & PHI &  85.50 & 22.48521 & Michael Carter Williams\\\\\n",
       "\t 442 & 29 & us & October 27, 1986  & NA                           & 9  & Lou     & 182.5 & SG & Williams        & TOR &  78.75 & 23.64421 & Lou Williams           \\\\\n",
       "\\end{tabular}\n"
      ],
      "text/markdown": [
       "\n",
       "A tibble: 5 × 14\n",
       "\n",
       "| ...1 &lt;dbl&gt; | Age &lt;dbl&gt; | Birth_Place &lt;chr&gt; | Birthdate &lt;chr&gt; | College &lt;chr&gt; | Experience &lt;chr&gt; | First_Name &lt;chr&gt; | Height &lt;dbl&gt; | Pos &lt;chr&gt; | Surname &lt;chr&gt; | Team &lt;chr&gt; | Weight &lt;dbl&gt; | BMI &lt;dbl&gt; | PLAYER_NAME &lt;chr&gt; |\n",
       "|---|---|---|---|---|---|---|---|---|---|---|---|---|---|\n",
       "|  62 | 29 | us | June 19, 1986     | University of North Carolina | 9  | Marvin  | 202.5 | PF | Williams        | CHA | 106.65 | 26.00823 | Marvin Williams         |\n",
       "|  63 | 33 | us | December 19, 1982 | University of Alabama        | 11 | Mo      | 182.5 | PG | Williams        | CHA |  89.10 | 26.75174 | Mo Williams             |\n",
       "| 255 | 24 | us | October 10, 1991  | Syracuse University          | 1  | Michael | 195.0 | PG | Carter Williams | MIL |  85.50 | 22.48521 | Michael Carter Williams |\n",
       "| 350 | 24 | us | October 10, 1991  | Syracuse University          | 1  | Michael | 195.0 | PG | Carter Williams | PHI |  85.50 | 22.48521 | Michael Carter Williams |\n",
       "| 442 | 29 | us | October 27, 1986  | NA                           | 9  | Lou     | 182.5 | SG | Williams        | TOR |  78.75 | 23.64421 | Lou Williams            |\n",
       "\n"
      ],
      "text/plain": [
       "  ...1 Age Birth_Place Birthdate         College                     \n",
       "1  62  29  us          June 19, 1986     University of North Carolina\n",
       "2  63  33  us          December 19, 1982 University of Alabama       \n",
       "3 255  24  us          October 10, 1991  Syracuse University         \n",
       "4 350  24  us          October 10, 1991  Syracuse University         \n",
       "5 442  29  us          October 27, 1986  NA                          \n",
       "  Experience First_Name Height Pos Surname         Team Weight BMI     \n",
       "1 9          Marvin     202.5  PF  Williams        CHA  106.65 26.00823\n",
       "2 11         Mo         182.5  PG  Williams        CHA   89.10 26.75174\n",
       "3 1          Michael    195.0  PG  Carter Williams MIL   85.50 22.48521\n",
       "4 1          Michael    195.0  PG  Carter Williams PHI   85.50 22.48521\n",
       "5 9          Lou        182.5  SG  Williams        TOR   78.75 23.64421\n",
       "  PLAYER_NAME            \n",
       "1 Marvin Williams        \n",
       "2 Mo Williams            \n",
       "3 Michael Carter Williams\n",
       "4 Michael Carter Williams\n",
       "5 Lou Williams           "
      ]
     },
     "metadata": {},
     "output_type": "display_data"
    }
   ],
   "source": [
    "bad_names %>% mutate(Surname = str_extract(PLAYER_NAME, \"\\\\S+$\")) %>% left_join(player_info %>% select(Surname, Age))\n",
    "player_info %>% head(10)\n",
    "dplyr::filter(player_info, grepl(\"Williams\",PLAYER_NAME))"
   ]
  },
  {
   "cell_type": "code",
   "execution_count": 17,
   "id": "716a844f",
   "metadata": {
    "vscode": {
     "languageId": "r"
    }
   },
   "outputs": [
    {
     "ename": "ERROR",
     "evalue": "Error: bad 'data': object 'train_data' not found\n",
     "output_type": "error",
     "traceback": [
      "Error: bad 'data': object 'train_data' not found\nTraceback:\n",
      "1. eval(mc, parent.frame(1L))",
      "2. eval(mc, parent.frame(1L))",
      "3. lme4::glFormula(formula = SUCCESS ~ SHOT_DIST + CLOSE_DEF_DIST + \n .     SHOT_CLOCK + TOUCH_TIME + PERIOD + (SHOT_DIST | PLAYER_ID), \n .     data = train_data, family = binomial(link = \"logit\"))",
      "4. checkFormulaData(formula, data, checkLHS = control$check.formula.LHS == \n .     \"stop\")",
      "5. stop(\"bad 'data': \", bad.data.msg, call. = FALSE)",
      "6. .handleSimpleError(function (cnd) \n . {\n .     watcher$capture_plot_and_output()\n .     cnd <- sanitize_call(cnd)\n .     watcher$push(cnd)\n .     switch(on_error, continue = invokeRestart(\"eval_continue\"), \n .         stop = invokeRestart(\"eval_stop\"), error = NULL)\n . }, \"bad 'data': object 'train_data' not found\", base::quote(NULL))"
     ]
    }
   ],
   "source": [
    "log_model <- glm(SUCCESS ~ SHOT_DIST + CLOSE_DEF_DIST + SHOT_CLOCK + TOUCH_TIME, data=clean_shots, family=\"binomial\")\n",
    "log_mm_model <- glmer(SUCCESS ~ SHOT_DIST + CLOSE_DEF_DIST + SHOT_CLOCK + TOUCH_TIME + PERIOD +\n",
    "                      (SHOT_DIST | PLAYER_ID),\n",
    "                    data = train_data,\n",
    "                    family=binomial(link = \"logit\"))\n",
    "\n",
    "summary(log_mm_model)\n",
    "test_data$pred_prob <- predict(log_mm_model, type = \"response\", newdata=test_data)\n",
    "roc(SUCCESS ~ pred_prob, data = test_data)"
   ]
  },
  {
   "cell_type": "code",
   "execution_count": null,
   "id": "8624de99",
   "metadata": {
    "vscode": {
     "languageId": "r"
    }
   },
   "outputs": [
    {
     "data": {
      "image/png": "[encoded data removed]",
      "text/plain": [
       "plot without title"
      ]
     },
     "metadata": {
      "image/png": {
       "height": 420,
       "width": 600
      }
     },
     "output_type": "display_data"
    }
   ],
   "source": [
    "ggplot(clean_shots, aes(x=SHOT_DIST, y=TOUCH_TIME)) + \n",
    "    geom_point()"
   ]
  }
 ],
 "metadata": {
  "kernelspec": {
   "display_name": "R",
   "language": "R",
   "name": "ir"
  },
  "language_info": {
   "codemirror_mode": "r",
   "file_extension": ".r",
   "mimetype": "text/x-r-source",
   "name": "R",
   "pygments_lexer": "r",
   "version": "4.4.1"
  }
 },
 "nbformat": 4,
 "nbformat_minor": 5
}
