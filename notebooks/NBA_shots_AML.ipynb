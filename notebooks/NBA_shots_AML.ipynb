{
 "cells": [
  {
   "cell_type": "code",
   "execution_count": null,
   "id": "23eb425f-7288-447d-a604-159c6572849e",
   "metadata": {
    "editable": true,
    "slideshow": {
     "slide_type": ""
    },
    "tags": [],
    "vscode": {
     "languageId": "r"
    }
   },
   "outputs": [],
   "source": [
    "list.of.packages <- c(\"tidyverse\", \"data.table\", \"dtplyr\", \"arrow\", \"dbplyr\", \"duckdb\", \"lme4\", \"dbscan\", \"pROC\", \"caTools\")\n",
    "new.packages <- list.of.packages[!(list.of.packages %in% installed.packages()[,\"Package\"])]\n",
    "if(length(new.packages)) install.packages(new.packages)\n",
    "\n",
    "library(tidyverse)\n",
    "library(data.table)\n",
    "#library(dtplyr)\n",
    "#library(dplyr, warn.conflicts = FALSE)\n",
    "library(arrow)\n",
    "library(duckdb)\n",
    "library(lme4)\n",
    "library(dbscan)\n",
    "library(pROC)\n",
    "library(caTools)"
   ]
  },
  {
   "cell_type": "code",
   "execution_count": null,
   "id": "5c240597-4060-4862-a334-d99d9a78d27d",
   "metadata": {
    "vscode": {
     "languageId": "r"
    }
   },
   "outputs": [],
   "source": [
    "raw_shots <- read_csv(\"../Data/NBA_Shots_Raw.csv\")\n",
    "player_info <- read_csv(\"../Data/Player_Info.csv\")\n",
    "player_salary <- read_csv(\"../Data/Player_Salary.csv\")\n",
    "player_info <- player_info %>% mutate(PLAYER_NAME = paste(First_Name, Surname))\n",
    "player_salary <- player_salary %>% rename(PLAYER_NAME = Name)\n",
    "clean_shots <- read_csv(\"../Data/NBA_Shots_Clean_Example.csv\")\n",
    "common_player_info <- read_csv(\"../Data/wyatt_basketball/csv/common_player_info.csv\")\n",
    "common_player_info <- common_player_info %>% mutate(PLAYER_NAME = paste(first_name, last_name))\n",
    "height_2014 <- read_csv(\"../Data/simonwarchol-NBA-Height-Weight-7871d8b/CSVs/Yearly/2014.csv\")\n",
    "height_2014 <- height_2014 %>% rename(PLAYER_NAME = Name)\n",
    "\n",
    "#clean_shots <- clean_shots %>% mutate(across(where(is.character), ~ str_replace_all(., \"Kyle Oquinn\", \"Kyle O'Quinn\")))\n",
    "#clean_shots <- clean_shots %>% mutate(across(where(is.character), ~ str_replace_all(., \"Al Farouq Aminu\", \"Al-Farouq Aminu\")))\n",
    "#clean_shots <- clean_shots %>% mutate(across(where(is.character), ~ str_replace_all(., \"Lamarcus Aldridge\", \"LaMarcus Aldridge\")))\n",
    "#clean_shots <- clean_shots %>% mutate(across(where(is.character), ~ str_replace_all(., \"Oj Mayo\", \"O.J. Mayo\")))\n",
    "#clean_shots <- clean_shots %>% mutate(across(where(is.character), ~ str_replace_all(., \"Cj Miles\", \"C.J. Miles\")))\n",
    "clean_shots <- clean_shots %>% mutate(across(where(is.character), ~ str_replace_all(., \"Time Hardaway Jr\", \"Tim Hardaway Jr\")))\n",
    "player_info <- player_info %>% mutate(across(where(is.character), ~ str_replace_all(., \"Luc Mbah\", \"Luc Mbah a Moute\")))\n",
    "clean_shots <- clean_shots %>% mutate(across(where(is.character), ~ str_replace_all(., \"Steve Adams\", \"Steven Adams\")))\n",
    "\n",
    "\n",
    "\n",
    "player_info <- player_info %>%\n",
    "    mutate(PLAYER_NAME = str_remove_all(PLAYER_NAME, \"\\\\.\")) %>%\n",
    "    mutate(PLAYER_NAME = str_replace_all(PLAYER_NAME, \"-\", \" \")) %>%\n",
    "    mutate(PLAYER_NAME = str_to_title(PLAYER_NAME))\n",
    "\n",
    "clean_shots <- clean_shots %>%\n",
    "    mutate(PLAYER_NAME = str_replace_all(PLAYER_NAME, \"-\", \" \")) %>%\n",
    "    mutate(PLAYER_NAME = str_replace_all(PLAYER_NAME, \"'\", \"\")) %>%\n",
    "    mutate(PLAYER_NAME = str_to_title(PLAYER_NAME))\n",
    "\n",
    "common_player_info <- common_player_info %>%\n",
    "    mutate(PLAYER_NAME = player_slug) %>%\n",
    "    mutate(PLAYER_NAME = str_replace_all(PLAYER_NAME, \"-\", \" \")) %>%\n",
    "    mutate(PLAYER_NAME = str_to_title(PLAYER_NAME))\n",
    "\n",
    "height_2014 <- height_2014 %>%\n",
    "    mutate(PLAYER_NAME = str_replace_all(PLAYER_NAME, \"-\", \" \")) %>%\n",
    "    mutate(PLAYER_NAME = str_replace_all(PLAYER_NAME, \"'\", \"\")) %>%\n",
    "    mutate(PLAYER_NAME = str_to_title(PLAYER_NAME))\n"
   ]
  },
  {
   "cell_type": "code",
   "execution_count": null,
   "id": "24d111f8-a65d-45c8-91bf-9333cff7613a",
   "metadata": {
    "vscode": {
     "languageId": "r"
    }
   },
   "outputs": [],
   "source": [
    "colnames(clean_shots)\n",
    "colnames(player_info)\n",
    "colnames(player_salary)\n",
    "colnames(height_2014)\n",
    "#player_statistics %>% count() %>% collect()\n",
    "#head(raw_shots)\n",
    "#head(player_info)\n",
    "#head(player_salary)"
   ]
  },
  {
   "cell_type": "code",
   "execution_count": null,
   "id": "544a2b07-c939-471f-90d1-88920c260a20",
   "metadata": {
    "vscode": {
     "languageId": "r"
    }
   },
   "outputs": [],
   "source": [
    "options(repr.plot.width = 10, repr.plot.height = 7)\n",
    "\n",
    "s <- raw_shots %>% \n",
    "    left_join(player_info %>% select(Pos, PLAYER_NAME), by = \"PLAYER_NAME\") %>%\n",
    "    filter(!is.na(Pos)) %>%\n",
    "    select(SHOT_DIST, Pos)\n",
    "\n",
    "ggplot(s, aes(x = SHOT_DIST)) +\n",
    "    geom_histogram(bins = 30, fill = \"blue\", color = \"black\", alpha = 0.5) +\n",
    "    facet_wrap(~ Pos) +\n",
    "    labs(title = \"Shot Distance Distribution by Position\",\n",
    "       x = \"Shot Distance (feet)\",\n",
    "       y = \"Frequency\") +\n",
    "    theme_minimal()"
   ]
  },
  {
   "cell_type": "code",
   "execution_count": null,
   "id": "1b3b91f1-00a2-4a8a-a8fb-b4681e93205d",
   "metadata": {
    "vscode": {
     "languageId": "r"
    }
   },
   "outputs": [],
   "source": [
    "l1 <- raw_shots %>%\n",
    "    left_join(player_info %>% select(Pos, PLAYER_NAME), by = \"PLAYER_NAME\", relationship=\"many-to-many\") %>%\n",
    "    filter(!is.na(Pos)) %>%\n",
    "    group_by(PLAYER_NAME, Pos) %>% \n",
    "    summarize(tot_FGM = sum(FGM), .groups=\"drop\") %>% \n",
    "    arrange(desc(tot_FGM))\n",
    "l2 <- raw_shots %>% \n",
    "    filter(FGM == 1) %>% \n",
    "    group_by(PLAYER_NAME) %>%\n",
    "    summarise(\n",
    "        total_FGM = n(),\n",
    "        pct_3pt = sum(PTS_TYPE == 3),\n",
    "        pct_2pt = sum(PTS_TYPE == 2)\n",
    "    ) %>%\n",
    "    left_join(player_info %>% select(Pos, PLAYER_NAME, Team, Age), by = \"PLAYER_NAME\", relationship=\"many-to-many\")"
   ]
  },
  {
   "cell_type": "code",
   "execution_count": null,
   "id": "fa7834ce-dba1-4eb7-8164-4eab5e9424f3",
   "metadata": {
    "vscode": {
     "languageId": "r"
    }
   },
   "outputs": [],
   "source": [
    "raw_shots %>% summarise(unique_players = n_distinct(PLAYER_NAME))\n",
    "player_info %>% summarise(unique_players = n_distinct(PLAYER_NAME))\n",
    "player_salary %>% summarise(unique_players = n_distinct(PLAYER_NAME))"
   ]
  },
  {
   "cell_type": "code",
   "execution_count": null,
   "id": "8f19a64c-2571-4083-90c4-9be5e238b22f",
   "metadata": {
    "vscode": {
     "languageId": "r"
    }
   },
   "outputs": [],
   "source": [
    "#clean_shots %>% \n",
    "#    filter(PERIOD <= 3) %>%\n",
    "#    select(HOME_TEAM, AWAY_TEAM, WIN_LOSE)\n",
    "#    group_by(\n",
    "\n",
    "#clean_shots %>% \n",
    "#    select(GAME_ID, FINAL_MARGIN, WIN_LOSE, HOME_TEAM, AWAY_TEAM, LOCATION) %>%\n",
    "#    filter(abs(FINAL_MARGIN) <= 3) %>% #no need to filter for w/l\n",
    " #   distinct(GAME_ID, .keep_all=TRUE) %>%\n",
    "#    summarise(home_win_pct = 100*sum(FINAL_MARGIN > 0 & LOCATION == \"H\")/sum(LOCATION == \"H\"))\n",
    "\n",
    "\n",
    "#clean_shots %>%\n",
    "#    select(GAME_ID, WIN_LOSE, HOME_TEAM, AWAY_TEAM, LOCATION, PERIOD, PTS_TYPE, SUCCESS) %>%\n",
    "#    mutate(pts = PTS_TYPE * SUCCESS) %>%\n",
    "#    filter(PERIOD <= 3) %>%\n",
    "#    group_by(GAME_ID, LOCATION) %>%\n",
    "#    summarise(total_pts = sum(pts), .groups = \"drop\") %>%\n",
    "#    pivot_wider(names_from = LOCATION, values_from = total_pts, names_prefix = \"pts_\") %>%\n",
    "#    summarise(pts_diff_H = pts_H-pts_A)\n",
    "\n",
    "home_win <- clean_shots %>%\n",
    "    filter(LOCATION == \"H\") %>%\n",
    "    select(GAME_ID, HOME_TEAM, AWAY_TEAM, WIN_LOSE) %>%\n",
    "    distinct(GAME_ID, .keep_all=TRUE)\n",
    "\n",
    "clean_shots %>%\n",
    "    filter(PERIOD <= 3) %>%\n",
    "    mutate(pts = PTS_TYPE * SUCCESS) %>%\n",
    "    group_by(GAME_ID, LOCATION) %>%\n",
    "    summarise(total_pts = sum(pts), .groups = \"drop\") %>%\n",
    "    pivot_wider(names_from = LOCATION, values_from = total_pts, names_prefix = \"pts_\") %>%\n",
    "    left_join(home_win, by=\"GAME_ID\") %>%\n",
    "    rename(HOME_RESULT = WIN_LOSE) %>%\n",
    "    mutate(pts_diff = abs(pts_H - pts_A)) %>%\n",
    "    filter(pts_diff <= 3) %>%\n",
    "    summarise(\n",
    "        home_pct_win = sum(HOME_RESULT == \"W\")/n(),\n",
    "        home_wins = sum(HOME_RESULT == \"W\"),\n",
    "        total_games = n()\n",
    "    )\n",
    "\n",
    "binom.test(x=86, n=161, p=0.5, alternative=\"greater\")"
   ]
  },
  {
   "cell_type": "code",
   "execution_count": null,
   "id": "5b44c48c",
   "metadata": {
    "vscode": {
     "languageId": "r"
    }
   },
   "outputs": [],
   "source": [
    "play_by_play <- open_dataset(\"../Data/wyatt_basketball/csv/play_by_play.csv\", format=\"csv\")"
   ]
  },
  {
   "cell_type": "code",
   "execution_count": null,
   "id": "e3975da1-c20d-4d86-9dec-4742180e8a8a",
   "metadata": {
    "vscode": {
     "languageId": "r"
    }
   },
   "outputs": [],
   "source": []
  },
  {
   "cell_type": "code",
   "execution_count": null,
   "id": "bc3faab2",
   "metadata": {
    "vscode": {
     "languageId": "r"
    }
   },
   "outputs": [],
   "source": [
    "con <- DBI::dbConnect(\n",
    "  duckdb::duckdb(), dbdir = \".tmp.duckdb\"\n",
    ")"
   ]
  },
  {
   "cell_type": "code",
   "execution_count": null,
   "id": "510d65c1-58c1-4ea5-92fb-1753c88cb282",
   "metadata": {
    "vscode": {
     "languageId": "r"
    }
   },
   "outputs": [],
   "source": [
    "duckdb_read_csv(con, name=\"play_by_play\", files=\"../Data/wyatt_basketball/csv/play_by_play.csv\")"
   ]
  },
  {
   "cell_type": "code",
   "execution_count": null,
   "id": "43d50b73-6912-4ae0-abd9-4a431fcaa111",
   "metadata": {
    "vscode": {
     "languageId": "r"
    }
   },
   "outputs": [],
   "source": [
    "colnames(tbl(con, \"play_by_play\") %>% head(1))"
   ]
  },
  {
   "cell_type": "code",
   "execution_count": null,
   "id": "d59ca827",
   "metadata": {
    "vscode": {
     "languageId": "r"
    }
   },
   "outputs": [],
   "source": [
    "tbl(con, \"play_by_play\") %>% count(eventmsgtype) %>% collect()\n",
    "tbl(con, \"play_by_play\") %>% filter(eventmsgtype == 1) %>% head(10) %>% collect()"
   ]
  },
  {
   "cell_type": "code",
   "execution_count": null,
   "id": "4460fe32-cfaa-4564-92cd-dda2d74a2f73",
   "metadata": {
    "vscode": {
     "languageId": "r"
    }
   },
   "outputs": [],
   "source": [
    "dbDisconnect(con, shutdown=TRUE)"
   ]
  },
  {
   "cell_type": "code",
   "execution_count": null,
   "id": "7edcfde0",
   "metadata": {
    "vscode": {
     "languageId": "r"
    }
   },
   "outputs": [],
   "source": [
    "predictors <- c(\"PLAYER_NAME\", \"CLOSEST_DEFENDER\" ,\"SHOT_DIST\", \"PTS_TYPE\", \"CLOSE_DEF_DIST\", \"SHOT_CLOCK\", \"TOUCH_TIME\", \"PERIOD\", \"SUCCESS\")\n",
    "colnames(clean_shots)\n",
    "\n",
    "player_height_pos_1 <- player_info %>%\n",
    "    select(PLAYER_NAME, Height, Pos)\n",
    "\n",
    "player_height_pos_2 <- common_player_info %>% #no position for now, working on this\n",
    "    select(PLAYER_NAME, height, position)\n",
    "\n",
    "player_height_3 <- height_2014 %>%\n",
    "    select(PLAYER_NAME, \"Height(Feet-Inches)\")\n",
    "\n",
    "model_data <- clean_shots %>% \n",
    "    select(all_of(predictors)) %>%\n",
    "    left_join(player_height_pos_1, by=\"PLAYER_NAME\", relationship = \"many-to-many\") %>%\n",
    "    rename(P1 = Pos, H1 = Height) %>%\n",
    "    left_join(player_height_pos_2, by=\"PLAYER_NAME\", relationship = \"many-to-many\") %>%\n",
    "    rename(P2 = position, H2 = height) %>%\n",
    "    left_join(player_height_3, by=\"PLAYER_NAME\", relationship = \"many-to-many\") %>%\n",
    "    rename(H3 = \"Height(Feet-Inches)\")\n",
    "    #left_join(lookup_height_pos %>% rename(CLOSEST_DEFENDER = PLAYER_NAME), by=\"CLOSEST_DEFENDER\") %>%\n",
    "    #rename(DEFENDER_POS = Pos, DEFENDER_HEIGHT = Height)\n",
    "\n",
    "\n",
    "set.seed(0)\n",
    "train_indices <- sample(1:nrow(model_data), size = 0.70 * nrow(model_data))\n",
    "train <- model_data[train_indices, ]\n",
    "test <- model_data[-train_indices, ]\n",
    "\n",
    "#dplyr::filter(clean_shots, grepl(\"Kyle\",PLAYER_NAME)) ## found issues with apostrophe in name of Kyle O'Quinn (was Oquinn)\n",
    "\n",
    "#player_info %>% filter(Team == \"LAL\") %>% distinct(PLAYER_NAME)\n",
    "\n",
    "#Robert Sacre not in player_info. Plays for LAL\n",
    "#Jason Terry not in either. Plays for HOU\n",
    "#John Salmons not in player_info. Played for NOP and got traded to PHX midseason\n",
    "#Brandan Wright not in player_info. Played for BOS and got traded to PHX at some point\n",
    "#Cody Zeller ... Played for Charlotte Bobcats\n",
    "\n",
    "distinct_shooters <- model_data %>% distinct(PLAYER_NAME) \n",
    "\n",
    "model_data %>%\n",
    "  group_by(PLAYER_NAME) %>%\n",
    "  summarise(\n",
    "    H1_na = any(is.na(H1)),\n",
    "    H2_na = any(is.na(H2)),\n",
    "    H3_na = any(is.na(H3)),\n",
    "    H_all_na = all(is.na(H1) & is.na(H2) & is.na(H3))\n",
    "  ) %>%\n",
    "  summarise(\n",
    "    H1_na_count = sum(H1_na),\n",
    "    H2_na_count = sum(H2_na),\n",
    "    H3_na_count = sum(H3_na),\n",
    "    H_all_na_count = sum(H_all_na)\n",
    "  )\n",
    "\n"
   ]
  },
  {
   "cell_type": "code",
   "execution_count": null,
   "id": "716a844f",
   "metadata": {
    "vscode": {
     "languageId": "r"
    }
   },
   "outputs": [],
   "source": [
    "log_model <- glm(SUCCESS ~ SHOT_DIST + CLOSE_DEF_DIST + SHOT_CLOCK + TOUCH_TIME, data=clean_shots, family=\"binomial\")\n",
    "log_mm_model <- glmer(SUCCESS ~ SHOT_DIST + CLOSE_DEF_DIST + SHOT_CLOCK + TOUCH_TIME + PERIOD +\n",
    "                      (SHOT_DIST | PLAYER_ID),\n",
    "                    data = train_data,\n",
    "                    family=binomial(link = \"logit\"))\n",
    "\n",
    "summary(log_mm_model)\n",
    "test_data$pred_prob <- predict(log_mm_model, type = \"response\", newdata=test_data)\n",
    "roc(SUCCESS ~ pred_prob, data = test_data)"
   ]
  },
  {
   "cell_type": "code",
   "execution_count": null,
   "id": "8624de99",
   "metadata": {
    "vscode": {
     "languageId": "r"
    }
   },
   "outputs": [],
   "source": [
    "ggplot(clean_shots, aes(x=SHOT_DIST, y=TOUCH_TIME)) + \n",
    "    geom_point()"
   ]
  }
 ],
 "metadata": {
  "kernelspec": {
   "display_name": "R",
   "language": "R",
   "name": "ir"
  },
  "language_info": {
   "codemirror_mode": "r",
   "file_extension": ".r",
   "mimetype": "text/x-r-source",
   "name": "R",
   "pygments_lexer": "r",
   "version": "4.4.3"
  }
 },
 "nbformat": 4,
 "nbformat_minor": 5
}
