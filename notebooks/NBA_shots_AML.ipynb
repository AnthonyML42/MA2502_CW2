{
 "cells": [
  {
   "cell_type": "code",
   "execution_count": null,
   "id": "23eb425f-7288-447d-a604-159c6572849e",
   "metadata": {
    "vscode": {
     "languageId": "r"
    }
   },
   "outputs": [],
   "source": [
    "list.of.packages <- c(\"tidyverse\", \"data.table\", \"dtplyr\")\n",
    "new.packages <- list.of.packages[!(list.of.packages %in% installed.packages()[,\"Package\"])]\n",
    "if(length(new.packages)) install.packages(new.packages)\n",
    "\n",
    "library(tidyverse)\n",
    "library(data.table)\n",
    "library(dtplyr)\n",
    "library(dplyr, warn.conflicts = FALSE)"
   ]
  },
  {
   "cell_type": "code",
   "execution_count": null,
   "id": "5c240597-4060-4862-a334-d99d9a78d27d",
   "metadata": {
    "vscode": {
     "languageId": "r"
    }
   },
   "outputs": [],
   "source": [
    "raw_shots <- read_csv(\"../Data/NBA_Shots_Raw.csv\")\n",
    "player_info <- read_csv(\"../Data/archive/csv/common_player_info.csv\")\n",
    "player_info <- player_info %>% rename(PLAYER_NAME=\"display_first_last\")"
   ]
  },
  {
   "cell_type": "code",
   "execution_count": null,
   "id": "24d111f8-a65d-45c8-91bf-9333cff7613a",
   "metadata": {
    "vscode": {
     "languageId": "r"
    }
   },
   "outputs": [],
   "source": [
    "colnames(raw_shots)\n",
    "colnames(player_info)\n",
    "unique(player_info$position)\n",
    "head(raw_shots)"
   ]
  },
  {
   "cell_type": "code",
   "execution_count": null,
   "id": "5743dc19-f411-452a-9bd0-758861182aa5",
   "metadata": {
    "vscode": {
     "languageId": "r"
    }
   },
   "outputs": [],
   "source": [
    "s <- raw_shots %>% \n",
    "    left_join(player_info %>% \n",
    "    select(position, PLAYER_NAME), by=\"PLAYER_NAME\") %>% \n",
    "    filter(position == \"Guard\") %>% \n",
    "    select(SHOT_DIST)"
   ]
  },
  {
   "cell_type": "code",
   "execution_count": null,
   "id": "76e03eb0-ba9a-4a82-be9b-2ca1e295f7f9",
   "metadata": {
    "vscode": {
     "languageId": "r"
    }
   },
   "outputs": [],
   "source": [
    "ggplot(s, aes(x=SHOT_DIST)) + \n",
    "    geom_histogram(bins=30)"
   ]
  },
  {
   "cell_type": "code",
   "execution_count": null,
   "id": "544a2b07-c939-471f-90d1-88920c260a20",
   "metadata": {
    "vscode": {
     "languageId": "r"
    }
   },
   "outputs": [],
   "source": [
    "options(repr.plot.width = 10, repr.plot.height = 7)\n",
    "\n",
    "s <- raw_shots %>% \n",
    "    left_join(player_info %>% select(position, PLAYER_NAME), by = \"PLAYER_NAME\") %>%\n",
    "    filter(!is.na(position)) %>%\n",
    "    select(SHOT_DIST, position)\n",
    "\n",
    "ggplot(s, aes(x = SHOT_DIST)) +\n",
    "    geom_histogram(bins = 30, fill = \"blue\", color = \"black\", alpha = 0.5) +\n",
    "    facet_wrap(~ position) +\n",
    "    labs(title = \"Shot Distance Distribution by Position\",\n",
    "       x = \"Shot Distance (feet)\",\n",
    "       y = \"Frequency\") +\n",
    "    theme_minimal()"
   ]
  },
  {
   "cell_type": "code",
   "execution_count": null,
   "id": "1b3b91f1-00a2-4a8a-a8fb-b4681e93205d",
   "metadata": {
    "vscode": {
     "languageId": "r"
    }
   },
   "outputs": [],
   "source": [
    "raw_shots %>%\n",
    "    left_join(player_info %>% select(position, PLAYER_NAME), by = \"PLAYER_NAME\", relationship=\"many-to-many\") %>%\n",
    "    filter(!is.na(position)) %>%\n",
    "    group_by(PLAYER_NAME, position) %>% \n",
    "    summarize(tot_FGM = sum(FGM), .groups=\"drop\") %>% \n",
    "    arrange(desc(tot_FGM))"
   ]
  },
  {
   "cell_type": "code",
   "execution_count": null,
   "id": "4676d5c1-3764-40d6-a7cd-d22bd71f6bc9",
   "metadata": {
    "vscode": {
     "languageId": "r"
    }
   },
   "outputs": [],
   "source": [
    "shooter_data <- raw_shots %>% \n",
    "    filter(FGM == 1) %>% \n",
    "    group_by(PLAYER_NAME) %>%\n",
    "    summarise(\n",
    "        total_FGM = n(),\n",
    "        pct_3pt = sum(PTS_TYPE == 3),\n",
    "        pct_2pt = sum(PTS_TYPE == 2)\n",
    "    ) %>%\n",
    "    left_join(player_info %>% select(position, PLAYER_NAME, team_abbreviation), by = \"PLAYER_NAME\", relationship=\"many-to-many\")"
   ]
  },
  {
   "cell_type": "code",
   "execution_count": null,
   "id": "fa7834ce-dba1-4eb7-8164-4eab5e9424f3",
   "metadata": {
    "vscode": {
     "languageId": "r"
    }
   },
   "outputs": [],
   "source": [
    "shooter_data %>%\n",
    "    group_by(team_abbreviation) %>%\n",
    "    #slice_max(order_by=pct_3pt, n=1) %>%\n",
    "    arrange(desc(total_FGM))"
   ]
  }
 ],
 "metadata": {
  "kernelspec": {
   "display_name": "R",
   "language": "R",
   "name": "ir"
  },
  "language_info": {
   "codemirror_mode": "r",
   "file_extension": ".r",
   "mimetype": "text/x-r-source",
   "name": "R",
   "pygments_lexer": "r",
   "version": "4.4.1"
  }
 },
 "nbformat": 4,
 "nbformat_minor": 5
}
