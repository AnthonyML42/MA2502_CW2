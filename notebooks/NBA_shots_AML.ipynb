{
 "cells": [
  {
   "cell_type": "code",
   "execution_count": 32,
   "id": "23eb425f-7288-447d-a604-159c6572849e",
   "metadata": {
    "editable": true,
    "slideshow": {
     "slide_type": ""
    },
    "tags": [],
    "vscode": {
     "languageId": "r"
    }
   },
   "outputs": [
    {
     "name": "stderr",
     "output_type": "stream",
     "text": [
      "Warning message in install.packages(new.packages):\n",
      "\"'lib = \"C:/Program Files/R/R-4.4.3/library\"' is not writable\"\n"
     ]
    },
    {
     "ename": "ERROR",
     "evalue": "Error in install.packages(new.packages): unable to install packages\n",
     "output_type": "error",
     "traceback": [
      "Error in install.packages(new.packages): unable to install packages\nTraceback:\n",
      "1. stop(\"unable to install packages\")",
      "2. .handleSimpleError(function (cnd) \n . {\n .     watcher$capture_plot_and_output()\n .     cnd <- sanitize_call(cnd)\n .     watcher$push(cnd)\n .     switch(on_error, continue = invokeRestart(\"eval_continue\"), \n .         stop = invokeRestart(\"eval_stop\"), error = NULL)\n . }, \"unable to install packages\", base::quote(install.packages(new.packages)))"
     ]
    }
   ],
   "source": [
    "list.of.packages <- c(\"tidyverse\", \"data.table\", \"dtplyr\", \"arrow\", \"dbplyr\", \"duckdb\", \"lme4\", \"dbscan\", \"pROC\", \"caTools\")\n",
    "new.packages <- list.of.packages[!(list.of.packages %in% installed.packages()[,\"Package\"])]\n",
    "if(length(new.packages)) install.packages(new.packages)\n",
    "\n",
    "library(tidyverse)\n",
    "library(data.table)\n",
    "#library(dtplyr)\n",
    "#library(dplyr, warn.conflicts = FALSE)\n",
    "library(arrow)\n",
    "library(duckdb)\n",
    "library(lme4)\n",
    "library(dbscan)\n",
    "library(pROC)\n",
    "library(caTools)"
   ]
  },
  {
   "cell_type": "code",
   "execution_count": 2,
   "id": "5c240597-4060-4862-a334-d99d9a78d27d",
   "metadata": {
    "vscode": {
     "languageId": "r"
    }
   },
   "outputs": [
    {
     "name": "stderr",
     "output_type": "stream",
     "text": [
      "\u001b[1mRows: \u001b[22m\u001b[34m128069\u001b[39m \u001b[1mColumns: \u001b[22m\u001b[34m23\u001b[39m\n",
      "\u001b[36m──\u001b[39m \u001b[1mColumn specification\u001b[22m \u001b[36m────────────────────────────────────────────────────────────────────────────────────────────────\u001b[39m\n",
      "\u001b[1mDelimiter:\u001b[22m \",\"\n",
      "\u001b[31mchr\u001b[39m   (8): DATE, HOME_TEAM, AWAY_TEAM, PLAYER_NAME, LOCATION, W, SHOT_RESULT...\n",
      "\u001b[32mdbl\u001b[39m  (14): GAME_ID, PLAYER_ID, FINAL_MARGIN, SHOT_NUMBER, PERIOD, SHOT_CLOCK...\n",
      "\u001b[34mtime\u001b[39m  (1): GAME_CLOCK\n",
      "\n",
      "\u001b[36mℹ\u001b[39m Use `spec()` to retrieve the full column specification for this data.\n",
      "\u001b[36mℹ\u001b[39m Specify the column types or set `show_col_types = FALSE` to quiet this message.\n",
      "\u001b[1m\u001b[22mNew names:\n",
      "\u001b[36m•\u001b[39m `` -> `...1`\n",
      "\u001b[1mRows: \u001b[22m\u001b[34m475\u001b[39m \u001b[1mColumns: \u001b[22m\u001b[34m13\u001b[39m\n",
      "\u001b[36m──\u001b[39m \u001b[1mColumn specification\u001b[22m \u001b[36m────────────────────────────────────────────────────────────────────────────────────────────────\u001b[39m\n",
      "\u001b[1mDelimiter:\u001b[22m \",\"\n",
      "\u001b[31mchr\u001b[39m (8): Birth_Place, Birthdate, College, Experience, First_Name, Pos, Surna...\n",
      "\u001b[32mdbl\u001b[39m (5): ...1, Age, Height, Weight, BMI\n",
      "\n",
      "\u001b[36mℹ\u001b[39m Use `spec()` to retrieve the full column specification for this data.\n",
      "\u001b[36mℹ\u001b[39m Specify the column types or set `show_col_types = FALSE` to quiet this message.\n",
      "\u001b[1mRows: \u001b[22m\u001b[34m513\u001b[39m \u001b[1mColumns: \u001b[22m\u001b[34m2\u001b[39m\n",
      "\u001b[36m──\u001b[39m \u001b[1mColumn specification\u001b[22m \u001b[36m────────────────────────────────────────────────────────────────────────────────────────────────\u001b[39m\n",
      "\u001b[1mDelimiter:\u001b[22m \",\"\n",
      "\u001b[31mchr\u001b[39m (1): Name\n",
      "\u001b[32mdbl\u001b[39m (1): Salary\n",
      "\n",
      "\u001b[36mℹ\u001b[39m Use `spec()` to retrieve the full column specification for this data.\n",
      "\u001b[36mℹ\u001b[39m Specify the column types or set `show_col_types = FALSE` to quiet this message.\n",
      "\u001b[1mRows: \u001b[22m\u001b[34m124364\u001b[39m \u001b[1mColumns: \u001b[22m\u001b[34m21\u001b[39m\n",
      "\u001b[36m──\u001b[39m \u001b[1mColumn specification\u001b[22m \u001b[36m────────────────────────────────────────────────────────────────────────────────────────────────\u001b[39m\n",
      "\u001b[1mDelimiter:\u001b[22m \",\"\n",
      "\u001b[31mchr\u001b[39m  (7): DATE, HOME_TEAM, AWAY_TEAM, PLAYER_NAME, LOCATION, WIN_LOSE, CLOSE...\n",
      "\u001b[32mdbl\u001b[39m (14): GAME_ID, PLAYER_ID, FINAL_MARGIN, SHOT_NUMBER, PERIOD, SEC_REMAIN,...\n",
      "\n",
      "\u001b[36mℹ\u001b[39m Use `spec()` to retrieve the full column specification for this data.\n",
      "\u001b[36mℹ\u001b[39m Specify the column types or set `show_col_types = FALSE` to quiet this message.\n"
     ]
    }
   ],
   "source": [
    "raw_shots <- read_csv(\"../Data/NBA_Shots_Raw.csv\")\n",
    "player_info <- read_csv(\"../Data/Player_Info.csv\")\n",
    "player_salary <- read_csv(\"../Data/Player_Salary.csv\")\n",
    "player_info <- player_info %>% mutate(PLAYER_NAME = paste(First_Name, Surname))\n",
    "player_salary <- player_salary %>% rename(PLAYER_NAME = Name)\n",
    "clean_shots <- read_csv(\"../Data/NBA_Shots_Clean_Example.csv\")"
   ]
  },
  {
   "cell_type": "code",
   "execution_count": 3,
   "id": "24d111f8-a65d-45c8-91bf-9333cff7613a",
   "metadata": {
    "vscode": {
     "languageId": "r"
    }
   },
   "outputs": [
    {
     "data": {
      "text/html": [
       "<style>\n",
       ".list-inline {list-style: none; margin:0; padding: 0}\n",
       ".list-inline>li {display: inline-block}\n",
       ".list-inline>li:not(:last-child)::after {content: \"\\00b7\"; padding: 0 .5ex}\n",
       "</style>\n",
       "<ol class=list-inline><li>'GAME_ID'</li><li>'DATE'</li><li>'HOME_TEAM'</li><li>'AWAY_TEAM'</li><li>'PLAYER_NAME'</li><li>'PLAYER_ID'</li><li>'LOCATION'</li><li>'W'</li><li>'FINAL_MARGIN'</li><li>'SHOT_NUMBER'</li><li>'PERIOD'</li><li>'GAME_CLOCK'</li><li>'SHOT_CLOCK'</li><li>'DRIBBLES'</li><li>'TOUCH_TIME'</li><li>'SHOT_DIST'</li><li>'PTS_TYPE'</li><li>'SHOT_RESULT'</li><li>'CLOSEST_DEFENDER'</li><li>'CLOSEST_DEFENDER_ID'</li><li>'CLOSE_DEF_DIST'</li><li>'FGM'</li><li>'PTS'</li></ol>\n"
      ],
      "text/latex": [
       "\\begin{enumerate*}\n",
       "\\item 'GAME\\_ID'\n",
       "\\item 'DATE'\n",
       "\\item 'HOME\\_TEAM'\n",
       "\\item 'AWAY\\_TEAM'\n",
       "\\item 'PLAYER\\_NAME'\n",
       "\\item 'PLAYER\\_ID'\n",
       "\\item 'LOCATION'\n",
       "\\item 'W'\n",
       "\\item 'FINAL\\_MARGIN'\n",
       "\\item 'SHOT\\_NUMBER'\n",
       "\\item 'PERIOD'\n",
       "\\item 'GAME\\_CLOCK'\n",
       "\\item 'SHOT\\_CLOCK'\n",
       "\\item 'DRIBBLES'\n",
       "\\item 'TOUCH\\_TIME'\n",
       "\\item 'SHOT\\_DIST'\n",
       "\\item 'PTS\\_TYPE'\n",
       "\\item 'SHOT\\_RESULT'\n",
       "\\item 'CLOSEST\\_DEFENDER'\n",
       "\\item 'CLOSEST\\_DEFENDER\\_ID'\n",
       "\\item 'CLOSE\\_DEF\\_DIST'\n",
       "\\item 'FGM'\n",
       "\\item 'PTS'\n",
       "\\end{enumerate*}\n"
      ],
      "text/markdown": [
       "1. 'GAME_ID'\n",
       "2. 'DATE'\n",
       "3. 'HOME_TEAM'\n",
       "4. 'AWAY_TEAM'\n",
       "5. 'PLAYER_NAME'\n",
       "6. 'PLAYER_ID'\n",
       "7. 'LOCATION'\n",
       "8. 'W'\n",
       "9. 'FINAL_MARGIN'\n",
       "10. 'SHOT_NUMBER'\n",
       "11. 'PERIOD'\n",
       "12. 'GAME_CLOCK'\n",
       "13. 'SHOT_CLOCK'\n",
       "14. 'DRIBBLES'\n",
       "15. 'TOUCH_TIME'\n",
       "16. 'SHOT_DIST'\n",
       "17. 'PTS_TYPE'\n",
       "18. 'SHOT_RESULT'\n",
       "19. 'CLOSEST_DEFENDER'\n",
       "20. 'CLOSEST_DEFENDER_ID'\n",
       "21. 'CLOSE_DEF_DIST'\n",
       "22. 'FGM'\n",
       "23. 'PTS'\n",
       "\n",
       "\n"
      ],
      "text/plain": [
       " [1] \"GAME_ID\"             \"DATE\"                \"HOME_TEAM\"          \n",
       " [4] \"AWAY_TEAM\"           \"PLAYER_NAME\"         \"PLAYER_ID\"          \n",
       " [7] \"LOCATION\"            \"W\"                   \"FINAL_MARGIN\"       \n",
       "[10] \"SHOT_NUMBER\"         \"PERIOD\"              \"GAME_CLOCK\"         \n",
       "[13] \"SHOT_CLOCK\"          \"DRIBBLES\"            \"TOUCH_TIME\"         \n",
       "[16] \"SHOT_DIST\"           \"PTS_TYPE\"            \"SHOT_RESULT\"        \n",
       "[19] \"CLOSEST_DEFENDER\"    \"CLOSEST_DEFENDER_ID\" \"CLOSE_DEF_DIST\"     \n",
       "[22] \"FGM\"                 \"PTS\"                "
      ]
     },
     "metadata": {},
     "output_type": "display_data"
    },
    {
     "data": {
      "text/html": [
       "<style>\n",
       ".list-inline {list-style: none; margin:0; padding: 0}\n",
       ".list-inline>li {display: inline-block}\n",
       ".list-inline>li:not(:last-child)::after {content: \"\\00b7\"; padding: 0 .5ex}\n",
       "</style>\n",
       "<ol class=list-inline><li>'GAME_ID'</li><li>'DATE'</li><li>'HOME_TEAM'</li><li>'AWAY_TEAM'</li><li>'PLAYER_NAME'</li><li>'PLAYER_ID'</li><li>'LOCATION'</li><li>'WIN_LOSE'</li><li>'FINAL_MARGIN'</li><li>'SHOT_NUMBER'</li><li>'PERIOD'</li><li>'SEC_REMAIN'</li><li>'SHOT_CLOCK'</li><li>'DRIBBLES'</li><li>'TOUCH_TIME'</li><li>'SHOT_DIST'</li><li>'PTS_TYPE'</li><li>'CLOSEST_DEFENDER'</li><li>'CLOSEST_DEFENDER_ID'</li><li>'CLOSE_DEF_DIST'</li><li>'SUCCESS'</li></ol>\n"
      ],
      "text/latex": [
       "\\begin{enumerate*}\n",
       "\\item 'GAME\\_ID'\n",
       "\\item 'DATE'\n",
       "\\item 'HOME\\_TEAM'\n",
       "\\item 'AWAY\\_TEAM'\n",
       "\\item 'PLAYER\\_NAME'\n",
       "\\item 'PLAYER\\_ID'\n",
       "\\item 'LOCATION'\n",
       "\\item 'WIN\\_LOSE'\n",
       "\\item 'FINAL\\_MARGIN'\n",
       "\\item 'SHOT\\_NUMBER'\n",
       "\\item 'PERIOD'\n",
       "\\item 'SEC\\_REMAIN'\n",
       "\\item 'SHOT\\_CLOCK'\n",
       "\\item 'DRIBBLES'\n",
       "\\item 'TOUCH\\_TIME'\n",
       "\\item 'SHOT\\_DIST'\n",
       "\\item 'PTS\\_TYPE'\n",
       "\\item 'CLOSEST\\_DEFENDER'\n",
       "\\item 'CLOSEST\\_DEFENDER\\_ID'\n",
       "\\item 'CLOSE\\_DEF\\_DIST'\n",
       "\\item 'SUCCESS'\n",
       "\\end{enumerate*}\n"
      ],
      "text/markdown": [
       "1. 'GAME_ID'\n",
       "2. 'DATE'\n",
       "3. 'HOME_TEAM'\n",
       "4. 'AWAY_TEAM'\n",
       "5. 'PLAYER_NAME'\n",
       "6. 'PLAYER_ID'\n",
       "7. 'LOCATION'\n",
       "8. 'WIN_LOSE'\n",
       "9. 'FINAL_MARGIN'\n",
       "10. 'SHOT_NUMBER'\n",
       "11. 'PERIOD'\n",
       "12. 'SEC_REMAIN'\n",
       "13. 'SHOT_CLOCK'\n",
       "14. 'DRIBBLES'\n",
       "15. 'TOUCH_TIME'\n",
       "16. 'SHOT_DIST'\n",
       "17. 'PTS_TYPE'\n",
       "18. 'CLOSEST_DEFENDER'\n",
       "19. 'CLOSEST_DEFENDER_ID'\n",
       "20. 'CLOSE_DEF_DIST'\n",
       "21. 'SUCCESS'\n",
       "\n",
       "\n"
      ],
      "text/plain": [
       " [1] \"GAME_ID\"             \"DATE\"                \"HOME_TEAM\"          \n",
       " [4] \"AWAY_TEAM\"           \"PLAYER_NAME\"         \"PLAYER_ID\"          \n",
       " [7] \"LOCATION\"            \"WIN_LOSE\"            \"FINAL_MARGIN\"       \n",
       "[10] \"SHOT_NUMBER\"         \"PERIOD\"              \"SEC_REMAIN\"         \n",
       "[13] \"SHOT_CLOCK\"          \"DRIBBLES\"            \"TOUCH_TIME\"         \n",
       "[16] \"SHOT_DIST\"           \"PTS_TYPE\"            \"CLOSEST_DEFENDER\"   \n",
       "[19] \"CLOSEST_DEFENDER_ID\" \"CLOSE_DEF_DIST\"      \"SUCCESS\"            "
      ]
     },
     "metadata": {},
     "output_type": "display_data"
    },
    {
     "data": {
      "text/html": [
       "<style>\n",
       ".list-inline {list-style: none; margin:0; padding: 0}\n",
       ".list-inline>li {display: inline-block}\n",
       ".list-inline>li:not(:last-child)::after {content: \"\\00b7\"; padding: 0 .5ex}\n",
       "</style>\n",
       "<ol class=list-inline><li>'...1'</li><li>'Age'</li><li>'Birth_Place'</li><li>'Birthdate'</li><li>'College'</li><li>'Experience'</li><li>'First_Name'</li><li>'Height'</li><li>'Pos'</li><li>'Surname'</li><li>'Team'</li><li>'Weight'</li><li>'BMI'</li><li>'PLAYER_NAME'</li></ol>\n"
      ],
      "text/latex": [
       "\\begin{enumerate*}\n",
       "\\item '...1'\n",
       "\\item 'Age'\n",
       "\\item 'Birth\\_Place'\n",
       "\\item 'Birthdate'\n",
       "\\item 'College'\n",
       "\\item 'Experience'\n",
       "\\item 'First\\_Name'\n",
       "\\item 'Height'\n",
       "\\item 'Pos'\n",
       "\\item 'Surname'\n",
       "\\item 'Team'\n",
       "\\item 'Weight'\n",
       "\\item 'BMI'\n",
       "\\item 'PLAYER\\_NAME'\n",
       "\\end{enumerate*}\n"
      ],
      "text/markdown": [
       "1. '...1'\n",
       "2. 'Age'\n",
       "3. 'Birth_Place'\n",
       "4. 'Birthdate'\n",
       "5. 'College'\n",
       "6. 'Experience'\n",
       "7. 'First_Name'\n",
       "8. 'Height'\n",
       "9. 'Pos'\n",
       "10. 'Surname'\n",
       "11. 'Team'\n",
       "12. 'Weight'\n",
       "13. 'BMI'\n",
       "14. 'PLAYER_NAME'\n",
       "\n",
       "\n"
      ],
      "text/plain": [
       " [1] \"...1\"        \"Age\"         \"Birth_Place\" \"Birthdate\"   \"College\"    \n",
       " [6] \"Experience\"  \"First_Name\"  \"Height\"      \"Pos\"         \"Surname\"    \n",
       "[11] \"Team\"        \"Weight\"      \"BMI\"         \"PLAYER_NAME\""
      ]
     },
     "metadata": {},
     "output_type": "display_data"
    },
    {
     "data": {
      "text/html": [
       "<style>\n",
       ".list-inline {list-style: none; margin:0; padding: 0}\n",
       ".list-inline>li {display: inline-block}\n",
       ".list-inline>li:not(:last-child)::after {content: \"\\00b7\"; padding: 0 .5ex}\n",
       "</style>\n",
       "<ol class=list-inline><li>'PLAYER_NAME'</li><li>'Salary'</li></ol>\n"
      ],
      "text/latex": [
       "\\begin{enumerate*}\n",
       "\\item 'PLAYER\\_NAME'\n",
       "\\item 'Salary'\n",
       "\\end{enumerate*}\n"
      ],
      "text/markdown": [
       "1. 'PLAYER_NAME'\n",
       "2. 'Salary'\n",
       "\n",
       "\n"
      ],
      "text/plain": [
       "[1] \"PLAYER_NAME\" \"Salary\"     "
      ]
     },
     "metadata": {},
     "output_type": "display_data"
    }
   ],
   "source": [
    "colnames(raw_shots)\n",
    "colnames(clean_shots)\n",
    "colnames(player_info)\n",
    "colnames(player_salary)\n",
    "#player_statistics %>% count() %>% collect()\n",
    "#head(raw_shots)\n",
    "#head(player_info)\n",
    "#head(player_salary)\n"
   ]
  },
  {
   "cell_type": "code",
   "execution_count": 4,
   "id": "544a2b07-c939-471f-90d1-88920c260a20",
   "metadata": {
    "vscode": {
     "languageId": "r"
    }
   },
   "outputs": [
    {
     "name": "stderr",
     "output_type": "stream",
     "text": [
      "Warning message in left_join(., player_info %>% select(Pos, PLAYER_NAME), by = \"PLAYER_NAME\"):\n",
      "\"\u001b[1m\u001b[22mDetected an unexpected many-to-many relationship between `x` and `y`.\n",
      "\u001b[36mℹ\u001b[39m Row 442 of `x` matches multiple rows in `y`.\n",
      "\u001b[36mℹ\u001b[39m Row 288 of `y` matches multiple rows in `x`.\n",
      "\u001b[36mℹ\u001b[39m If a many-to-many relationship is expected, set `relationship = \"many-to-many\"` to silence this warning.\"\n"
     ]
    },
    {
     "data": {
      "image/png": "[encoded data removed]",
      "text/plain": [
       "plot without title"
      ]
     },
     "metadata": {
      "image/png": {
       "height": 420,
       "width": 600
      }
     },
     "output_type": "display_data"
    }
   ],
   "source": [
    "options(repr.plot.width = 10, repr.plot.height = 7)\n",
    "\n",
    "s <- raw_shots %>% \n",
    "    left_join(player_info %>% select(Pos, PLAYER_NAME), by = \"PLAYER_NAME\") %>%\n",
    "    filter(!is.na(Pos)) %>%\n",
    "    select(SHOT_DIST, Pos)\n",
    "\n",
    "ggplot(s, aes(x = SHOT_DIST)) +\n",
    "    geom_histogram(bins = 30, fill = \"blue\", color = \"black\", alpha = 0.5) +\n",
    "    facet_wrap(~ Pos) +\n",
    "    labs(title = \"Shot Distance Distribution by Position\",\n",
    "       x = \"Shot Distance (feet)\",\n",
    "       y = \"Frequency\") +\n",
    "    theme_minimal()"
   ]
  },
  {
   "cell_type": "code",
   "execution_count": 5,
   "id": "1b3b91f1-00a2-4a8a-a8fb-b4681e93205d",
   "metadata": {
    "vscode": {
     "languageId": "r"
    }
   },
   "outputs": [],
   "source": [
    "l1 <- raw_shots %>%\n",
    "    left_join(player_info %>% select(Pos, PLAYER_NAME), by = \"PLAYER_NAME\", relationship=\"many-to-many\") %>%\n",
    "    filter(!is.na(Pos)) %>%\n",
    "    group_by(PLAYER_NAME, Pos) %>% \n",
    "    summarize(tot_FGM = sum(FGM), .groups=\"drop\") %>% \n",
    "    arrange(desc(tot_FGM))\n",
    "l2 <- raw_shots %>% \n",
    "    filter(FGM == 1) %>% \n",
    "    group_by(PLAYER_NAME) %>%\n",
    "    summarise(\n",
    "        total_FGM = n(),\n",
    "        pct_3pt = sum(PTS_TYPE == 3),\n",
    "        pct_2pt = sum(PTS_TYPE == 2)\n",
    "    ) %>%\n",
    "    left_join(player_info %>% select(Pos, PLAYER_NAME, Team, Age), by = \"PLAYER_NAME\", relationship=\"many-to-many\")"
   ]
  },
  {
   "cell_type": "code",
   "execution_count": 6,
   "id": "fa7834ce-dba1-4eb7-8164-4eab5e9424f3",
   "metadata": {
    "vscode": {
     "languageId": "r"
    }
   },
   "outputs": [
    {
     "data": {
      "text/html": [
       "<table class=\"dataframe\">\n",
       "<caption>A tibble: 1 × 1</caption>\n",
       "<thead>\n",
       "\t<tr><th scope=col>unique_players</th></tr>\n",
       "\t<tr><th scope=col>&lt;int&gt;</th></tr>\n",
       "</thead>\n",
       "<tbody>\n",
       "\t<tr><td>281</td></tr>\n",
       "</tbody>\n",
       "</table>\n"
      ],
      "text/latex": [
       "A tibble: 1 × 1\n",
       "\\begin{tabular}{l}\n",
       " unique\\_players\\\\\n",
       " <int>\\\\\n",
       "\\hline\n",
       "\t 281\\\\\n",
       "\\end{tabular}\n"
      ],
      "text/markdown": [
       "\n",
       "A tibble: 1 × 1\n",
       "\n",
       "| unique_players &lt;int&gt; |\n",
       "|---|\n",
       "| 281 |\n",
       "\n"
      ],
      "text/plain": [
       "  unique_players\n",
       "1 281           "
      ]
     },
     "metadata": {},
     "output_type": "display_data"
    },
    {
     "data": {
      "text/html": [
       "<table class=\"dataframe\">\n",
       "<caption>A tibble: 1 × 1</caption>\n",
       "<thead>\n",
       "\t<tr><th scope=col>unique_players</th></tr>\n",
       "\t<tr><th scope=col>&lt;int&gt;</th></tr>\n",
       "</thead>\n",
       "<tbody>\n",
       "\t<tr><td>425</td></tr>\n",
       "</tbody>\n",
       "</table>\n"
      ],
      "text/latex": [
       "A tibble: 1 × 1\n",
       "\\begin{tabular}{l}\n",
       " unique\\_players\\\\\n",
       " <int>\\\\\n",
       "\\hline\n",
       "\t 425\\\\\n",
       "\\end{tabular}\n"
      ],
      "text/markdown": [
       "\n",
       "A tibble: 1 × 1\n",
       "\n",
       "| unique_players &lt;int&gt; |\n",
       "|---|\n",
       "| 425 |\n",
       "\n"
      ],
      "text/plain": [
       "  unique_players\n",
       "1 425           "
      ]
     },
     "metadata": {},
     "output_type": "display_data"
    },
    {
     "data": {
      "text/html": [
       "<table class=\"dataframe\">\n",
       "<caption>A tibble: 1 × 1</caption>\n",
       "<thead>\n",
       "\t<tr><th scope=col>unique_players</th></tr>\n",
       "\t<tr><th scope=col>&lt;int&gt;</th></tr>\n",
       "</thead>\n",
       "<tbody>\n",
       "\t<tr><td>513</td></tr>\n",
       "</tbody>\n",
       "</table>\n"
      ],
      "text/latex": [
       "A tibble: 1 × 1\n",
       "\\begin{tabular}{l}\n",
       " unique\\_players\\\\\n",
       " <int>\\\\\n",
       "\\hline\n",
       "\t 513\\\\\n",
       "\\end{tabular}\n"
      ],
      "text/markdown": [
       "\n",
       "A tibble: 1 × 1\n",
       "\n",
       "| unique_players &lt;int&gt; |\n",
       "|---|\n",
       "| 513 |\n",
       "\n"
      ],
      "text/plain": [
       "  unique_players\n",
       "1 513           "
      ]
     },
     "metadata": {},
     "output_type": "display_data"
    }
   ],
   "source": [
    "raw_shots %>% summarise(unique_players = n_distinct(PLAYER_NAME))\n",
    "player_info %>% summarise(unique_players = n_distinct(PLAYER_NAME))\n",
    "player_salary %>% summarise(unique_players = n_distinct(PLAYER_NAME))"
   ]
  },
  {
   "cell_type": "code",
   "execution_count": 7,
   "id": "8f19a64c-2571-4083-90c4-9be5e238b22f",
   "metadata": {
    "vscode": {
     "languageId": "r"
    }
   },
   "outputs": [
    {
     "data": {
      "text/html": [
       "<table class=\"dataframe\">\n",
       "<caption>A tibble: 1 × 3</caption>\n",
       "<thead>\n",
       "\t<tr><th scope=col>home_pct_win</th><th scope=col>home_wins</th><th scope=col>total_games</th></tr>\n",
       "\t<tr><th scope=col>&lt;dbl&gt;</th><th scope=col>&lt;int&gt;</th><th scope=col>&lt;int&gt;</th></tr>\n",
       "</thead>\n",
       "<tbody>\n",
       "\t<tr><td>0.5341615</td><td>86</td><td>161</td></tr>\n",
       "</tbody>\n",
       "</table>\n"
      ],
      "text/latex": [
       "A tibble: 1 × 3\n",
       "\\begin{tabular}{lll}\n",
       " home\\_pct\\_win & home\\_wins & total\\_games\\\\\n",
       " <dbl> & <int> & <int>\\\\\n",
       "\\hline\n",
       "\t 0.5341615 & 86 & 161\\\\\n",
       "\\end{tabular}\n"
      ],
      "text/markdown": [
       "\n",
       "A tibble: 1 × 3\n",
       "\n",
       "| home_pct_win &lt;dbl&gt; | home_wins &lt;int&gt; | total_games &lt;int&gt; |\n",
       "|---|---|---|\n",
       "| 0.5341615 | 86 | 161 |\n",
       "\n"
      ],
      "text/plain": [
       "  home_pct_win home_wins total_games\n",
       "1 0.5341615    86        161        "
      ]
     },
     "metadata": {},
     "output_type": "display_data"
    },
    {
     "data": {
      "text/plain": [
       "\n",
       "\tExact binomial test\n",
       "\n",
       "data:  86 and 161\n",
       "number of successes = 86, number of trials = 161, p-value = 0.2154\n",
       "alternative hypothesis: true probability of success is greater than 0.5\n",
       "95 percent confidence interval:\n",
       " 0.466325 1.000000\n",
       "sample estimates:\n",
       "probability of success \n",
       "             0.5341615 \n"
      ]
     },
     "metadata": {},
     "output_type": "display_data"
    }
   ],
   "source": [
    "#clean_shots %>% \n",
    "#    filter(PERIOD <= 3) %>%\n",
    "#    select(HOME_TEAM, AWAY_TEAM, WIN_LOSE)\n",
    "#    group_by(\n",
    "\n",
    "#clean_shots %>% \n",
    "#    select(GAME_ID, FINAL_MARGIN, WIN_LOSE, HOME_TEAM, AWAY_TEAM, LOCATION) %>%\n",
    "#    filter(abs(FINAL_MARGIN) <= 3) %>% #no need to filter for w/l\n",
    " #   distinct(GAME_ID, .keep_all=TRUE) %>%\n",
    "#    summarise(home_win_pct = 100*sum(FINAL_MARGIN > 0 & LOCATION == \"H\")/sum(LOCATION == \"H\"))\n",
    "\n",
    "\n",
    "#clean_shots %>%\n",
    "#    select(GAME_ID, WIN_LOSE, HOME_TEAM, AWAY_TEAM, LOCATION, PERIOD, PTS_TYPE, SUCCESS) %>%\n",
    "#    mutate(pts = PTS_TYPE * SUCCESS) %>%\n",
    "#    filter(PERIOD <= 3) %>%\n",
    "#    group_by(GAME_ID, LOCATION) %>%\n",
    "#    summarise(total_pts = sum(pts), .groups = \"drop\") %>%\n",
    "#    pivot_wider(names_from = LOCATION, values_from = total_pts, names_prefix = \"pts_\") %>%\n",
    "#    summarise(pts_diff_H = pts_H-pts_A)\n",
    "\n",
    "home_win <- clean_shots %>%\n",
    "    filter(LOCATION == \"H\") %>%\n",
    "    select(GAME_ID, HOME_TEAM, AWAY_TEAM, WIN_LOSE) %>%\n",
    "    distinct(GAME_ID, .keep_all=TRUE)\n",
    "\n",
    "clean_shots %>%\n",
    "    filter(PERIOD <= 3) %>%\n",
    "    mutate(pts = PTS_TYPE * SUCCESS) %>%\n",
    "    group_by(GAME_ID, LOCATION) %>%\n",
    "    summarise(total_pts = sum(pts), .groups = \"drop\") %>%\n",
    "    pivot_wider(names_from = LOCATION, values_from = total_pts, names_prefix = \"pts_\") %>%\n",
    "    left_join(home_win, by=\"GAME_ID\") %>%\n",
    "    rename(HOME_RESULT = WIN_LOSE) %>%\n",
    "    mutate(pts_diff = abs(pts_H - pts_A)) %>%\n",
    "    filter(pts_diff <= 3) %>%\n",
    "    summarise(\n",
    "        home_pct_win = sum(HOME_RESULT == \"W\")/n(),\n",
    "        home_wins = sum(HOME_RESULT == \"W\"),\n",
    "        total_games = n()\n",
    "    )\n",
    "\n",
    "binom.test(x=86, n=161, p=0.5, alternative=\"greater\")"
   ]
  },
  {
   "cell_type": "code",
   "execution_count": null,
   "id": "5b44c48c",
   "metadata": {
    "vscode": {
     "languageId": "r"
    }
   },
   "outputs": [],
   "source": [
    "play_by_play <- open_dataset(\"../Data/wyatt_basketball/csv/play_by_play.csv\", format=\"csv\")"
   ]
  },
  {
   "cell_type": "code",
   "execution_count": null,
   "id": "e3975da1-c20d-4d86-9dec-4742180e8a8a",
   "metadata": {
    "vscode": {
     "languageId": "r"
    }
   },
   "outputs": [],
   "source": []
  },
  {
   "cell_type": "code",
   "execution_count": null,
   "id": "bc3faab2",
   "metadata": {
    "vscode": {
     "languageId": "r"
    }
   },
   "outputs": [],
   "source": [
    "con <- DBI::dbConnect(\n",
    "  duckdb::duckdb(), dbdir = \".tmp.duckdb\"\n",
    ")"
   ]
  },
  {
   "cell_type": "code",
   "execution_count": null,
   "id": "510d65c1-58c1-4ea5-92fb-1753c88cb282",
   "metadata": {
    "vscode": {
     "languageId": "r"
    }
   },
   "outputs": [],
   "source": [
    "duckdb_read_csv(con, name=\"play_by_play\", files=\"../Data/wyatt_basketball/csv/play_by_play.csv\")"
   ]
  },
  {
   "cell_type": "code",
   "execution_count": null,
   "id": "43d50b73-6912-4ae0-abd9-4a431fcaa111",
   "metadata": {
    "vscode": {
     "languageId": "r"
    }
   },
   "outputs": [],
   "source": [
    "colnames(tbl(con, \"play_by_play\") %>% head(1))"
   ]
  },
  {
   "cell_type": "code",
   "execution_count": null,
   "id": "d59ca827",
   "metadata": {
    "vscode": {
     "languageId": "r"
    }
   },
   "outputs": [],
   "source": [
    "tbl(con, \"play_by_play\") %>% count(eventmsgtype) %>% collect()\n",
    "tbl(con, \"play_by_play\") %>% filter(eventmsgtype == 1) %>% head(10) %>% collect()"
   ]
  },
  {
   "cell_type": "code",
   "execution_count": null,
   "id": "4460fe32-cfaa-4564-92cd-dda2d74a2f73",
   "metadata": {
    "vscode": {
     "languageId": "r"
    }
   },
   "outputs": [],
   "source": [
    "dbDisconnect(con, shutdown=TRUE)"
   ]
  },
  {
   "cell_type": "code",
   "execution_count": 31,
   "id": "7edcfde0",
   "metadata": {
    "vscode": {
     "languageId": "r"
    }
   },
   "outputs": [
    {
     "data": {
      "text/html": [
       "<table class=\"dataframe\">\n",
       "<caption>A tibble: 130608 × 6</caption>\n",
       "<thead>\n",
       "\t<tr><th scope=col>SHOT_DIST</th><th scope=col>CLOSE_DEF_DIST</th><th scope=col>SHOT_CLOCK</th><th scope=col>TOUCH_TIME</th><th scope=col>PERIOD</th><th scope=col>Height</th></tr>\n",
       "\t<tr><th scope=col>&lt;dbl&gt;</th><th scope=col>&lt;dbl&gt;</th><th scope=col>&lt;dbl&gt;</th><th scope=col>&lt;dbl&gt;</th><th scope=col>&lt;dbl&gt;</th><th scope=col>&lt;dbl&gt;</th></tr>\n",
       "</thead>\n",
       "<tbody>\n",
       "\t<tr><td> 3.6</td><td> 1.7</td><td>11.3</td><td> 0.8</td><td>1</td><td>210</td></tr>\n",
       "\t<tr><td> 0.9</td><td> 2.0</td><td>13.0</td><td> 2.9</td><td>1</td><td>210</td></tr>\n",
       "\t<tr><td> 0.8</td><td> 2.6</td><td>11.5</td><td> 0.6</td><td>1</td><td>210</td></tr>\n",
       "\t<tr><td> 3.4</td><td> 1.5</td><td>21.6</td><td> 0.6</td><td>1</td><td>210</td></tr>\n",
       "\t<tr><td> 2.6</td><td> 4.5</td><td>15.9</td><td> 0.8</td><td>1</td><td>210</td></tr>\n",
       "\t<tr><td> 2.7</td><td> 1.7</td><td>24.0</td><td> 1.1</td><td>1</td><td>210</td></tr>\n",
       "\t<tr><td> 1.2</td><td> 3.6</td><td>22.6</td><td> 0.3</td><td>2</td><td>210</td></tr>\n",
       "\t<tr><td> 2.3</td><td> 2.1</td><td>23.1</td><td> 2.0</td><td>2</td><td>210</td></tr>\n",
       "\t<tr><td> 3.6</td><td> 2.2</td><td> 8.4</td><td> 6.5</td><td>3</td><td>210</td></tr>\n",
       "\t<tr><td> 0.6</td><td> 1.4</td><td>23.6</td><td> 0.9</td><td>4</td><td>210</td></tr>\n",
       "\t<tr><td>24.1</td><td> 4.8</td><td>16.8</td><td> 1.7</td><td>1</td><td>190</td></tr>\n",
       "\t<tr><td> 3.6</td><td> 2.0</td><td>12.7</td><td>10.5</td><td>2</td><td>190</td></tr>\n",
       "\t<tr><td>20.6</td><td> 4.0</td><td>11.5</td><td> 4.4</td><td>2</td><td>190</td></tr>\n",
       "\t<tr><td> 1.3</td><td> 3.3</td><td>14.0</td><td> 9.8</td><td>2</td><td>190</td></tr>\n",
       "\t<tr><td> 2.8</td><td> 3.5</td><td>20.7</td><td> 1.2</td><td>3</td><td>190</td></tr>\n",
       "\t<tr><td>20.9</td><td> 6.7</td><td>10.7</td><td> 0.9</td><td>3</td><td>190</td></tr>\n",
       "\t<tr><td>16.0</td><td> 2.8</td><td>14.4</td><td> 9.4</td><td>3</td><td>190</td></tr>\n",
       "\t<tr><td> 3.4</td><td> 1.9</td><td>15.6</td><td> 8.3</td><td>3</td><td>190</td></tr>\n",
       "\t<tr><td>23.8</td><td> 3.8</td><td>15.9</td><td> 2.5</td><td>3</td><td>190</td></tr>\n",
       "\t<tr><td>23.4</td><td> 5.2</td><td>18.2</td><td> 0.7</td><td>4</td><td>190</td></tr>\n",
       "\t<tr><td> 4.0</td><td> 5.5</td><td>20.2</td><td> 1.8</td><td>4</td><td>190</td></tr>\n",
       "\t<tr><td>25.0</td><td> 4.2</td><td>10.1</td><td> 1.3</td><td>1</td><td>205</td></tr>\n",
       "\t<tr><td> 2.7</td><td> 6.1</td><td>12.4</td><td> 0.7</td><td>1</td><td>205</td></tr>\n",
       "\t<tr><td>16.5</td><td> 5.1</td><td> 8.3</td><td> 5.6</td><td>1</td><td>205</td></tr>\n",
       "\t<tr><td>17.6</td><td>13.4</td><td> 5.0</td><td> 2.5</td><td>1</td><td>205</td></tr>\n",
       "\t<tr><td> 1.6</td><td> 0.9</td><td>24.0</td><td> 2.1</td><td>2</td><td>205</td></tr>\n",
       "\t<tr><td> 3.8</td><td> 2.0</td><td>24.0</td><td> 0.1</td><td>2</td><td>205</td></tr>\n",
       "\t<tr><td> 1.0</td><td> 2.9</td><td>24.0</td><td> 1.2</td><td>2</td><td>205</td></tr>\n",
       "\t<tr><td> 3.9</td><td> 2.4</td><td>11.1</td><td> 1.6</td><td>2</td><td>205</td></tr>\n",
       "\t<tr><td> 0.5</td><td> 0.4</td><td>23.0</td><td> 0.1</td><td>2</td><td>205</td></tr>\n",
       "\t<tr><td>⋮</td><td>⋮</td><td>⋮</td><td>⋮</td><td>⋮</td><td>⋮</td></tr>\n",
       "\t<tr><td> 1.8</td><td> 1.9</td><td>23.6</td><td> 0.7</td><td>1</td><td>200.0</td></tr>\n",
       "\t<tr><td>23.9</td><td>12.2</td><td> 8.3</td><td> 0.9</td><td>1</td><td>200.0</td></tr>\n",
       "\t<tr><td>23.1</td><td> 6.2</td><td>14.8</td><td> 0.7</td><td>1</td><td>200.0</td></tr>\n",
       "\t<tr><td>15.2</td><td> 3.0</td><td> 3.0</td><td> 4.0</td><td>1</td><td>200.0</td></tr>\n",
       "\t<tr><td>19.2</td><td> 6.3</td><td>14.3</td><td> 2.2</td><td>1</td><td>200.0</td></tr>\n",
       "\t<tr><td>23.8</td><td> 5.1</td><td>13.4</td><td>10.6</td><td>2</td><td>200.0</td></tr>\n",
       "\t<tr><td>26.1</td><td> 5.7</td><td> 7.0</td><td> 0.8</td><td>3</td><td>200.0</td></tr>\n",
       "\t<tr><td>24.1</td><td> 5.0</td><td> 6.6</td><td> 0.8</td><td>4</td><td>200.0</td></tr>\n",
       "\t<tr><td>25.0</td><td> 3.1</td><td> 4.2</td><td> 0.3</td><td>4</td><td>200.0</td></tr>\n",
       "\t<tr><td>24.1</td><td>15.8</td><td>17.2</td><td> 3.2</td><td>4</td><td>200.0</td></tr>\n",
       "\t<tr><td>26.4</td><td> 5.7</td><td> 6.6</td><td> 4.4</td><td>5</td><td>200.0</td></tr>\n",
       "\t<tr><td> 4.1</td><td> 2.0</td><td>20.0</td><td> 4.3</td><td>1</td><td>187.5</td></tr>\n",
       "\t<tr><td> 3.9</td><td> 2.8</td><td>16.5</td><td> 8.0</td><td>1</td><td>187.5</td></tr>\n",
       "\t<tr><td>24.3</td><td> 3.0</td><td>13.0</td><td> 1.0</td><td>1</td><td>187.5</td></tr>\n",
       "\t<tr><td>25.9</td><td> 8.7</td><td> 9.0</td><td> 0.9</td><td>2</td><td>187.5</td></tr>\n",
       "\t<tr><td> 1.3</td><td> 3.2</td><td>10.7</td><td>13.5</td><td>2</td><td>187.5</td></tr>\n",
       "\t<tr><td> 3.9</td><td> 2.7</td><td>16.1</td><td> 1.6</td><td>3</td><td>187.5</td></tr>\n",
       "\t<tr><td>28.2</td><td> 4.8</td><td>16.8</td><td> 3.3</td><td>3</td><td>187.5</td></tr>\n",
       "\t<tr><td> 2.9</td><td> 2.4</td><td>11.3</td><td>12.6</td><td>3</td><td>187.5</td></tr>\n",
       "\t<tr><td>26.7</td><td> 6.3</td><td>13.9</td><td> 2.5</td><td>4</td><td>187.5</td></tr>\n",
       "\t<tr><td>26.8</td><td> 2.3</td><td>22.9</td><td> 1.2</td><td>4</td><td>187.5</td></tr>\n",
       "\t<tr><td>23.8</td><td> 3.8</td><td>19.7</td><td> 4.4</td><td>4</td><td>187.5</td></tr>\n",
       "\t<tr><td>22.9</td><td> 7.3</td><td>14.8</td><td> 1.0</td><td>5</td><td>187.5</td></tr>\n",
       "\t<tr><td> 2.5</td><td> 7.3</td><td>14.5</td><td> 0.3</td><td>5</td><td>187.5</td></tr>\n",
       "\t<tr><td> 2.8</td><td> 2.6</td><td> 5.4</td><td> 1.1</td><td>1</td><td>210.0</td></tr>\n",
       "\t<tr><td>17.2</td><td> 5.1</td><td>11.0</td><td> 1.0</td><td>1</td><td>210.0</td></tr>\n",
       "\t<tr><td> 4.9</td><td> 1.8</td><td>10.5</td><td> 1.5</td><td>2</td><td>210.0</td></tr>\n",
       "\t<tr><td> 9.3</td><td> 3.3</td><td>12.0</td><td> 3.2</td><td>3</td><td>210.0</td></tr>\n",
       "\t<tr><td> 3.7</td><td> 2.5</td><td>11.6</td><td> 1.2</td><td>3</td><td>210.0</td></tr>\n",
       "\t<tr><td>14.6</td><td> 3.9</td><td>10.0</td><td> 1.3</td><td>4</td><td>210.0</td></tr>\n",
       "</tbody>\n",
       "</table>\n"
      ],
      "text/latex": [
       "A tibble: 130608 × 6\n",
       "\\begin{tabular}{llllll}\n",
       " SHOT\\_DIST & CLOSE\\_DEF\\_DIST & SHOT\\_CLOCK & TOUCH\\_TIME & PERIOD & Height\\\\\n",
       " <dbl> & <dbl> & <dbl> & <dbl> & <dbl> & <dbl>\\\\\n",
       "\\hline\n",
       "\t  3.6 &  1.7 & 11.3 &  0.8 & 1 & 210\\\\\n",
       "\t  0.9 &  2.0 & 13.0 &  2.9 & 1 & 210\\\\\n",
       "\t  0.8 &  2.6 & 11.5 &  0.6 & 1 & 210\\\\\n",
       "\t  3.4 &  1.5 & 21.6 &  0.6 & 1 & 210\\\\\n",
       "\t  2.6 &  4.5 & 15.9 &  0.8 & 1 & 210\\\\\n",
       "\t  2.7 &  1.7 & 24.0 &  1.1 & 1 & 210\\\\\n",
       "\t  1.2 &  3.6 & 22.6 &  0.3 & 2 & 210\\\\\n",
       "\t  2.3 &  2.1 & 23.1 &  2.0 & 2 & 210\\\\\n",
       "\t  3.6 &  2.2 &  8.4 &  6.5 & 3 & 210\\\\\n",
       "\t  0.6 &  1.4 & 23.6 &  0.9 & 4 & 210\\\\\n",
       "\t 24.1 &  4.8 & 16.8 &  1.7 & 1 & 190\\\\\n",
       "\t  3.6 &  2.0 & 12.7 & 10.5 & 2 & 190\\\\\n",
       "\t 20.6 &  4.0 & 11.5 &  4.4 & 2 & 190\\\\\n",
       "\t  1.3 &  3.3 & 14.0 &  9.8 & 2 & 190\\\\\n",
       "\t  2.8 &  3.5 & 20.7 &  1.2 & 3 & 190\\\\\n",
       "\t 20.9 &  6.7 & 10.7 &  0.9 & 3 & 190\\\\\n",
       "\t 16.0 &  2.8 & 14.4 &  9.4 & 3 & 190\\\\\n",
       "\t  3.4 &  1.9 & 15.6 &  8.3 & 3 & 190\\\\\n",
       "\t 23.8 &  3.8 & 15.9 &  2.5 & 3 & 190\\\\\n",
       "\t 23.4 &  5.2 & 18.2 &  0.7 & 4 & 190\\\\\n",
       "\t  4.0 &  5.5 & 20.2 &  1.8 & 4 & 190\\\\\n",
       "\t 25.0 &  4.2 & 10.1 &  1.3 & 1 & 205\\\\\n",
       "\t  2.7 &  6.1 & 12.4 &  0.7 & 1 & 205\\\\\n",
       "\t 16.5 &  5.1 &  8.3 &  5.6 & 1 & 205\\\\\n",
       "\t 17.6 & 13.4 &  5.0 &  2.5 & 1 & 205\\\\\n",
       "\t  1.6 &  0.9 & 24.0 &  2.1 & 2 & 205\\\\\n",
       "\t  3.8 &  2.0 & 24.0 &  0.1 & 2 & 205\\\\\n",
       "\t  1.0 &  2.9 & 24.0 &  1.2 & 2 & 205\\\\\n",
       "\t  3.9 &  2.4 & 11.1 &  1.6 & 2 & 205\\\\\n",
       "\t  0.5 &  0.4 & 23.0 &  0.1 & 2 & 205\\\\\n",
       "\t ⋮ & ⋮ & ⋮ & ⋮ & ⋮ & ⋮\\\\\n",
       "\t  1.8 &  1.9 & 23.6 &  0.7 & 1 & 200.0\\\\\n",
       "\t 23.9 & 12.2 &  8.3 &  0.9 & 1 & 200.0\\\\\n",
       "\t 23.1 &  6.2 & 14.8 &  0.7 & 1 & 200.0\\\\\n",
       "\t 15.2 &  3.0 &  3.0 &  4.0 & 1 & 200.0\\\\\n",
       "\t 19.2 &  6.3 & 14.3 &  2.2 & 1 & 200.0\\\\\n",
       "\t 23.8 &  5.1 & 13.4 & 10.6 & 2 & 200.0\\\\\n",
       "\t 26.1 &  5.7 &  7.0 &  0.8 & 3 & 200.0\\\\\n",
       "\t 24.1 &  5.0 &  6.6 &  0.8 & 4 & 200.0\\\\\n",
       "\t 25.0 &  3.1 &  4.2 &  0.3 & 4 & 200.0\\\\\n",
       "\t 24.1 & 15.8 & 17.2 &  3.2 & 4 & 200.0\\\\\n",
       "\t 26.4 &  5.7 &  6.6 &  4.4 & 5 & 200.0\\\\\n",
       "\t  4.1 &  2.0 & 20.0 &  4.3 & 1 & 187.5\\\\\n",
       "\t  3.9 &  2.8 & 16.5 &  8.0 & 1 & 187.5\\\\\n",
       "\t 24.3 &  3.0 & 13.0 &  1.0 & 1 & 187.5\\\\\n",
       "\t 25.9 &  8.7 &  9.0 &  0.9 & 2 & 187.5\\\\\n",
       "\t  1.3 &  3.2 & 10.7 & 13.5 & 2 & 187.5\\\\\n",
       "\t  3.9 &  2.7 & 16.1 &  1.6 & 3 & 187.5\\\\\n",
       "\t 28.2 &  4.8 & 16.8 &  3.3 & 3 & 187.5\\\\\n",
       "\t  2.9 &  2.4 & 11.3 & 12.6 & 3 & 187.5\\\\\n",
       "\t 26.7 &  6.3 & 13.9 &  2.5 & 4 & 187.5\\\\\n",
       "\t 26.8 &  2.3 & 22.9 &  1.2 & 4 & 187.5\\\\\n",
       "\t 23.8 &  3.8 & 19.7 &  4.4 & 4 & 187.5\\\\\n",
       "\t 22.9 &  7.3 & 14.8 &  1.0 & 5 & 187.5\\\\\n",
       "\t  2.5 &  7.3 & 14.5 &  0.3 & 5 & 187.5\\\\\n",
       "\t  2.8 &  2.6 &  5.4 &  1.1 & 1 & 210.0\\\\\n",
       "\t 17.2 &  5.1 & 11.0 &  1.0 & 1 & 210.0\\\\\n",
       "\t  4.9 &  1.8 & 10.5 &  1.5 & 2 & 210.0\\\\\n",
       "\t  9.3 &  3.3 & 12.0 &  3.2 & 3 & 210.0\\\\\n",
       "\t  3.7 &  2.5 & 11.6 &  1.2 & 3 & 210.0\\\\\n",
       "\t 14.6 &  3.9 & 10.0 &  1.3 & 4 & 210.0\\\\\n",
       "\\end{tabular}\n"
      ],
      "text/markdown": [
       "\n",
       "A tibble: 130608 × 6\n",
       "\n",
       "| SHOT_DIST &lt;dbl&gt; | CLOSE_DEF_DIST &lt;dbl&gt; | SHOT_CLOCK &lt;dbl&gt; | TOUCH_TIME &lt;dbl&gt; | PERIOD &lt;dbl&gt; | Height &lt;dbl&gt; |\n",
       "|---|---|---|---|---|---|\n",
       "|  3.6 |  1.7 | 11.3 |  0.8 | 1 | 210 |\n",
       "|  0.9 |  2.0 | 13.0 |  2.9 | 1 | 210 |\n",
       "|  0.8 |  2.6 | 11.5 |  0.6 | 1 | 210 |\n",
       "|  3.4 |  1.5 | 21.6 |  0.6 | 1 | 210 |\n",
       "|  2.6 |  4.5 | 15.9 |  0.8 | 1 | 210 |\n",
       "|  2.7 |  1.7 | 24.0 |  1.1 | 1 | 210 |\n",
       "|  1.2 |  3.6 | 22.6 |  0.3 | 2 | 210 |\n",
       "|  2.3 |  2.1 | 23.1 |  2.0 | 2 | 210 |\n",
       "|  3.6 |  2.2 |  8.4 |  6.5 | 3 | 210 |\n",
       "|  0.6 |  1.4 | 23.6 |  0.9 | 4 | 210 |\n",
       "| 24.1 |  4.8 | 16.8 |  1.7 | 1 | 190 |\n",
       "|  3.6 |  2.0 | 12.7 | 10.5 | 2 | 190 |\n",
       "| 20.6 |  4.0 | 11.5 |  4.4 | 2 | 190 |\n",
       "|  1.3 |  3.3 | 14.0 |  9.8 | 2 | 190 |\n",
       "|  2.8 |  3.5 | 20.7 |  1.2 | 3 | 190 |\n",
       "| 20.9 |  6.7 | 10.7 |  0.9 | 3 | 190 |\n",
       "| 16.0 |  2.8 | 14.4 |  9.4 | 3 | 190 |\n",
       "|  3.4 |  1.9 | 15.6 |  8.3 | 3 | 190 |\n",
       "| 23.8 |  3.8 | 15.9 |  2.5 | 3 | 190 |\n",
       "| 23.4 |  5.2 | 18.2 |  0.7 | 4 | 190 |\n",
       "|  4.0 |  5.5 | 20.2 |  1.8 | 4 | 190 |\n",
       "| 25.0 |  4.2 | 10.1 |  1.3 | 1 | 205 |\n",
       "|  2.7 |  6.1 | 12.4 |  0.7 | 1 | 205 |\n",
       "| 16.5 |  5.1 |  8.3 |  5.6 | 1 | 205 |\n",
       "| 17.6 | 13.4 |  5.0 |  2.5 | 1 | 205 |\n",
       "|  1.6 |  0.9 | 24.0 |  2.1 | 2 | 205 |\n",
       "|  3.8 |  2.0 | 24.0 |  0.1 | 2 | 205 |\n",
       "|  1.0 |  2.9 | 24.0 |  1.2 | 2 | 205 |\n",
       "|  3.9 |  2.4 | 11.1 |  1.6 | 2 | 205 |\n",
       "|  0.5 |  0.4 | 23.0 |  0.1 | 2 | 205 |\n",
       "| ⋮ | ⋮ | ⋮ | ⋮ | ⋮ | ⋮ |\n",
       "|  1.8 |  1.9 | 23.6 |  0.7 | 1 | 200.0 |\n",
       "| 23.9 | 12.2 |  8.3 |  0.9 | 1 | 200.0 |\n",
       "| 23.1 |  6.2 | 14.8 |  0.7 | 1 | 200.0 |\n",
       "| 15.2 |  3.0 |  3.0 |  4.0 | 1 | 200.0 |\n",
       "| 19.2 |  6.3 | 14.3 |  2.2 | 1 | 200.0 |\n",
       "| 23.8 |  5.1 | 13.4 | 10.6 | 2 | 200.0 |\n",
       "| 26.1 |  5.7 |  7.0 |  0.8 | 3 | 200.0 |\n",
       "| 24.1 |  5.0 |  6.6 |  0.8 | 4 | 200.0 |\n",
       "| 25.0 |  3.1 |  4.2 |  0.3 | 4 | 200.0 |\n",
       "| 24.1 | 15.8 | 17.2 |  3.2 | 4 | 200.0 |\n",
       "| 26.4 |  5.7 |  6.6 |  4.4 | 5 | 200.0 |\n",
       "|  4.1 |  2.0 | 20.0 |  4.3 | 1 | 187.5 |\n",
       "|  3.9 |  2.8 | 16.5 |  8.0 | 1 | 187.5 |\n",
       "| 24.3 |  3.0 | 13.0 |  1.0 | 1 | 187.5 |\n",
       "| 25.9 |  8.7 |  9.0 |  0.9 | 2 | 187.5 |\n",
       "|  1.3 |  3.2 | 10.7 | 13.5 | 2 | 187.5 |\n",
       "|  3.9 |  2.7 | 16.1 |  1.6 | 3 | 187.5 |\n",
       "| 28.2 |  4.8 | 16.8 |  3.3 | 3 | 187.5 |\n",
       "|  2.9 |  2.4 | 11.3 | 12.6 | 3 | 187.5 |\n",
       "| 26.7 |  6.3 | 13.9 |  2.5 | 4 | 187.5 |\n",
       "| 26.8 |  2.3 | 22.9 |  1.2 | 4 | 187.5 |\n",
       "| 23.8 |  3.8 | 19.7 |  4.4 | 4 | 187.5 |\n",
       "| 22.9 |  7.3 | 14.8 |  1.0 | 5 | 187.5 |\n",
       "|  2.5 |  7.3 | 14.5 |  0.3 | 5 | 187.5 |\n",
       "|  2.8 |  2.6 |  5.4 |  1.1 | 1 | 210.0 |\n",
       "| 17.2 |  5.1 | 11.0 |  1.0 | 1 | 210.0 |\n",
       "|  4.9 |  1.8 | 10.5 |  1.5 | 2 | 210.0 |\n",
       "|  9.3 |  3.3 | 12.0 |  3.2 | 3 | 210.0 |\n",
       "|  3.7 |  2.5 | 11.6 |  1.2 | 3 | 210.0 |\n",
       "| 14.6 |  3.9 | 10.0 |  1.3 | 4 | 210.0 |\n",
       "\n"
      ],
      "text/plain": [
       "       SHOT_DIST CLOSE_DEF_DIST SHOT_CLOCK TOUCH_TIME PERIOD Height\n",
       "1       3.6       1.7           11.3        0.8       1      210   \n",
       "2       0.9       2.0           13.0        2.9       1      210   \n",
       "3       0.8       2.6           11.5        0.6       1      210   \n",
       "4       3.4       1.5           21.6        0.6       1      210   \n",
       "5       2.6       4.5           15.9        0.8       1      210   \n",
       "6       2.7       1.7           24.0        1.1       1      210   \n",
       "7       1.2       3.6           22.6        0.3       2      210   \n",
       "8       2.3       2.1           23.1        2.0       2      210   \n",
       "9       3.6       2.2            8.4        6.5       3      210   \n",
       "10      0.6       1.4           23.6        0.9       4      210   \n",
       "11     24.1       4.8           16.8        1.7       1      190   \n",
       "12      3.6       2.0           12.7       10.5       2      190   \n",
       "13     20.6       4.0           11.5        4.4       2      190   \n",
       "14      1.3       3.3           14.0        9.8       2      190   \n",
       "15      2.8       3.5           20.7        1.2       3      190   \n",
       "16     20.9       6.7           10.7        0.9       3      190   \n",
       "17     16.0       2.8           14.4        9.4       3      190   \n",
       "18      3.4       1.9           15.6        8.3       3      190   \n",
       "19     23.8       3.8           15.9        2.5       3      190   \n",
       "20     23.4       5.2           18.2        0.7       4      190   \n",
       "21      4.0       5.5           20.2        1.8       4      190   \n",
       "22     25.0       4.2           10.1        1.3       1      205   \n",
       "23      2.7       6.1           12.4        0.7       1      205   \n",
       "24     16.5       5.1            8.3        5.6       1      205   \n",
       "25     17.6      13.4            5.0        2.5       1      205   \n",
       "26      1.6       0.9           24.0        2.1       2      205   \n",
       "27      3.8       2.0           24.0        0.1       2      205   \n",
       "28      1.0       2.9           24.0        1.2       2      205   \n",
       "29      3.9       2.4           11.1        1.6       2      205   \n",
       "30      0.5       0.4           23.0        0.1       2      205   \n",
       "⋮      ⋮         ⋮              ⋮          ⋮          ⋮      ⋮     \n",
       "130579  1.8       1.9           23.6        0.7       1      200.0 \n",
       "130580 23.9      12.2            8.3        0.9       1      200.0 \n",
       "130581 23.1       6.2           14.8        0.7       1      200.0 \n",
       "130582 15.2       3.0            3.0        4.0       1      200.0 \n",
       "130583 19.2       6.3           14.3        2.2       1      200.0 \n",
       "130584 23.8       5.1           13.4       10.6       2      200.0 \n",
       "130585 26.1       5.7            7.0        0.8       3      200.0 \n",
       "130586 24.1       5.0            6.6        0.8       4      200.0 \n",
       "130587 25.0       3.1            4.2        0.3       4      200.0 \n",
       "130588 24.1      15.8           17.2        3.2       4      200.0 \n",
       "130589 26.4       5.7            6.6        4.4       5      200.0 \n",
       "130590  4.1       2.0           20.0        4.3       1      187.5 \n",
       "130591  3.9       2.8           16.5        8.0       1      187.5 \n",
       "130592 24.3       3.0           13.0        1.0       1      187.5 \n",
       "130593 25.9       8.7            9.0        0.9       2      187.5 \n",
       "130594  1.3       3.2           10.7       13.5       2      187.5 \n",
       "130595  3.9       2.7           16.1        1.6       3      187.5 \n",
       "130596 28.2       4.8           16.8        3.3       3      187.5 \n",
       "130597  2.9       2.4           11.3       12.6       3      187.5 \n",
       "130598 26.7       6.3           13.9        2.5       4      187.5 \n",
       "130599 26.8       2.3           22.9        1.2       4      187.5 \n",
       "130600 23.8       3.8           19.7        4.4       4      187.5 \n",
       "130601 22.9       7.3           14.8        1.0       5      187.5 \n",
       "130602  2.5       7.3           14.5        0.3       5      187.5 \n",
       "130603  2.8       2.6            5.4        1.1       1      210.0 \n",
       "130604 17.2       5.1           11.0        1.0       1      210.0 \n",
       "130605  4.9       1.8           10.5        1.5       2      210.0 \n",
       "130606  9.3       3.3           12.0        3.2       3      210.0 \n",
       "130607  3.7       2.5           11.6        1.2       3      210.0 \n",
       "130608 14.6       3.9           10.0        1.3       4      210.0 "
      ]
     },
     "metadata": {},
     "output_type": "display_data"
    }
   ],
   "source": [
    "predictors <- c(\"PLAYER_NAME\", \"SHOT_DIST\", \"CLOSE_DEF_DIST\", \"SHOT_CLOCK\", \"TOUCH_TIME\", \"PERIOD\")\n",
    "\n",
    "model_data <- clean_shots %>% \n",
    "    select(all_of(predictors)) %>%\n",
    "    left_join(player_info %>% select(PLAYER_NAME, Height), by=\"PLAYER_NAME\", relationship = \"many-to-many\") %>%\n",
    "    select(!PLAYER_NAME)\n",
    "\n",
    "\n",
    "set.seed(0)\n",
    "train_idx <- sample(1:nrow(clean_shots_scaled), 0.7 * nrow(clean_shots_scaled))\n",
    "train_data <- clean_shots_scaled[train_idx, ]\n",
    "test_data <- clean_shots_scaled[-train_idx, ]\n",
    "\n"
   ]
  },
  {
   "cell_type": "code",
   "execution_count": null,
   "id": "716a844f",
   "metadata": {
    "vscode": {
     "languageId": "r"
    }
   },
   "outputs": [],
   "source": [
    "log_model <- glm(SUCCESS ~ SHOT_DIST + CLOSE_DEF_DIST + SHOT_CLOCK + TOUCH_TIME, data=clean_shots, family=\"binomial\")\n",
    "log_mm_model <- glmer(SUCCESS ~ SHOT_DIST + CLOSE_DEF_DIST + SHOT_CLOCK + TOUCH_TIME + PERIOD +\n",
    "                      (SHOT_DIST | PLAYER_ID),\n",
    "                    data = train_data,\n",
    "                    family=binomial(link = \"logit\"))\n",
    "\n",
    "summary(log_mm_model)\n",
    "test_data$pred_prob <- predict(log_mm_model, type = \"response\", newdata=test_data)\n",
    "roc(SUCCESS ~ pred_prob, data = test_data)"
   ]
  },
  {
   "cell_type": "code",
   "execution_count": 8,
   "id": "8624de99",
   "metadata": {
    "vscode": {
     "languageId": "r"
    }
   },
   "outputs": [
    {
     "data": {
      "image/png": "[encoded data removed]",
      "text/plain": [
       "plot without title"
      ]
     },
     "metadata": {
      "image/png": {
       "height": 420,
       "width": 600
      }
     },
     "output_type": "display_data"
    }
   ],
   "source": [
    "ggplot(clean_shots, aes(x=SHOT_DIST, y=TOUCH_TIME)) + \n",
    "    geom_point()"
   ]
  }
 ],
 "metadata": {
  "kernelspec": {
   "display_name": "R",
   "language": "R",
   "name": "ir"
  },
  "language_info": {
   "codemirror_mode": "r",
   "file_extension": ".r",
   "mimetype": "text/x-r-source",
   "name": "R",
   "pygments_lexer": "r",
   "version": "4.4.3"
  }
 },
 "nbformat": 4,
 "nbformat_minor": 5
}
